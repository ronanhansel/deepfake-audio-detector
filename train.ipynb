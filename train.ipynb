{
 "cells": [
  {
   "cell_type": "code",
   "execution_count": 108,
   "metadata": {},
   "outputs": [],
   "source": [
    "import pandas as pd\n",
    "import numpy as np\n",
    "import matplotlib.pyplot as plt\n",
    "import seaborn as sns"
   ]
  },
  {
   "cell_type": "code",
   "execution_count": 109,
   "metadata": {},
   "outputs": [],
   "source": [
    "df = pd.read_csv('./output/data/merged_df.csv')"
   ]
  },
  {
   "cell_type": "code",
   "execution_count": 110,
   "metadata": {},
   "outputs": [
    {
     "data": {
      "text/plain": [
       "Index(['file_path', 'sampling_rate', 'rms', 'dbfs', 'label', 'duration',\n",
       "       'mfcc_1_mean', 'mfcc_2_mean', 'mfcc_3_mean', 'mfcc_4_mean',\n",
       "       'mfcc_5_mean', 'mfcc_6_mean', 'mfcc_7_mean', 'mfcc_8_mean',\n",
       "       'mfcc_9_mean', 'mfcc_10_mean', 'mfcc_11_mean', 'mfcc_12_mean',\n",
       "       'mfcc_13_mean', 'mfcc_14_mean', 'mfcc_15_mean', 'mfcc_16_mean',\n",
       "       'mfcc_17_mean', 'mfcc_18_mean', 'mfcc_19_mean', 'mfcc_20_mean',\n",
       "       'mfcc_21_mean', 'mfcc_22_mean', 'mfcc_23_mean', 'mfcc_24_mean',\n",
       "       'mfcc_25_mean', 'mfcc_26_mean', 'mfcc_27_mean', 'mfcc_28_mean',\n",
       "       'mfcc_29_mean', 'mfcc_30_mean'],\n",
       "      dtype='object')"
      ]
     },
     "execution_count": 110,
     "metadata": {},
     "output_type": "execute_result"
    }
   ],
   "source": [
    "df.columns"
   ]
  },
  {
   "cell_type": "code",
   "execution_count": 111,
   "metadata": {},
   "outputs": [
    {
     "data": {
      "text/html": [
       "<div>\n",
       "<style scoped>\n",
       "    .dataframe tbody tr th:only-of-type {\n",
       "        vertical-align: middle;\n",
       "    }\n",
       "\n",
       "    .dataframe tbody tr th {\n",
       "        vertical-align: top;\n",
       "    }\n",
       "\n",
       "    .dataframe thead th {\n",
       "        text-align: right;\n",
       "    }\n",
       "</style>\n",
       "<table border=\"1\" class=\"dataframe\">\n",
       "  <thead>\n",
       "    <tr style=\"text-align: right;\">\n",
       "      <th></th>\n",
       "      <th>rms</th>\n",
       "      <th>dbfs</th>\n",
       "      <th>label</th>\n",
       "      <th>duration</th>\n",
       "      <th>mfcc_1_mean</th>\n",
       "      <th>mfcc_2_mean</th>\n",
       "      <th>mfcc_3_mean</th>\n",
       "      <th>mfcc_4_mean</th>\n",
       "      <th>mfcc_5_mean</th>\n",
       "      <th>mfcc_6_mean</th>\n",
       "      <th>...</th>\n",
       "      <th>mfcc_21_mean</th>\n",
       "      <th>mfcc_22_mean</th>\n",
       "      <th>mfcc_23_mean</th>\n",
       "      <th>mfcc_24_mean</th>\n",
       "      <th>mfcc_25_mean</th>\n",
       "      <th>mfcc_26_mean</th>\n",
       "      <th>mfcc_27_mean</th>\n",
       "      <th>mfcc_28_mean</th>\n",
       "      <th>mfcc_29_mean</th>\n",
       "      <th>mfcc_30_mean</th>\n",
       "    </tr>\n",
       "  </thead>\n",
       "  <tbody>\n",
       "    <tr>\n",
       "      <th>0</th>\n",
       "      <td>0.061510</td>\n",
       "      <td>-24.220951</td>\n",
       "      <td>1</td>\n",
       "      <td>6.840000</td>\n",
       "      <td>-304.358915</td>\n",
       "      <td>113.718140</td>\n",
       "      <td>-44.019962</td>\n",
       "      <td>28.249969</td>\n",
       "      <td>13.647294</td>\n",
       "      <td>-13.235131</td>\n",
       "      <td>...</td>\n",
       "      <td>-7.866895</td>\n",
       "      <td>-11.568779</td>\n",
       "      <td>-7.241586</td>\n",
       "      <td>-3.500644</td>\n",
       "      <td>-8.572959</td>\n",
       "      <td>-7.769196</td>\n",
       "      <td>-6.200805</td>\n",
       "      <td>-9.601032</td>\n",
       "      <td>-1.045484</td>\n",
       "      <td>1.696635</td>\n",
       "    </tr>\n",
       "    <tr>\n",
       "      <th>1</th>\n",
       "      <td>0.060355</td>\n",
       "      <td>-24.385653</td>\n",
       "      <td>1</td>\n",
       "      <td>6.070000</td>\n",
       "      <td>-288.427907</td>\n",
       "      <td>156.791671</td>\n",
       "      <td>-42.139863</td>\n",
       "      <td>21.732570</td>\n",
       "      <td>9.173440</td>\n",
       "      <td>-37.566173</td>\n",
       "      <td>...</td>\n",
       "      <td>-10.789220</td>\n",
       "      <td>-11.148569</td>\n",
       "      <td>-9.278637</td>\n",
       "      <td>-7.561083</td>\n",
       "      <td>-6.570046</td>\n",
       "      <td>-6.295412</td>\n",
       "      <td>-5.074236</td>\n",
       "      <td>-3.588240</td>\n",
       "      <td>-3.976979</td>\n",
       "      <td>-4.318006</td>\n",
       "    </tr>\n",
       "    <tr>\n",
       "      <th>2</th>\n",
       "      <td>0.034738</td>\n",
       "      <td>-29.183570</td>\n",
       "      <td>1</td>\n",
       "      <td>5.920000</td>\n",
       "      <td>-313.740666</td>\n",
       "      <td>133.639548</td>\n",
       "      <td>-45.765415</td>\n",
       "      <td>-0.657096</td>\n",
       "      <td>-4.961578</td>\n",
       "      <td>-27.818684</td>\n",
       "      <td>...</td>\n",
       "      <td>-7.803355</td>\n",
       "      <td>-3.843508</td>\n",
       "      <td>-4.639575</td>\n",
       "      <td>-5.083332</td>\n",
       "      <td>-2.645830</td>\n",
       "      <td>-3.523515</td>\n",
       "      <td>-4.064678</td>\n",
       "      <td>-1.823462</td>\n",
       "      <td>-1.784046</td>\n",
       "      <td>-3.711713</td>\n",
       "    </tr>\n",
       "    <tr>\n",
       "      <th>3</th>\n",
       "      <td>0.101507</td>\n",
       "      <td>-19.870003</td>\n",
       "      <td>1</td>\n",
       "      <td>9.849958</td>\n",
       "      <td>-338.537021</td>\n",
       "      <td>110.281378</td>\n",
       "      <td>-26.435818</td>\n",
       "      <td>7.775438</td>\n",
       "      <td>12.001120</td>\n",
       "      <td>-15.174507</td>\n",
       "      <td>...</td>\n",
       "      <td>-6.991075</td>\n",
       "      <td>-4.928947</td>\n",
       "      <td>-4.918112</td>\n",
       "      <td>-5.376414</td>\n",
       "      <td>-5.329774</td>\n",
       "      <td>-4.305240</td>\n",
       "      <td>-3.679742</td>\n",
       "      <td>-3.917728</td>\n",
       "      <td>-2.481780</td>\n",
       "      <td>-1.619357</td>\n",
       "    </tr>\n",
       "    <tr>\n",
       "      <th>4</th>\n",
       "      <td>0.027996</td>\n",
       "      <td>-31.057756</td>\n",
       "      <td>1</td>\n",
       "      <td>5.529958</td>\n",
       "      <td>-288.439310</td>\n",
       "      <td>117.138681</td>\n",
       "      <td>-53.475615</td>\n",
       "      <td>14.721516</td>\n",
       "      <td>-4.198275</td>\n",
       "      <td>-40.303515</td>\n",
       "      <td>...</td>\n",
       "      <td>-8.898795</td>\n",
       "      <td>-8.151491</td>\n",
       "      <td>-5.093298</td>\n",
       "      <td>0.412901</td>\n",
       "      <td>0.513141</td>\n",
       "      <td>1.108503</td>\n",
       "      <td>1.737505</td>\n",
       "      <td>-0.865436</td>\n",
       "      <td>0.617007</td>\n",
       "      <td>0.743553</td>\n",
       "    </tr>\n",
       "  </tbody>\n",
       "</table>\n",
       "<p>5 rows × 34 columns</p>\n",
       "</div>"
      ],
      "text/plain": [
       "        rms       dbfs  label  duration  mfcc_1_mean  mfcc_2_mean  \\\n",
       "0  0.061510 -24.220951      1  6.840000  -304.358915   113.718140   \n",
       "1  0.060355 -24.385653      1  6.070000  -288.427907   156.791671   \n",
       "2  0.034738 -29.183570      1  5.920000  -313.740666   133.639548   \n",
       "3  0.101507 -19.870003      1  9.849958  -338.537021   110.281378   \n",
       "4  0.027996 -31.057756      1  5.529958  -288.439310   117.138681   \n",
       "\n",
       "   mfcc_3_mean  mfcc_4_mean  mfcc_5_mean  mfcc_6_mean  ...  mfcc_21_mean  \\\n",
       "0   -44.019962    28.249969    13.647294   -13.235131  ...     -7.866895   \n",
       "1   -42.139863    21.732570     9.173440   -37.566173  ...    -10.789220   \n",
       "2   -45.765415    -0.657096    -4.961578   -27.818684  ...     -7.803355   \n",
       "3   -26.435818     7.775438    12.001120   -15.174507  ...     -6.991075   \n",
       "4   -53.475615    14.721516    -4.198275   -40.303515  ...     -8.898795   \n",
       "\n",
       "   mfcc_22_mean  mfcc_23_mean  mfcc_24_mean  mfcc_25_mean  mfcc_26_mean  \\\n",
       "0    -11.568779     -7.241586     -3.500644     -8.572959     -7.769196   \n",
       "1    -11.148569     -9.278637     -7.561083     -6.570046     -6.295412   \n",
       "2     -3.843508     -4.639575     -5.083332     -2.645830     -3.523515   \n",
       "3     -4.928947     -4.918112     -5.376414     -5.329774     -4.305240   \n",
       "4     -8.151491     -5.093298      0.412901      0.513141      1.108503   \n",
       "\n",
       "   mfcc_27_mean  mfcc_28_mean  mfcc_29_mean  mfcc_30_mean  \n",
       "0     -6.200805     -9.601032     -1.045484      1.696635  \n",
       "1     -5.074236     -3.588240     -3.976979     -4.318006  \n",
       "2     -4.064678     -1.823462     -1.784046     -3.711713  \n",
       "3     -3.679742     -3.917728     -2.481780     -1.619357  \n",
       "4      1.737505     -0.865436      0.617007      0.743553  \n",
       "\n",
       "[5 rows x 34 columns]"
      ]
     },
     "execution_count": 111,
     "metadata": {},
     "output_type": "execute_result"
    }
   ],
   "source": [
    "# Drop the 'file_path' column\n",
    "data = df.drop(columns=['file_path', 'sampling_rate'])\n",
    "\n",
    "# Convert 'label' column values from 'fake' and 'real' to 0 and 1\n",
    "data['label'] = data['label'].apply(lambda x: 0 if x == 'fake' else 1)\n",
    "\n",
    "# Display the updated dataframe\n",
    "data.head()"
   ]
  },
  {
   "cell_type": "code",
   "execution_count": 112,
   "metadata": {},
   "outputs": [
    {
     "data": {
      "text/plain": [
       "(17423, 34)"
      ]
     },
     "execution_count": 112,
     "metadata": {},
     "output_type": "execute_result"
    }
   ],
   "source": [
    "data.shape"
   ]
  },
  {
   "cell_type": "code",
   "execution_count": 113,
   "metadata": {},
   "outputs": [],
   "source": [
    "features = data.drop(columns=['label', 'rms', 'dbfs', 'duration'], axis=1).copy()\n",
    "labels = data['label']"
   ]
  },
  {
   "cell_type": "code",
   "execution_count": 114,
   "metadata": {},
   "outputs": [
    {
     "data": {
      "text/plain": [
       "Index(['mfcc_1_mean', 'mfcc_2_mean', 'mfcc_3_mean', 'mfcc_4_mean',\n",
       "       'mfcc_5_mean', 'mfcc_6_mean', 'mfcc_7_mean', 'mfcc_8_mean',\n",
       "       'mfcc_9_mean', 'mfcc_10_mean', 'mfcc_11_mean', 'mfcc_12_mean',\n",
       "       'mfcc_13_mean', 'mfcc_14_mean', 'mfcc_15_mean', 'mfcc_16_mean',\n",
       "       'mfcc_17_mean', 'mfcc_18_mean', 'mfcc_19_mean', 'mfcc_20_mean',\n",
       "       'mfcc_21_mean', 'mfcc_22_mean', 'mfcc_23_mean', 'mfcc_24_mean',\n",
       "       'mfcc_25_mean', 'mfcc_26_mean', 'mfcc_27_mean', 'mfcc_28_mean',\n",
       "       'mfcc_29_mean', 'mfcc_30_mean'],\n",
       "      dtype='object')"
      ]
     },
     "execution_count": 114,
     "metadata": {},
     "output_type": "execute_result"
    }
   ],
   "source": [
    "features.columns"
   ]
  },
  {
   "cell_type": "code",
   "execution_count": 115,
   "metadata": {},
   "outputs": [],
   "source": [
    "from sklearn.model_selection import train_test_split\n",
    "from sklearn.preprocessing import StandardScaler, MinMaxScaler\n",
    "from tensorflow import keras\n",
    "import matplotlib.pyplot as plt\n",
    "from tensorflow import keras\n",
    "from keras.models import Sequential\n",
    "from keras.layers import Input, LSTM, Bidirectional, Dropout, Dense\n",
    "from keras.callbacks import EarlyStopping, ModelCheckpoint, LearningRateScheduler\n",
    "from tensorflow.keras.preprocessing.sequence import pad_sequences\n",
    "from keras.regularizers import l2\n",
    "from keras.optimizers import Adam\n",
    "from keras.losses import BinaryCrossentropy\n",
    "from utils import create_sequences\n",
    "import pickle"
   ]
  },
  {
   "cell_type": "code",
   "execution_count": 116,
   "metadata": {},
   "outputs": [
    {
     "name": "stdout",
     "output_type": "stream",
     "text": [
      "(17423, 30)\n"
     ]
    }
   ],
   "source": [
    "# 1. Create sequences\n",
    "sequence_length = 10  # Example value, adjust as needed\n",
    "overlap = 5  # Example value, adjust as needed\n",
    "print(features.shape)\n",
    "sequences, indices = create_sequences(features, sequence_length, overlap)\n",
    "labels = labels[indices]\n",
    "\n",
    "# 2. Pad sequences\n",
    "padded_sequences = pad_sequences(\n",
    "    sequences, maxlen=2, padding=\"pre\", truncating=\"post\"\n",
    ")\n",
    "\n",
    "# 1. First split the data\n",
    "X_train, X_val, y_train, y_val = train_test_split(\n",
    "    padded_sequences, \n",
    "    labels,\n",
    "    test_size=0.2,\n",
    "    random_state=42,\n",
    "    stratify=labels\n",
    ")\n",
    "\n",
    "# 2. Fit scaler only on training data\n",
    "scaler = StandardScaler()\n",
    "X_train_reshaped = X_train.reshape(X_train.shape[0], -1)\n",
    "X_val_reshaped = X_val.reshape(X_val.shape[0], -1)\n",
    "\n",
    "# Fit on training, transform both\n",
    "X_train_scaled = scaler.fit_transform(X_train_reshaped)\n",
    "X_val_scaled = scaler.transform(X_val_reshaped)\n",
    "\n",
    "# 3. Reshape back\n",
    "X_train_scaled = X_train_scaled.reshape(X_train.shape)\n",
    "X_val_scaled = X_val_scaled.reshape(X_val.shape)"
   ]
  },
  {
   "cell_type": "code",
   "execution_count": 117,
   "metadata": {},
   "outputs": [],
   "source": [
    "# 2. Create LSTM model\n",
    "model = Sequential()\n",
    "input_shape = (padded_sequences.shape[1], padded_sequences.shape[2])\n",
    "model.add(Input(shape=input_shape))\n",
    "model.add(Bidirectional(LSTM(64, return_sequences=True)))\n",
    "model.add(Dropout(0.2))\n",
    "model.add(Bidirectional(LSTM(64, return_sequences=True)))\n",
    "model.add(Dropout(0.2))\n",
    "model.add(Bidirectional(LSTM(64, return_sequences=False)))\n",
    "model.add(Dense(32, activation='relu', kernel_regularizer='l2'))\n",
    "model.add(Dense(1, activation='sigmoid'))\n",
    "\n",
    "# 3. Compile model\n",
    "model.compile(optimizer=keras.optimizers.Adam(learning_rate=0.001, clipvalue=1.0), loss=\"binary_crossentropy\", metrics=[\"accuracy\"])"
   ]
  },
  {
   "cell_type": "code",
   "execution_count": null,
   "metadata": {},
   "outputs": [
    {
     "name": "stdout",
     "output_type": "stream",
     "text": [
      "Epoch 1/100\n",
      "\u001b[1m88/88\u001b[0m \u001b[32m━━━━━━━━━━━━━━━━━━━━\u001b[0m\u001b[37m\u001b[0m \u001b[1m22s\u001b[0m 196ms/step - accuracy: 0.7226 - loss: 0.9838 - val_accuracy: 0.8364 - val_loss: 0.4955 - learning_rate: 0.0010\n",
      "Epoch 2/100\n",
      "\u001b[1m88/88\u001b[0m \u001b[32m━━━━━━━━━━━━━━━━━━━━\u001b[0m\u001b[37m\u001b[0m \u001b[1m16s\u001b[0m 180ms/step - accuracy: 0.8695 - loss: 0.4175 - val_accuracy: 0.8522 - val_loss: 0.3601 - learning_rate: 0.0010\n",
      "Epoch 3/100\n",
      "\u001b[1m88/88\u001b[0m \u001b[32m━━━━━━━━━━━━━━━━━━━━\u001b[0m\u001b[37m\u001b[0m \u001b[1m16s\u001b[0m 181ms/step - accuracy: 0.8933 - loss: 0.2991 - val_accuracy: 0.8637 - val_loss: 0.3188 - learning_rate: 0.0010\n",
      "Epoch 4/100\n",
      "\u001b[1m88/88\u001b[0m \u001b[32m━━━━━━━━━━━━━━━━━━━━\u001b[0m\u001b[37m\u001b[0m \u001b[1m16s\u001b[0m 177ms/step - accuracy: 0.9068 - loss: 0.2424 - val_accuracy: 0.8694 - val_loss: 0.3134 - learning_rate: 2.0000e-04\n",
      "Epoch 5/100\n",
      "\u001b[1m88/88\u001b[0m \u001b[32m━━━━━━━━━━━━━━━━━━━━\u001b[0m\u001b[37m\u001b[0m \u001b[1m16s\u001b[0m 185ms/step - accuracy: 0.9146 - loss: 0.2311 - val_accuracy: 0.8780 - val_loss: 0.3239 - learning_rate: 2.0000e-04\n",
      "Epoch 6/100\n",
      "\u001b[1m88/88\u001b[0m \u001b[32m━━━━━━━━━━━━━━━━━━━━\u001b[0m\u001b[37m\u001b[0m \u001b[1m16s\u001b[0m 181ms/step - accuracy: 0.9172 - loss: 0.2108 - val_accuracy: 0.8766 - val_loss: 0.3073 - learning_rate: 2.0000e-04\n",
      "Epoch 7/100\n",
      "\u001b[1m88/88\u001b[0m \u001b[32m━━━━━━━━━━━━━━━━━━━━\u001b[0m\u001b[37m\u001b[0m \u001b[1m16s\u001b[0m 177ms/step - accuracy: 0.9299 - loss: 0.2016 - val_accuracy: 0.8709 - val_loss: 0.3107 - learning_rate: 4.0000e-05\n",
      "Epoch 8/100\n",
      "\u001b[1m88/88\u001b[0m \u001b[32m━━━━━━━━━━━━━━━━━━━━\u001b[0m\u001b[37m\u001b[0m \u001b[1m15s\u001b[0m 175ms/step - accuracy: 0.9224 - loss: 0.2101 - val_accuracy: 0.8680 - val_loss: 0.3140 - learning_rate: 4.0000e-05\n",
      "Epoch 9/100\n",
      "\u001b[1m88/88\u001b[0m \u001b[32m━━━━━━━━━━━━━━━━━━━━\u001b[0m\u001b[37m\u001b[0m \u001b[1m15s\u001b[0m 176ms/step - accuracy: 0.9248 - loss: 0.2127 - val_accuracy: 0.8680 - val_loss: 0.3137 - learning_rate: 4.0000e-05\n",
      "Epoch 10/100\n",
      "\u001b[1m88/88\u001b[0m \u001b[32m━━━━━━━━━━━━━━━━━━━━\u001b[0m\u001b[37m\u001b[0m \u001b[1m15s\u001b[0m 176ms/step - accuracy: 0.9234 - loss: 0.1967 - val_accuracy: 0.8680 - val_loss: 0.3139 - learning_rate: 8.0000e-06\n",
      "Epoch 11/100\n",
      "\u001b[1m88/88\u001b[0m \u001b[32m━━━━━━━━━━━━━━━━━━━━\u001b[0m\u001b[37m\u001b[0m \u001b[1m16s\u001b[0m 177ms/step - accuracy: 0.9140 - loss: 0.2165 - val_accuracy: 0.8680 - val_loss: 0.3137 - learning_rate: 8.0000e-06\n"
     ]
    }
   ],
   "source": [
    "# Callbacks\n",
    "early_stopping = EarlyStopping(monitor=\"val_loss\", patience=5, restore_best_weights=True)\n",
    "model_checkpoint = ModelCheckpoint(\"best_model.keras\", save_best_only=True, monitor=\"val_loss\")\n",
    "def scheduler(epoch, lr):\n",
    "    if epoch > 0 and epoch % 3 == 0:\n",
    "        return lr * 0.2\n",
    "    return lr\n",
    "\n",
    "reduce_lr = LearningRateScheduler(scheduler)\n",
    "\n",
    "# 4. Training with separate validation data\n",
    "history = model.fit(\n",
    "    X_train_scaled,\n",
    "    y_train,\n",
    "    epochs=100,\n",
    "    batch_size=32,\n",
    "    shuffle=True,\n",
    "    validation_data=(X_val_scaled, y_val),\n",
    "    callbacks=[early_stopping, model_checkpoint, reduce_lr]\n",
    ")\n",
    "\n",
    "with open('./output/scaler.pkl', 'wb') as f:\n",
    "    pickle.dump(scaler, f)\n",
    "\n",
    "with open('./output/history.pkl', 'wb') as f:\n",
    "    pickle.dump(history.history, f)"
   ]
  },
  {
   "cell_type": "code",
   "execution_count": 119,
   "metadata": {},
   "outputs": [
    {
     "data": {
      "image/png": "[encoded data removed]",
      "text/plain": [
       "<Figure size 1200x600 with 2 Axes>"
      ]
     },
     "metadata": {},
     "output_type": "display_data"
    }
   ],
   "source": [
    "# Plot training & validation accuracy values\n",
    "plt.figure(figsize=(12, 6))\n",
    "plt.subplot(1, 2, 1)\n",
    "plt.plot(history.history['accuracy'])\n",
    "plt.plot(history.history['val_accuracy'])\n",
    "plt.title('Model accuracy')\n",
    "plt.ylabel('Accuracy')\n",
    "plt.xlabel('Epoch')\n",
    "plt.legend(['Train', 'Validation'], loc='upper left')\n",
    "\n",
    "# Plot training & validation loss values\n",
    "plt.subplot(1, 2, 2)\n",
    "plt.plot(history.history['loss'])\n",
    "plt.plot(history.history['val_loss'])\n",
    "plt.title('Model loss')\n",
    "plt.ylabel('Loss')\n",
    "plt.xlabel('Epoch')\n",
    "plt.legend(['Train', 'Validation'], loc='upper left')\n",
    "\n",
    "plt.show()\n",
    "\n",
    "# # Evaluate\n",
    "# test_model = keras.models.load_model(\"best_model.keras\")\n",
    "# loss, accuracy = test_model.evaluate(X_test, y_test)\n",
    "# print(f\"Test Loss: {loss}\")\n",
    "# print(f\"Test Accuracy: {accuracy}\")"
   ]
  }
 ],
 "metadata": {
  "kernelspec": {
   "display_name": "venv",
   "language": "python",
   "name": "python3"
  },
  "language_info": {
   "codemirror_mode": {
    "name": "ipython",
    "version": 3
   },
   "file_extension": ".py",
   "mimetype": "text/x-python",
   "name": "python",
   "nbconvert_exporter": "python",
   "pygments_lexer": "ipython3",
   "version": "3.10.15"
  }
 },
 "nbformat": 4,
 "nbformat_minor": 2
}
