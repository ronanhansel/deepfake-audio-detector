{
 "cells": [
  {
   "cell_type": "code",
   "execution_count": 33,
   "metadata": {},
   "outputs": [
    {
     "name": "stderr",
     "output_type": "stream",
     "text": [
      "Processing GT files:   0%|          | 0/100 [00:00<?, ?it/s]c:\\Users\\Trinh Ha Phuong\\OneDrive - Hanoi University of Science and Technology\\Documents\\intro to AI\\deepfake-audio-detector\\utils.py:20: FutureWarning: get_duration() keyword argument 'filename' has been renamed to 'path' in version 0.10.0.\n",
      "\tThis alias will be removed in version 1.0.\n",
      "  duration = librosa.get_duration(filename=file_path)\n",
      "Processing GT files: 100%|██████████| 100/100 [00:02<00:00, 39.69it/s]\n",
      "Processing Diffwave files: 100%|██████████| 100/100 [00:02<00:00, 40.00it/s]"
     ]
    },
    {
     "name": "stdout",
     "output_type": "stream",
     "text": [
      "Selected GT files: ['voice_dataset/LibriSeVoc/gt\\\\887_123291_000025_000005.wav', 'voice_dataset/LibriSeVoc/gt\\\\887_123289_000007_000000.wav', 'voice_dataset/LibriSeVoc/gt\\\\8975_270782_000006_000001.wav', 'voice_dataset/LibriSeVoc/gt\\\\8975_270782_000015_000002.wav', 'voice_dataset/LibriSeVoc/gt\\\\887_123291_000018_000000.wav', 'voice_dataset/LibriSeVoc/gt\\\\887_123289_000033_000001.wav', 'voice_dataset/LibriSeVoc/gt\\\\887_123290_000019_000007.wav', 'voice_dataset/LibriSeVoc/gt\\\\8975_270782_000014_000001.wav', 'voice_dataset/LibriSeVoc/gt\\\\887_123291_000023_000000.wav', 'voice_dataset/LibriSeVoc/gt\\\\909_131041_000013_000000.wav', 'voice_dataset/LibriSeVoc/gt\\\\89_218_000004_000005.wav', 'voice_dataset/LibriSeVoc/gt\\\\89_219_000002_000002.wav', 'voice_dataset/LibriSeVoc/gt\\\\887_123290_000025_000001.wav', 'voice_dataset/LibriSeVoc/gt\\\\8975_270782_000005_000002.wav', 'voice_dataset/LibriSeVoc/gt\\\\887_123289_000042_000002.wav', 'voice_dataset/LibriSeVoc/gt\\\\8975_270782_000014_000000.wav', 'voice_dataset/LibriSeVoc/gt\\\\89_218_000014_000007.wav', 'voice_dataset/LibriSeVoc/gt\\\\8975_270782_000014_000004.wav', 'voice_dataset/LibriSeVoc/gt\\\\8975_270782_000004_000001.wav', 'voice_dataset/LibriSeVoc/gt\\\\887_123290_000019_000005.wav', 'voice_dataset/LibriSeVoc/gt\\\\8975_270782_000014_000008.wav', 'voice_dataset/LibriSeVoc/gt\\\\887_123289_000052_000002.wav', 'voice_dataset/LibriSeVoc/gt\\\\887_123290_000012_000005.wav', 'voice_dataset/LibriSeVoc/gt\\\\887_123290_000023_000002.wav', 'voice_dataset/LibriSeVoc/gt\\\\887_123291_000008_000000.wav', 'voice_dataset/LibriSeVoc/gt\\\\8975_270782_000008_000003.wav', 'voice_dataset/LibriSeVoc/gt\\\\8975_270782_000018_000004.wav', 'voice_dataset/LibriSeVoc/gt\\\\887_123289_000010_000002.wav', 'voice_dataset/LibriSeVoc/gt\\\\887_123289_000016_000000.wav', 'voice_dataset/LibriSeVoc/gt\\\\887_123289_000052_000001.wav', 'voice_dataset/LibriSeVoc/gt\\\\89_218_000014_000017.wav', 'voice_dataset/LibriSeVoc/gt\\\\8975_270782_000023_000000.wav', 'voice_dataset/LibriSeVoc/gt\\\\8975_270782_000011_000006.wav', 'voice_dataset/LibriSeVoc/gt\\\\8975_270782_000023_000004.wav', 'voice_dataset/LibriSeVoc/gt\\\\887_123290_000023_000000.wav', 'voice_dataset/LibriSeVoc/gt\\\\887_123291_000031_000003.wav', 'voice_dataset/LibriSeVoc/gt\\\\887_123289_000009_000000.wav', 'voice_dataset/LibriSeVoc/gt\\\\887_123290_000020_000003.wav', 'voice_dataset/LibriSeVoc/gt\\\\8975_270782_000018_000002.wav', 'voice_dataset/LibriSeVoc/gt\\\\887_123291_000014_000001.wav', 'voice_dataset/LibriSeVoc/gt\\\\887_123289_000043_000000.wav', 'voice_dataset/LibriSeVoc/gt\\\\887_123289_000066_000004.wav', 'voice_dataset/LibriSeVoc/gt\\\\887_123290_000020_000000.wav', 'voice_dataset/LibriSeVoc/gt\\\\887_123289_000041_000000.wav', 'voice_dataset/LibriSeVoc/gt\\\\887_123289_000057_000001.wav', 'voice_dataset/LibriSeVoc/gt\\\\887_123291_000029_000007.wav', 'voice_dataset/LibriSeVoc/gt\\\\887_123291_000011_000000.wav', 'voice_dataset/LibriSeVoc/gt\\\\887_123291_000030_000000.wav', 'voice_dataset/LibriSeVoc/gt\\\\887_123291_000028_000000.wav', 'voice_dataset/LibriSeVoc/gt\\\\887_123290_000013_000000.wav', 'voice_dataset/LibriSeVoc/gt\\\\887_123290_000002_000000.wav', 'voice_dataset/LibriSeVoc/gt\\\\887_123290_000019_000003.wav', 'voice_dataset/LibriSeVoc/gt\\\\887_123290_000022_000000.wav', 'voice_dataset/LibriSeVoc/gt\\\\887_123291_000009_000000.wav', 'voice_dataset/LibriSeVoc/gt\\\\887_123290_000004_000005.wav', 'voice_dataset/LibriSeVoc/gt\\\\887_123289_000011_000002.wav', 'voice_dataset/LibriSeVoc/gt\\\\8975_270782_000005_000001.wav', 'voice_dataset/LibriSeVoc/gt\\\\89_218_000012_000010.wav', 'voice_dataset/LibriSeVoc/gt\\\\887_123289_000066_000001.wav', 'voice_dataset/LibriSeVoc/gt\\\\909_131041_000012_000002.wav', 'voice_dataset/LibriSeVoc/gt\\\\8975_270782_000019_000006.wav', 'voice_dataset/LibriSeVoc/gt\\\\887_123291_000029_000004.wav', 'voice_dataset/LibriSeVoc/gt\\\\8975_270782_000020_000001.wav', 'voice_dataset/LibriSeVoc/gt\\\\887_123289_000038_000000.wav', 'voice_dataset/LibriSeVoc/gt\\\\887_123289_000059_000000.wav', 'voice_dataset/LibriSeVoc/gt\\\\887_123289_000034_000002.wav', 'voice_dataset/LibriSeVoc/gt\\\\887_123289_000015_000001.wav', 'voice_dataset/LibriSeVoc/gt\\\\887_123289_000038_000001.wav', 'voice_dataset/LibriSeVoc/gt\\\\8838_298546_000041_000000.wav', 'voice_dataset/LibriSeVoc/gt\\\\8975_270782_000021_000000.wav', 'voice_dataset/LibriSeVoc/gt\\\\887_123289_000047_000001.wav', 'voice_dataset/LibriSeVoc/gt\\\\8975_270782_000010_000001.wav', 'voice_dataset/LibriSeVoc/gt\\\\887_123290_000005_000000.wav', 'voice_dataset/LibriSeVoc/gt\\\\887_123291_000012_000001.wav', 'voice_dataset/LibriSeVoc/gt\\\\8975_270782_000007_000006.wav', 'voice_dataset/LibriSeVoc/gt\\\\887_123289_000010_000000.wav', 'voice_dataset/LibriSeVoc/gt\\\\887_123289_000029_000001.wav', 'voice_dataset/LibriSeVoc/gt\\\\8975_270782_000023_000001.wav', 'voice_dataset/LibriSeVoc/gt\\\\887_123291_000007_000002.wav', 'voice_dataset/LibriSeVoc/gt\\\\887_123290_000025_000003.wav', 'voice_dataset/LibriSeVoc/gt\\\\887_123289_000053_000000.wav', 'voice_dataset/LibriSeVoc/gt\\\\887_123291_000014_000000.wav', 'voice_dataset/LibriSeVoc/gt\\\\8975_270782_000010_000006.wav', 'voice_dataset/LibriSeVoc/gt\\\\887_123290_000023_000001.wav', 'voice_dataset/LibriSeVoc/gt\\\\8975_270782_000016_000000.wav', 'voice_dataset/LibriSeVoc/gt\\\\887_123289_000034_000003.wav', 'voice_dataset/LibriSeVoc/gt\\\\887_123290_000005_000001.wav', 'voice_dataset/LibriSeVoc/gt\\\\8975_270782_000022_000002.wav', 'voice_dataset/LibriSeVoc/gt\\\\8838_298546_000035_000000.wav', 'voice_dataset/LibriSeVoc/gt\\\\8975_270782_000018_000003.wav', 'voice_dataset/LibriSeVoc/gt\\\\8975_270782_000019_000004.wav', 'voice_dataset/LibriSeVoc/gt\\\\8838_298546_000045_000000.wav', 'voice_dataset/LibriSeVoc/gt\\\\8975_270782_000010_000002.wav', 'voice_dataset/LibriSeVoc/gt\\\\8975_270782_000017_000000.wav', 'voice_dataset/LibriSeVoc/gt\\\\887_123291_000025_000001.wav', 'voice_dataset/LibriSeVoc/gt\\\\8838_298546_000045_000002.wav', 'voice_dataset/LibriSeVoc/gt\\\\887_123290_000010_000003.wav', 'voice_dataset/LibriSeVoc/gt\\\\887_123289_000068_000005.wav', 'voice_dataset/LibriSeVoc/gt\\\\887_123289_000046_000000.wav', 'voice_dataset/LibriSeVoc/gt\\\\887_123291_000017_000001.wav']\n",
      "Selected Diffwave files: ['voice_dataset/LibriSeVoc/diffwave\\\\1088_129236_000028_000011_gen.wav', 'voice_dataset/LibriSeVoc/diffwave\\\\1040_133433_000138_000001_gen.wav', 'voice_dataset/LibriSeVoc/diffwave\\\\1034_121119_000010_000006_gen.wav', 'voice_dataset/LibriSeVoc/diffwave\\\\1069_133699_000056_000001_gen.wav', 'voice_dataset/LibriSeVoc/diffwave\\\\1069_133699_000062_000000_gen.wav', 'voice_dataset/LibriSeVoc/diffwave\\\\1088_129236_000007_000005_gen.wav', 'voice_dataset/LibriSeVoc/diffwave\\\\1088_129236_000019_000007_gen.wav', 'voice_dataset/LibriSeVoc/diffwave\\\\1088_129236_000003_000000_gen.wav', 'voice_dataset/LibriSeVoc/diffwave\\\\1040_133433_000164_000000_gen.wav', 'voice_dataset/LibriSeVoc/diffwave\\\\1088_129236_000007_000012_gen.wav', 'voice_dataset/LibriSeVoc/diffwave\\\\1088_129236_000008_000008_gen.wav', 'voice_dataset/LibriSeVoc/diffwave\\\\1069_133699_000004_000003_gen.wav', 'voice_dataset/LibriSeVoc/diffwave\\\\1069_133699_000045_000001_gen.wav', 'voice_dataset/LibriSeVoc/diffwave\\\\1088_129236_000018_000005_gen.wav', 'voice_dataset/LibriSeVoc/diffwave\\\\1040_133433_000072_000001_gen.wav', 'voice_dataset/LibriSeVoc/diffwave\\\\1040_133433_000076_000000_gen.wav', 'voice_dataset/LibriSeVoc/diffwave\\\\1069_133699_000067_000005_gen.wav', 'voice_dataset/LibriSeVoc/diffwave\\\\1088_129236_000008_000006_gen.wav', 'voice_dataset/LibriSeVoc/diffwave\\\\1088_129236_000017_000001_gen.wav', 'voice_dataset/LibriSeVoc/diffwave\\\\1040_133433_000095_000000_gen.wav', 'voice_dataset/LibriSeVoc/diffwave\\\\1069_133699_000035_000001_gen.wav', 'voice_dataset/LibriSeVoc/diffwave\\\\1088_129236_000009_000005_gen.wav', 'voice_dataset/LibriSeVoc/diffwave\\\\1069_133699_000066_000001_gen.wav', 'voice_dataset/LibriSeVoc/diffwave\\\\1088_129236_000026_000001_gen.wav', 'voice_dataset/LibriSeVoc/diffwave\\\\1069_133709_000043_000033_gen.wav', 'voice_dataset/LibriSeVoc/diffwave\\\\1069_133699_000060_000001_gen.wav', 'voice_dataset/LibriSeVoc/diffwave\\\\1069_133699_000067_000000_gen.wav', 'voice_dataset/LibriSeVoc/diffwave\\\\1088_129236_000028_000005_gen.wav', 'voice_dataset/LibriSeVoc/diffwave\\\\1040_133433_000065_000001_gen.wav', 'voice_dataset/LibriSeVoc/diffwave\\\\1040_133433_000105_000000_gen.wav', 'voice_dataset/LibriSeVoc/diffwave\\\\103_1241_000021_000000_gen.wav', 'voice_dataset/LibriSeVoc/diffwave\\\\1069_133699_000004_000005_gen.wav', 'voice_dataset/LibriSeVoc/diffwave\\\\1088_129236_000020_000013_gen.wav', 'voice_dataset/LibriSeVoc/diffwave\\\\1069_133699_000058_000000_gen.wav', 'voice_dataset/LibriSeVoc/diffwave\\\\1088_129236_000022_000000_gen.wav', 'voice_dataset/LibriSeVoc/diffwave\\\\1069_133699_000010_000000_gen.wav', 'voice_dataset/LibriSeVoc/diffwave\\\\1069_133699_000054_000001_gen.wav', 'voice_dataset/LibriSeVoc/diffwave\\\\1040_133433_000064_000000_gen.wav', 'voice_dataset/LibriSeVoc/diffwave\\\\1040_133433_000076_000001_gen.wav', 'voice_dataset/LibriSeVoc/diffwave\\\\1088_129236_000020_000002_gen.wav', 'voice_dataset/LibriSeVoc/diffwave\\\\1069_133699_000048_000000_gen.wav', 'voice_dataset/LibriSeVoc/diffwave\\\\1088_129236_000008_000004_gen.wav', 'voice_dataset/LibriSeVoc/diffwave\\\\1088_129236_000006_000007_gen.wav', 'voice_dataset/LibriSeVoc/diffwave\\\\1034_121119_000065_000003_gen.wav', 'voice_dataset/LibriSeVoc/diffwave\\\\1069_133699_000025_000000_gen.wav', 'voice_dataset/LibriSeVoc/diffwave\\\\1069_133699_000011_000001_gen.wav', 'voice_dataset/LibriSeVoc/diffwave\\\\1069_133709_000043_000030_gen.wav', 'voice_dataset/LibriSeVoc/diffwave\\\\1040_133433_000033_000000_gen.wav', 'voice_dataset/LibriSeVoc/diffwave\\\\1040_133433_000056_000000_gen.wav', 'voice_dataset/LibriSeVoc/diffwave\\\\1088_129236_000007_000002_gen.wav', 'voice_dataset/LibriSeVoc/diffwave\\\\1069_133699_000069_000001_gen.wav', 'voice_dataset/LibriSeVoc/diffwave\\\\1088_129236_000006_000001_gen.wav', 'voice_dataset/LibriSeVoc/diffwave\\\\1040_133433_000055_000000_gen.wav', 'voice_dataset/LibriSeVoc/diffwave\\\\1088_129236_000008_000003_gen.wav', 'voice_dataset/LibriSeVoc/diffwave\\\\103_1241_000042_000001_gen.wav', 'voice_dataset/LibriSeVoc/diffwave\\\\1040_133433_000157_000000_gen.wav', 'voice_dataset/LibriSeVoc/diffwave\\\\1069_133699_000067_000002_gen.wav', 'voice_dataset/LibriSeVoc/diffwave\\\\1034_121119_000040_000001_gen.wav', 'voice_dataset/LibriSeVoc/diffwave\\\\1088_129236_000019_000008_gen.wav', 'voice_dataset/LibriSeVoc/diffwave\\\\103_1241_000034_000005_gen.wav', 'voice_dataset/LibriSeVoc/diffwave\\\\1088_129236_000027_000000_gen.wav', 'voice_dataset/LibriSeVoc/diffwave\\\\1069_133699_000056_000000_gen.wav', 'voice_dataset/LibriSeVoc/diffwave\\\\1040_133433_000052_000001_gen.wav', 'voice_dataset/LibriSeVoc/diffwave\\\\1069_133699_000009_000000_gen.wav', 'voice_dataset/LibriSeVoc/diffwave\\\\103_1241_000004_000002_gen.wav', 'voice_dataset/LibriSeVoc/diffwave\\\\1088_129236_000006_000006_gen.wav', 'voice_dataset/LibriSeVoc/diffwave\\\\1069_133699_000051_000000_gen.wav', 'voice_dataset/LibriSeVoc/diffwave\\\\1088_129236_000026_000005_gen.wav', 'voice_dataset/LibriSeVoc/diffwave\\\\1069_133699_000053_000000_gen.wav', 'voice_dataset/LibriSeVoc/diffwave\\\\1088_129236_000028_000003_gen.wav', 'voice_dataset/LibriSeVoc/diffwave\\\\1088_129236_000006_000002_gen.wav', 'voice_dataset/LibriSeVoc/diffwave\\\\1040_133433_000072_000000_gen.wav', 'voice_dataset/LibriSeVoc/diffwave\\\\1088_129236_000026_000009_gen.wav', 'voice_dataset/LibriSeVoc/diffwave\\\\103_1241_000014_000003_gen.wav', 'voice_dataset/LibriSeVoc/diffwave\\\\1040_133433_000079_000000_gen.wav', 'voice_dataset/LibriSeVoc/diffwave\\\\1034_121119_000010_000004_gen.wav', 'voice_dataset/LibriSeVoc/diffwave\\\\1069_133699_000066_000010_gen.wav', 'voice_dataset/LibriSeVoc/diffwave\\\\1088_129236_000019_000000_gen.wav', 'voice_dataset/LibriSeVoc/diffwave\\\\1088_129236_000008_000000_gen.wav', 'voice_dataset/LibriSeVoc/diffwave\\\\1034_121119_000028_000001_gen.wav', 'voice_dataset/LibriSeVoc/diffwave\\\\1040_133433_000129_000000_gen.wav', 'voice_dataset/LibriSeVoc/diffwave\\\\1040_133433_000075_000002_gen.wav', 'voice_dataset/LibriSeVoc/diffwave\\\\1088_129236_000020_000010_gen.wav', 'voice_dataset/LibriSeVoc/diffwave\\\\1088_129236_000007_000001_gen.wav', 'voice_dataset/LibriSeVoc/diffwave\\\\103_1241_000054_000007_gen.wav', 'voice_dataset/LibriSeVoc/diffwave\\\\1088_129236_000028_000001_gen.wav', 'voice_dataset/LibriSeVoc/diffwave\\\\1040_133433_000113_000002_gen.wav', 'voice_dataset/LibriSeVoc/diffwave\\\\1088_129236_000007_000003_gen.wav', 'voice_dataset/LibriSeVoc/diffwave\\\\103_1241_000025_000007_gen.wav', 'voice_dataset/LibriSeVoc/diffwave\\\\1088_129236_000020_000007_gen.wav', 'voice_dataset/LibriSeVoc/diffwave\\\\103_1241_000017_000000_gen.wav', 'voice_dataset/LibriSeVoc/diffwave\\\\1069_133699_000067_000008_gen.wav', 'voice_dataset/LibriSeVoc/diffwave\\\\1088_129236_000018_000004_gen.wav', 'voice_dataset/LibriSeVoc/diffwave\\\\1069_133699_000052_000000_gen.wav', 'voice_dataset/LibriSeVoc/diffwave\\\\1088_129236_000005_000000_gen.wav', 'voice_dataset/LibriSeVoc/diffwave\\\\1040_133433_000071_000001_gen.wav', 'voice_dataset/LibriSeVoc/diffwave\\\\1040_133433_000115_000001_gen.wav', 'voice_dataset/LibriSeVoc/diffwave\\\\1088_129236_000018_000002_gen.wav', 'voice_dataset/LibriSeVoc/diffwave\\\\1069_133699_000016_000000_gen.wav', 'voice_dataset/LibriSeVoc/diffwave\\\\1040_133433_000103_000000_gen.wav']\n"
     ]
    },
    {
     "name": "stderr",
     "output_type": "stream",
     "text": [
      "\n"
     ]
    }
   ],
   "source": [
    "import tensorflow as tf\n",
    "from tensorflow.keras.models import load_model\n",
    "import numpy as np\n",
    "from utils import process_audio_files, create_sequences, AudioFeatureExtractor\n",
    "import os\n",
    "import random\n",
    "import pandas as pd\n",
    "from tqdm import tqdm\n",
    "\n",
    "NUM_LOAD = 100\n",
    "# Load the dataframe\n",
    "df = pd.read_csv('output/data/merged_df.csv')\n",
    "\n",
    "# Get the list of file paths from the dataframe\n",
    "file_paths = df['file_path'].tolist()\n",
    "\n",
    "# Directories containing the files\n",
    "gt_dir = 'voice_dataset/LibriSeVoc/gt'\n",
    "diffwave_dir = 'voice_dataset/LibriSeVoc/diffwave'\n",
    "\n",
    "# Initialize lists to store the selected files\n",
    "gt_files = []\n",
    "diffwave_files = []\n",
    "\n",
    "pbar = tqdm(total=NUM_LOAD)\n",
    "pbar.set_description(\"Processing GT files\")\n",
    "\n",
    "# Get list of files in each directory and filter based on criteria\n",
    "for f in reversed(os.listdir(gt_dir)):\n",
    "    file_path = os.path.join(gt_dir, f)\n",
    "    if file_path not in file_paths and AudioFeatureExtractor.get_audio_duration(file_path) <= 10:\n",
    "        gt_files.append(file_path)\n",
    "        pbar.update(1)\n",
    "        if len(gt_files) == NUM_LOAD:\n",
    "            break\n",
    "\n",
    "pbar.close()\n",
    "pbar = tqdm(total=100)\n",
    "pbar.set_description(\"Processing Diffwave files\")\n",
    "\n",
    "for f in os.listdir(diffwave_dir):\n",
    "    file_path = os.path.join(diffwave_dir, f)\n",
    "    if file_path not in file_paths and AudioFeatureExtractor.get_audio_duration(file_path) <= 10:\n",
    "        diffwave_files.append(file_path)\n",
    "        pbar.update(1)\n",
    "        if len(diffwave_files) == NUM_LOAD:\n",
    "            break\n",
    "pbar.close()\n",
    "\n",
    "# Randomly select 10 files from each directory\n",
    "selected_gt_files = random.sample(gt_files, NUM_LOAD)\n",
    "selected_diffwave_files = random.sample(diffwave_files, NUM_LOAD)\n",
    "\n",
    "print(\"Selected GT files:\", selected_gt_files)\n",
    "print(\"Selected Diffwave files:\", selected_diffwave_files)"
   ]
  },
  {
   "cell_type": "code",
   "execution_count": 34,
   "metadata": {},
   "outputs": [
    {
     "data": {
      "text/html": [
       "<pre style=\"white-space:pre;overflow-x:auto;line-height:normal;font-family:Menlo,'DejaVu Sans Mono',consolas,'Courier New',monospace\"><span style=\"font-weight: bold\">Model: \"sequential_19\"</span>\n",
       "</pre>\n"
      ],
      "text/plain": [
       "\u001b[1mModel: \"sequential_19\"\u001b[0m\n"
      ]
     },
     "metadata": {},
     "output_type": "display_data"
    },
    {
     "data": {
      "text/html": [
       "<pre style=\"white-space:pre;overflow-x:auto;line-height:normal;font-family:Menlo,'DejaVu Sans Mono',consolas,'Courier New',monospace\">┏━━━━━━━━━━━━━━━━━━━━━━━━━━━━━━━━━┳━━━━━━━━━━━━━━━━━━━━━━━━┳━━━━━━━━━━━━━━━┓\n",
       "┃<span style=\"font-weight: bold\"> Layer (type)                    </span>┃<span style=\"font-weight: bold\"> Output Shape           </span>┃<span style=\"font-weight: bold\">       Param # </span>┃\n",
       "┡━━━━━━━━━━━━━━━━━━━━━━━━━━━━━━━━━╇━━━━━━━━━━━━━━━━━━━━━━━━╇━━━━━━━━━━━━━━━┩\n",
       "│ lstm_54 (<span style=\"color: #0087ff; text-decoration-color: #0087ff\">LSTM</span>)                  │ (<span style=\"color: #00d7ff; text-decoration-color: #00d7ff\">None</span>, <span style=\"color: #00af00; text-decoration-color: #00af00\">2</span>, <span style=\"color: #00af00; text-decoration-color: #00af00\">128</span>)         │        <span style=\"color: #00af00; text-decoration-color: #00af00\">81,408</span> │\n",
       "├─────────────────────────────────┼────────────────────────┼───────────────┤\n",
       "│ dropout_53 (<span style=\"color: #0087ff; text-decoration-color: #0087ff\">Dropout</span>)            │ (<span style=\"color: #00d7ff; text-decoration-color: #00d7ff\">None</span>, <span style=\"color: #00af00; text-decoration-color: #00af00\">2</span>, <span style=\"color: #00af00; text-decoration-color: #00af00\">128</span>)         │             <span style=\"color: #00af00; text-decoration-color: #00af00\">0</span> │\n",
       "├─────────────────────────────────┼────────────────────────┼───────────────┤\n",
       "│ lstm_55 (<span style=\"color: #0087ff; text-decoration-color: #0087ff\">LSTM</span>)                  │ (<span style=\"color: #00d7ff; text-decoration-color: #00d7ff\">None</span>, <span style=\"color: #00af00; text-decoration-color: #00af00\">2</span>, <span style=\"color: #00af00; text-decoration-color: #00af00\">128</span>)         │       <span style=\"color: #00af00; text-decoration-color: #00af00\">131,584</span> │\n",
       "├─────────────────────────────────┼────────────────────────┼───────────────┤\n",
       "│ dropout_54 (<span style=\"color: #0087ff; text-decoration-color: #0087ff\">Dropout</span>)            │ (<span style=\"color: #00d7ff; text-decoration-color: #00d7ff\">None</span>, <span style=\"color: #00af00; text-decoration-color: #00af00\">2</span>, <span style=\"color: #00af00; text-decoration-color: #00af00\">128</span>)         │             <span style=\"color: #00af00; text-decoration-color: #00af00\">0</span> │\n",
       "├─────────────────────────────────┼────────────────────────┼───────────────┤\n",
       "│ lstm_56 (<span style=\"color: #0087ff; text-decoration-color: #0087ff\">LSTM</span>)                  │ (<span style=\"color: #00d7ff; text-decoration-color: #00d7ff\">None</span>, <span style=\"color: #00af00; text-decoration-color: #00af00\">128</span>)            │       <span style=\"color: #00af00; text-decoration-color: #00af00\">131,584</span> │\n",
       "├─────────────────────────────────┼────────────────────────┼───────────────┤\n",
       "│ dense_54 (<span style=\"color: #0087ff; text-decoration-color: #0087ff\">Dense</span>)                │ (<span style=\"color: #00d7ff; text-decoration-color: #00d7ff\">None</span>, <span style=\"color: #00af00; text-decoration-color: #00af00\">512</span>)            │        <span style=\"color: #00af00; text-decoration-color: #00af00\">66,048</span> │\n",
       "├─────────────────────────────────┼────────────────────────┼───────────────┤\n",
       "│ dropout_55 (<span style=\"color: #0087ff; text-decoration-color: #0087ff\">Dropout</span>)            │ (<span style=\"color: #00d7ff; text-decoration-color: #00d7ff\">None</span>, <span style=\"color: #00af00; text-decoration-color: #00af00\">512</span>)            │             <span style=\"color: #00af00; text-decoration-color: #00af00\">0</span> │\n",
       "├─────────────────────────────────┼────────────────────────┼───────────────┤\n",
       "│ dense_55 (<span style=\"color: #0087ff; text-decoration-color: #0087ff\">Dense</span>)                │ (<span style=\"color: #00d7ff; text-decoration-color: #00d7ff\">None</span>, <span style=\"color: #00af00; text-decoration-color: #00af00\">64</span>)             │        <span style=\"color: #00af00; text-decoration-color: #00af00\">32,832</span> │\n",
       "├─────────────────────────────────┼────────────────────────┼───────────────┤\n",
       "│ dense_56 (<span style=\"color: #0087ff; text-decoration-color: #0087ff\">Dense</span>)                │ (<span style=\"color: #00d7ff; text-decoration-color: #00d7ff\">None</span>, <span style=\"color: #00af00; text-decoration-color: #00af00\">1</span>)              │            <span style=\"color: #00af00; text-decoration-color: #00af00\">65</span> │\n",
       "└─────────────────────────────────┴────────────────────────┴───────────────┘\n",
       "</pre>\n"
      ],
      "text/plain": [
       "┏━━━━━━━━━━━━━━━━━━━━━━━━━━━━━━━━━┳━━━━━━━━━━━━━━━━━━━━━━━━┳━━━━━━━━━━━━━━━┓\n",
       "┃\u001b[1m \u001b[0m\u001b[1mLayer (type)                   \u001b[0m\u001b[1m \u001b[0m┃\u001b[1m \u001b[0m\u001b[1mOutput Shape          \u001b[0m\u001b[1m \u001b[0m┃\u001b[1m \u001b[0m\u001b[1m      Param #\u001b[0m\u001b[1m \u001b[0m┃\n",
       "┡━━━━━━━━━━━━━━━━━━━━━━━━━━━━━━━━━╇━━━━━━━━━━━━━━━━━━━━━━━━╇━━━━━━━━━━━━━━━┩\n",
       "│ lstm_54 (\u001b[38;5;33mLSTM\u001b[0m)                  │ (\u001b[38;5;45mNone\u001b[0m, \u001b[38;5;34m2\u001b[0m, \u001b[38;5;34m128\u001b[0m)         │        \u001b[38;5;34m81,408\u001b[0m │\n",
       "├─────────────────────────────────┼────────────────────────┼───────────────┤\n",
       "│ dropout_53 (\u001b[38;5;33mDropout\u001b[0m)            │ (\u001b[38;5;45mNone\u001b[0m, \u001b[38;5;34m2\u001b[0m, \u001b[38;5;34m128\u001b[0m)         │             \u001b[38;5;34m0\u001b[0m │\n",
       "├─────────────────────────────────┼────────────────────────┼───────────────┤\n",
       "│ lstm_55 (\u001b[38;5;33mLSTM\u001b[0m)                  │ (\u001b[38;5;45mNone\u001b[0m, \u001b[38;5;34m2\u001b[0m, \u001b[38;5;34m128\u001b[0m)         │       \u001b[38;5;34m131,584\u001b[0m │\n",
       "├─────────────────────────────────┼────────────────────────┼───────────────┤\n",
       "│ dropout_54 (\u001b[38;5;33mDropout\u001b[0m)            │ (\u001b[38;5;45mNone\u001b[0m, \u001b[38;5;34m2\u001b[0m, \u001b[38;5;34m128\u001b[0m)         │             \u001b[38;5;34m0\u001b[0m │\n",
       "├─────────────────────────────────┼────────────────────────┼───────────────┤\n",
       "│ lstm_56 (\u001b[38;5;33mLSTM\u001b[0m)                  │ (\u001b[38;5;45mNone\u001b[0m, \u001b[38;5;34m128\u001b[0m)            │       \u001b[38;5;34m131,584\u001b[0m │\n",
       "├─────────────────────────────────┼────────────────────────┼───────────────┤\n",
       "│ dense_54 (\u001b[38;5;33mDense\u001b[0m)                │ (\u001b[38;5;45mNone\u001b[0m, \u001b[38;5;34m512\u001b[0m)            │        \u001b[38;5;34m66,048\u001b[0m │\n",
       "├─────────────────────────────────┼────────────────────────┼───────────────┤\n",
       "│ dropout_55 (\u001b[38;5;33mDropout\u001b[0m)            │ (\u001b[38;5;45mNone\u001b[0m, \u001b[38;5;34m512\u001b[0m)            │             \u001b[38;5;34m0\u001b[0m │\n",
       "├─────────────────────────────────┼────────────────────────┼───────────────┤\n",
       "│ dense_55 (\u001b[38;5;33mDense\u001b[0m)                │ (\u001b[38;5;45mNone\u001b[0m, \u001b[38;5;34m64\u001b[0m)             │        \u001b[38;5;34m32,832\u001b[0m │\n",
       "├─────────────────────────────────┼────────────────────────┼───────────────┤\n",
       "│ dense_56 (\u001b[38;5;33mDense\u001b[0m)                │ (\u001b[38;5;45mNone\u001b[0m, \u001b[38;5;34m1\u001b[0m)              │            \u001b[38;5;34m65\u001b[0m │\n",
       "└─────────────────────────────────┴────────────────────────┴───────────────┘\n"
      ]
     },
     "metadata": {},
     "output_type": "display_data"
    },
    {
     "data": {
      "text/html": [
       "<pre style=\"white-space:pre;overflow-x:auto;line-height:normal;font-family:Menlo,'DejaVu Sans Mono',consolas,'Courier New',monospace\"><span style=\"font-weight: bold\"> Total params: </span><span style=\"color: #00af00; text-decoration-color: #00af00\">1,330,565</span> (5.08 MB)\n",
       "</pre>\n"
      ],
      "text/plain": [
       "\u001b[1m Total params: \u001b[0m\u001b[38;5;34m1,330,565\u001b[0m (5.08 MB)\n"
      ]
     },
     "metadata": {},
     "output_type": "display_data"
    },
    {
     "data": {
      "text/html": [
       "<pre style=\"white-space:pre;overflow-x:auto;line-height:normal;font-family:Menlo,'DejaVu Sans Mono',consolas,'Courier New',monospace\"><span style=\"font-weight: bold\"> Trainable params: </span><span style=\"color: #00af00; text-decoration-color: #00af00\">443,521</span> (1.69 MB)\n",
       "</pre>\n"
      ],
      "text/plain": [
       "\u001b[1m Trainable params: \u001b[0m\u001b[38;5;34m443,521\u001b[0m (1.69 MB)\n"
      ]
     },
     "metadata": {},
     "output_type": "display_data"
    },
    {
     "data": {
      "text/html": [
       "<pre style=\"white-space:pre;overflow-x:auto;line-height:normal;font-family:Menlo,'DejaVu Sans Mono',consolas,'Courier New',monospace\"><span style=\"font-weight: bold\"> Non-trainable params: </span><span style=\"color: #00af00; text-decoration-color: #00af00\">0</span> (0.00 B)\n",
       "</pre>\n"
      ],
      "text/plain": [
       "\u001b[1m Non-trainable params: \u001b[0m\u001b[38;5;34m0\u001b[0m (0.00 B)\n"
      ]
     },
     "metadata": {},
     "output_type": "display_data"
    },
    {
     "data": {
      "text/html": [
       "<pre style=\"white-space:pre;overflow-x:auto;line-height:normal;font-family:Menlo,'DejaVu Sans Mono',consolas,'Courier New',monospace\"><span style=\"font-weight: bold\"> Optimizer params: </span><span style=\"color: #00af00; text-decoration-color: #00af00\">887,044</span> (3.38 MB)\n",
       "</pre>\n"
      ],
      "text/plain": [
       "\u001b[1m Optimizer params: \u001b[0m\u001b[38;5;34m887,044\u001b[0m (3.38 MB)\n"
      ]
     },
     "metadata": {},
     "output_type": "display_data"
    }
   ],
   "source": [
    "# Load the model\n",
    "model = load_model('best_model.keras')\n",
    "model.summary()"
   ]
  },
  {
   "cell_type": "code",
   "execution_count": 35,
   "metadata": {},
   "outputs": [],
   "source": [
    "# Create a DataFrame from selected_gt_files and selected_diffwave_files\n",
    "selected_files_df = pd.DataFrame({\n",
    "    'file_path': selected_gt_files + selected_diffwave_files,\n",
    "    'label': [1] * len(selected_gt_files) + [0] * len(selected_diffwave_files)\n",
    "})\n",
    "\n",
    "selected_files_df.to_csv('output/data/selected_files.csv', index=False)"
   ]
  },
  {
   "cell_type": "code",
   "execution_count": 36,
   "metadata": {},
   "outputs": [
    {
     "name": "stderr",
     "output_type": "stream",
     "text": [
      "Processing audio files:  28%|██▊       | 56/200 [00:01<00:03, 36.64it/s]"
     ]
    },
    {
     "name": "stdout",
     "output_type": "stream",
     "text": [
      "start\n",
      "Snapshot 50/None files.\n"
     ]
    },
    {
     "name": "stderr",
     "output_type": "stream",
     "text": [
      "Processing audio files:  52%|█████▎    | 105/200 [00:02<00:02, 32.14it/s]"
     ]
    },
    {
     "name": "stdout",
     "output_type": "stream",
     "text": [
      "start\n",
      "Snapshot 100/None files.\n"
     ]
    },
    {
     "name": "stderr",
     "output_type": "stream",
     "text": [
      "Processing audio files:  78%|███████▊  | 156/200 [00:04<00:01, 38.87it/s]"
     ]
    },
    {
     "name": "stdout",
     "output_type": "stream",
     "text": [
      "start\n",
      "Snapshot 150/None files.\n"
     ]
    },
    {
     "name": "stderr",
     "output_type": "stream",
     "text": [
      "Processing audio files: 100%|██████████| 200/200 [00:05<00:00, 35.19it/s]"
     ]
    },
    {
     "name": "stdout",
     "output_type": "stream",
     "text": [
      "start\n",
      "Snapshot 200/None files.\n",
      "[]\n",
      "Saved features to: ./output/test.csv\n",
      "(0, 0)\n",
      "1\n"
     ]
    },
    {
     "name": "stderr",
     "output_type": "stream",
     "text": [
      "\n"
     ]
    }
   ],
   "source": [
    "import utils\n",
    "from utils import process_audio_files\n",
    "audio_paths = selected_gt_files + selected_diffwave_files\n",
    "labels = [1] * len(selected_gt_files) + [0] * len(selected_diffwave_files)\n",
    "features = process_audio_files(audio_paths, n_mfcc=30, labels=labels, output_csv='./output/test.csv',force_new=False, resume=True)"
   ]
  },
  {
   "cell_type": "code",
   "execution_count": 37,
   "metadata": {},
   "outputs": [
    {
     "data": {
      "text/plain": [
       "(200, 200)"
      ]
     },
     "execution_count": 37,
     "metadata": {},
     "output_type": "execute_result"
    }
   ],
   "source": [
    "len(audio_paths), len(labels)"
   ]
  },
  {
   "cell_type": "code",
   "execution_count": 38,
   "metadata": {},
   "outputs": [
    {
     "name": "stderr",
     "output_type": "stream",
     "text": [
      "Processing audio files: 100%|██████████| 200/200 [00:00<00:00, 1775.99it/s]\n"
     ]
    },
    {
     "name": "stdout",
     "output_type": "stream",
     "text": [
      "[]\n",
      "Saved features to: ./output/test.csv\n",
      "(0, 0)\n",
      "1\n",
      "label descirption\n",
      "\u001b[1m1/1\u001b[0m \u001b[32m━━━━━━━━━━━━━━━━━━━━\u001b[0m\u001b[37m\u001b[0m \u001b[1m1s\u001b[0m 916ms/step\n",
      "\u001b[1m1/1\u001b[0m \u001b[32m━━━━━━━━━━━━━━━━━━━━\u001b[0m\u001b[37m\u001b[0m \u001b[1m2s\u001b[0m 2s/step - accuracy: 0.9286 - loss: 0.2321\n",
      "\n",
      "Model loss: 0.2321\n",
      "Model accuracy: 92.86%\n",
      "\n",
      "Classification Report:\n",
      "              precision    recall  f1-score   support\n",
      "\n",
      "           0       1.00      0.85      0.92        13\n",
      "           1       0.88      1.00      0.94        15\n",
      "\n",
      "    accuracy                           0.93        28\n",
      "   macro avg       0.94      0.92      0.93        28\n",
      "weighted avg       0.94      0.93      0.93        28\n",
      "\n",
      "0     1\n",
      "1     1\n",
      "2     1\n",
      "3     1\n",
      "4     1\n",
      "5     1\n",
      "6     1\n",
      "7     1\n",
      "8     1\n",
      "9     1\n",
      "10    1\n",
      "11    1\n",
      "12    1\n",
      "13    1\n",
      "14    1\n",
      "15    0\n",
      "16    0\n",
      "17    0\n",
      "18    0\n",
      "19    0\n",
      "20    0\n",
      "21    0\n",
      "22    0\n",
      "23    0\n",
      "24    0\n",
      "25    0\n",
      "26    0\n",
      "27    0\n",
      "Name: label, dtype: int64\n"
     ]
    },
    {
     "data": {
      "text/plain": [
       "array([[0.98653245],\n",
       "       [0.75255144],\n",
       "       [0.71999496],\n",
       "       [0.9818444 ],\n",
       "       [0.9853263 ],\n",
       "       [0.9918666 ],\n",
       "       [0.9852324 ],\n",
       "       [0.99395347],\n",
       "       [0.7463658 ],\n",
       "       [0.9679208 ],\n",
       "       [0.96398   ],\n",
       "       [0.9553963 ],\n",
       "       [0.8648521 ],\n",
       "       [0.8608621 ],\n",
       "       [0.9940669 ],\n",
       "       [0.0573929 ],\n",
       "       [0.01480973],\n",
       "       [0.32942244],\n",
       "       [0.0279135 ],\n",
       "       [0.31035748],\n",
       "       [0.00444349],\n",
       "       [0.54342115],\n",
       "       [0.03863829],\n",
       "       [0.9040139 ],\n",
       "       [0.01773973],\n",
       "       [0.3991612 ],\n",
       "       [0.03099026],\n",
       "       [0.03273852]], dtype=float32)"
      ]
     },
     "execution_count": 38,
     "metadata": {},
     "output_type": "execute_result"
    }
   ],
   "source": [
    "from sklearn.preprocessing import StandardScaler\n",
    "from tensorflow.keras.preprocessing.sequence import pad_sequences\n",
    "from sklearn.metrics import classification_report\n",
    "import pickle\n",
    "\n",
    "\n",
    "def evaluate_model(model, audio_paths, labels):\n",
    "    # Load and prepare test data\n",
    "    features = process_audio_files(audio_paths, n_mfcc=30, labels=labels, output_csv='./output/test.csv',force_new=False, resume=True)\n",
    "    df_test = pd.read_csv('./output/test.csv')\n",
    "    # df_test = df_test.sample(frac=1).reset_index(drop=True)\n",
    "    print(\"label descirption\")\n",
    "\n",
    "    # Extract features and labels\n",
    "    labels = df_test['label']\n",
    "    features = df_test.drop(columns=['label', 'sampling_rate', 'file_path'])\n",
    "\n",
    "    # 1. Create sequences (same as training)\n",
    "    sequence_length = 10\n",
    "    overlap = 3\n",
    "    sequences, indices = create_sequences(features, sequence_length, overlap)\n",
    "    labels = labels.iloc[indices].reset_index(drop=True)\n",
    "\n",
    "    # 2. Pad sequences (make sure maxlen matches training)\n",
    "    padded_sequences = pad_sequences(\n",
    "        sequences,\n",
    "        maxlen=2,  # Changed from 2 to match training\n",
    "        padding=\"pre\",\n",
    "        truncating=\"post\"\n",
    "    )\n",
    "\n",
    "    # 3. Load and apply scaler\n",
    "    with open('./output/scaler.pkl', 'rb') as f:\n",
    "        scaler = pickle.load(f)\n",
    "\n",
    "    # Reshape and scale (exactly as in training)\n",
    "    num_samples, seq_len, num_features = padded_sequences.shape\n",
    "    padded_sequences_reshaped = padded_sequences.reshape(num_samples, -1)\n",
    "    padded_sequences_scaled = scaler.transform(padded_sequences_reshaped)\n",
    "    padded_sequences = padded_sequences_scaled.reshape(num_samples, seq_len, num_features)\n",
    "\n",
    "    # 4. Evaluate\n",
    "    y_pred = model.predict(padded_sequences)\n",
    "    y_pred_binary = (y_pred > 0.5).astype(int).flatten()\n",
    "    \n",
    "    # Print metrics\n",
    "    loss, accuracy = model.evaluate(padded_sequences, labels)\n",
    "    print(f\"\\nModel loss: {loss:.4f}\")\n",
    "    print(f\"Model accuracy: {accuracy * 100:.2f}%\")\n",
    "    \n",
    "    # Additional metrics\n",
    "    print(\"\\nClassification Report:\")\n",
    "    print(classification_report(labels, y_pred_binary))\n",
    "\n",
    "    print( labels )\n",
    "    \n",
    "    return y_pred\n",
    "    \n",
    "# Usage\n",
    "\n",
    "# Create a list of audio paths and corresponding labels\n",
    "audio_paths = selected_gt_files + selected_diffwave_files\n",
    "labels = [1] * len(selected_gt_files) + [0] * len(selected_diffwave_files)\n",
    "\n",
    "\n",
    "\n",
    "evaluate_model(model, audio_paths=audio_paths, labels=labels)"
   ]
  },
  {
   "cell_type": "code",
   "execution_count": 39,
   "metadata": {},
   "outputs": [
    {
     "data": {
      "text/plain": [
       "[1,\n",
       " 1,\n",
       " 1,\n",
       " 1,\n",
       " 1,\n",
       " 1,\n",
       " 1,\n",
       " 1,\n",
       " 1,\n",
       " 1,\n",
       " 1,\n",
       " 1,\n",
       " 1,\n",
       " 1,\n",
       " 1,\n",
       " 1,\n",
       " 1,\n",
       " 1,\n",
       " 1,\n",
       " 1,\n",
       " 1,\n",
       " 1,\n",
       " 1,\n",
       " 1,\n",
       " 1,\n",
       " 1,\n",
       " 1,\n",
       " 1,\n",
       " 1,\n",
       " 1,\n",
       " 1,\n",
       " 1,\n",
       " 1,\n",
       " 1,\n",
       " 1,\n",
       " 1,\n",
       " 1,\n",
       " 1,\n",
       " 1,\n",
       " 1,\n",
       " 1,\n",
       " 1,\n",
       " 1,\n",
       " 1,\n",
       " 1,\n",
       " 1,\n",
       " 1,\n",
       " 1,\n",
       " 1,\n",
       " 1,\n",
       " 1,\n",
       " 1,\n",
       " 1,\n",
       " 1,\n",
       " 1,\n",
       " 1,\n",
       " 1,\n",
       " 1,\n",
       " 1,\n",
       " 1,\n",
       " 1,\n",
       " 1,\n",
       " 1,\n",
       " 1,\n",
       " 1,\n",
       " 1,\n",
       " 1,\n",
       " 1,\n",
       " 1,\n",
       " 1,\n",
       " 1,\n",
       " 1,\n",
       " 1,\n",
       " 1,\n",
       " 1,\n",
       " 1,\n",
       " 1,\n",
       " 1,\n",
       " 1,\n",
       " 1,\n",
       " 1,\n",
       " 1,\n",
       " 1,\n",
       " 1,\n",
       " 1,\n",
       " 1,\n",
       " 1,\n",
       " 1,\n",
       " 1,\n",
       " 1,\n",
       " 1,\n",
       " 1,\n",
       " 1,\n",
       " 1,\n",
       " 1,\n",
       " 1,\n",
       " 1,\n",
       " 1,\n",
       " 1,\n",
       " 1,\n",
       " 0,\n",
       " 0,\n",
       " 0,\n",
       " 0,\n",
       " 0,\n",
       " 0,\n",
       " 0,\n",
       " 0,\n",
       " 0,\n",
       " 0,\n",
       " 0,\n",
       " 0,\n",
       " 0,\n",
       " 0,\n",
       " 0,\n",
       " 0,\n",
       " 0,\n",
       " 0,\n",
       " 0,\n",
       " 0,\n",
       " 0,\n",
       " 0,\n",
       " 0,\n",
       " 0,\n",
       " 0,\n",
       " 0,\n",
       " 0,\n",
       " 0,\n",
       " 0,\n",
       " 0,\n",
       " 0,\n",
       " 0,\n",
       " 0,\n",
       " 0,\n",
       " 0,\n",
       " 0,\n",
       " 0,\n",
       " 0,\n",
       " 0,\n",
       " 0,\n",
       " 0,\n",
       " 0,\n",
       " 0,\n",
       " 0,\n",
       " 0,\n",
       " 0,\n",
       " 0,\n",
       " 0,\n",
       " 0,\n",
       " 0,\n",
       " 0,\n",
       " 0,\n",
       " 0,\n",
       " 0,\n",
       " 0,\n",
       " 0,\n",
       " 0,\n",
       " 0,\n",
       " 0,\n",
       " 0,\n",
       " 0,\n",
       " 0,\n",
       " 0,\n",
       " 0,\n",
       " 0,\n",
       " 0,\n",
       " 0,\n",
       " 0,\n",
       " 0,\n",
       " 0,\n",
       " 0,\n",
       " 0,\n",
       " 0,\n",
       " 0,\n",
       " 0,\n",
       " 0,\n",
       " 0,\n",
       " 0,\n",
       " 0,\n",
       " 0,\n",
       " 0,\n",
       " 0,\n",
       " 0,\n",
       " 0,\n",
       " 0,\n",
       " 0,\n",
       " 0,\n",
       " 0,\n",
       " 0,\n",
       " 0,\n",
       " 0,\n",
       " 0,\n",
       " 0,\n",
       " 0,\n",
       " 0,\n",
       " 0,\n",
       " 0,\n",
       " 0,\n",
       " 0,\n",
       " 0]"
      ]
     },
     "execution_count": 39,
     "metadata": {},
     "output_type": "execute_result"
    }
   ],
   "source": [
    "labels"
   ]
  }
 ],
 "metadata": {
  "kernelspec": {
   "display_name": "Python 3",
   "language": "python",
   "name": "python3"
  },
  "language_info": {
   "codemirror_mode": {
    "name": "ipython",
    "version": 3
   },
   "file_extension": ".py",
   "mimetype": "text/x-python",
   "name": "python",
   "nbconvert_exporter": "python",
   "pygments_lexer": "ipython3",
   "version": "3.12.7"
  }
 },
 "nbformat": 4,
 "nbformat_minor": 2
}
