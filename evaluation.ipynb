{
 "cells": [
  {
   "cell_type": "code",
   "execution_count": 102,
   "metadata": {},
   "outputs": [
    {
     "name": "stdout",
     "output_type": "stream",
     "text": [
      "Selected GT files: ['./content/LibriSeVoc/gt/2182_181173_000018_000000.wav', './content/LibriSeVoc/gt/1841_179183_000015_000004.wav', './content/LibriSeVoc/gt/446_123502_000009_000001.wav', './content/LibriSeVoc/gt/3857_182317_000028_000001.wav', './content/LibriSeVoc/gt/412_126975_000006_000000.wav', './content/LibriSeVoc/gt/2136_5143_000015_000000.wav', './content/LibriSeVoc/gt/4640_19188_000052_000000.wav', './content/LibriSeVoc/gt/2136_5147_000050_000002.wav', './content/LibriSeVoc/gt/8312_279791_000016_000001.wav', './content/LibriSeVoc/gt/7505_258964_000011_000005.wav', './content/LibriSeVoc/gt/7078_271888_000114_000000.wav', './content/LibriSeVoc/gt/1098_133695_000006_000012.wav', './content/LibriSeVoc/gt/8468_294887_000023_000000.wav', './content/LibriSeVoc/gt/6147_34607_000013_000029.wav', './content/LibriSeVoc/gt/8630_305212_000004_000001.wav', './content/LibriSeVoc/gt/40_121026_000039_000000.wav', './content/LibriSeVoc/gt/405_130894_000057_000000.wav', './content/LibriSeVoc/gt/7078_271888_000105_000000.wav', './content/LibriSeVoc/gt/3112_9555_000017_000001.wav', './content/LibriSeVoc/gt/8630_305213_000020_000001.wav', './content/LibriSeVoc/gt/8468_286673_000020_000002.wav', './content/LibriSeVoc/gt/2893_139322_000016_000000.wav', './content/LibriSeVoc/gt/7800_283493_000021_000000.wav', './content/LibriSeVoc/gt/6454_93938_000017_000001.wav', './content/LibriSeVoc/gt/1447_17506_000052_000003.wav', './content/LibriSeVoc/gt/1970_26100_000018_000001.wav', './content/LibriSeVoc/gt/250_142276_000006_000010.wav', './content/LibriSeVoc/gt/2893_139322_000006_000003.wav', './content/LibriSeVoc/gt/8580_287363_000013_000001.wav', './content/LibriSeVoc/gt/6181_216552_000085_000001.wav', './content/LibriSeVoc/gt/696_93314_000043_000003.wav', './content/LibriSeVoc/gt/6147_34605_000009_000018.wav', './content/LibriSeVoc/gt/374_180299_000045_000002.wav', './content/LibriSeVoc/gt/4788_91208_000009_000005.wav', './content/LibriSeVoc/gt/909_131041_000011_000001.wav', './content/LibriSeVoc/gt/8468_295198_000042_000000.wav', './content/LibriSeVoc/gt/5750_100289_000024_000005.wav', './content/LibriSeVoc/gt/831_130746_000076_000000.wav', './content/LibriSeVoc/gt/8468_294887_000005_000002.wav', './content/LibriSeVoc/gt/1553_140048_000016_000003.wav', './content/LibriSeVoc/gt/8238_283452_000033_000005.wav', './content/LibriSeVoc/gt/3526_176653_000002_000010.wav', './content/LibriSeVoc/gt/1553_140047_000004_000001.wav', './content/LibriSeVoc/gt/8088_284756_000113_000002.wav', './content/LibriSeVoc/gt/3664_178366_000019_000002.wav', './content/LibriSeVoc/gt/7505_258964_000018_000007.wav', './content/LibriSeVoc/gt/2092_145706_000034_000001.wav', './content/LibriSeVoc/gt/250_142286_000031_000000.wav', './content/LibriSeVoc/gt/6019_3185_000033_000006.wav', './content/LibriSeVoc/gt/1502_122619_000056_000005.wav', './content/LibriSeVoc/gt/7178_34645_000007_000019.wav', './content/LibriSeVoc/gt/3168_173564_000014_000005.wav', './content/LibriSeVoc/gt/4397_15678_000005_000003.wav', './content/LibriSeVoc/gt/8108_280359_000006_000001.wav', './content/LibriSeVoc/gt/6848_76049_000011_000009.wav', './content/LibriSeVoc/gt/1355_39947_000006_000002.wav', './content/LibriSeVoc/gt/6415_111615_000003_000003.wav', './content/LibriSeVoc/gt/6019_3185_000025_000001.wav', './content/LibriSeVoc/gt/8063_274112_000196_000000.wav', './content/LibriSeVoc/gt/2196_170151_000004_000000.wav', './content/LibriSeVoc/gt/5561_41615_000002_000002.wav', './content/LibriSeVoc/gt/6078_54007_000022_000000.wav', './content/LibriSeVoc/gt/2691_156755_000003_000000.wav', './content/LibriSeVoc/gt/7505_258958_000019_000006.wav', './content/LibriSeVoc/gt/78_369_000075_000004.wav', './content/LibriSeVoc/gt/1355_39947_000024_000014.wav', './content/LibriSeVoc/gt/7447_91186_000016_000002.wav', './content/LibriSeVoc/gt/5789_57158_000024_000003.wav', './content/LibriSeVoc/gt/374_180298_000016_000002.wav', './content/LibriSeVoc/gt/87_121553_000078_000000.wav', './content/LibriSeVoc/gt/6064_56165_000063_000001.wav', './content/LibriSeVoc/gt/446_123502_000012_000000.wav', './content/LibriSeVoc/gt/8063_274112_000086_000000.wav', './content/LibriSeVoc/gt/8580_287363_000019_000001.wav', './content/LibriSeVoc/gt/7794_295955_000002_000004.wav', './content/LibriSeVoc/gt/7278_246956_000013_000000.wav', './content/LibriSeVoc/gt/3526_176653_000071_000003.wav', './content/LibriSeVoc/gt/6081_41998_000014_000001.wav', './content/LibriSeVoc/gt/60_121082_000096_000000.wav', './content/LibriSeVoc/gt/7511_102420_000011_000001.wav', './content/LibriSeVoc/gt/6385_220959_000022_000005.wav', './content/LibriSeVoc/gt/2136_5147_000030_000001.wav', './content/LibriSeVoc/gt/4397_15668_000011_000000.wav', './content/LibriSeVoc/gt/40_121026_000178_000000.wav', './content/LibriSeVoc/gt/4160_11549_000017_000001.wav', './content/LibriSeVoc/gt/3240_131232_000008_000000.wav', './content/LibriSeVoc/gt/196_122152_000005_000002.wav', './content/LibriSeVoc/gt/6385_34669_000030_000000.wav', './content/LibriSeVoc/gt/374_180299_000021_000001.wav', './content/LibriSeVoc/gt/909_131041_000012_000004.wav', './content/LibriSeVoc/gt/6019_3185_000031_000003.wav', './content/LibriSeVoc/gt/8838_298546_000022_000012.wav', './content/LibriSeVoc/gt/60_121082_000010_000000.wav', './content/LibriSeVoc/gt/6437_66173_000005_000001.wav', './content/LibriSeVoc/gt/4297_13006_000065_000002.wav', './content/LibriSeVoc/gt/8312_279791_000038_000005.wav', './content/LibriSeVoc/gt/6880_216547_000018_000001.wav', './content/LibriSeVoc/gt/6019_3185_000027_000003.wav', './content/LibriSeVoc/gt/1088_129236_000020_000013.wav', './content/LibriSeVoc/gt/7067_76048_000075_000002.wav']\n",
      "Selected Diffwave files: ['./content/LibriSeVoc/diffwave/446_123501_000032_000001_gen.wav', './content/LibriSeVoc/diffwave/2514_149482_000006_000000_gen.wav', './content/LibriSeVoc/diffwave/5456_24741_000005_000001_gen.wav', './content/LibriSeVoc/diffwave/1069_133699_000033_000000_gen.wav', './content/LibriSeVoc/diffwave/8098_278278_000021_000004_gen.wav', './content/LibriSeVoc/diffwave/5561_41615_000055_000002_gen.wav', './content/LibriSeVoc/diffwave/7780_274562_000004_000007_gen.wav', './content/LibriSeVoc/diffwave/1355_39947_000005_000006_gen.wav', './content/LibriSeVoc/diffwave/4160_11549_000031_000002_gen.wav', './content/LibriSeVoc/diffwave/3982_178459_000056_000008_gen.wav', './content/LibriSeVoc/diffwave/6848_76049_000024_000008_gen.wav', './content/LibriSeVoc/diffwave/40_121026_000179_000004_gen.wav', './content/LibriSeVoc/diffwave/8324_286682_000020_000002_gen.wav', './content/LibriSeVoc/diffwave/3879_174923_000003_000005_gen.wav', './content/LibriSeVoc/diffwave/1088_129236_000006_000006_gen.wav', './content/LibriSeVoc/diffwave/6181_216552_000012_000001_gen.wav', './content/LibriSeVoc/diffwave/8238_283452_000023_000002_gen.wav', './content/LibriSeVoc/diffwave/412_126975_000065_000000_gen.wav', './content/LibriSeVoc/diffwave/3664_11714_000038_000000_gen.wav', './content/LibriSeVoc/diffwave/8123_275209_000004_000001_gen.wav', './content/LibriSeVoc/diffwave/8226_274371_000040_000003_gen.wav', './content/LibriSeVoc/diffwave/4195_186237_000039_000000_gen.wav', './content/LibriSeVoc/diffwave/3486_166446_000103_000000_gen.wav', './content/LibriSeVoc/diffwave/1088_134318_000044_000000_gen.wav', './content/LibriSeVoc/diffwave/6019_3185_000017_000001_gen.wav', './content/LibriSeVoc/diffwave/1578_140049_000024_000002_gen.wav', './content/LibriSeVoc/diffwave/7302_86814_000004_000001_gen.wav', './content/LibriSeVoc/diffwave/374_180298_000042_000000_gen.wav', './content/LibriSeVoc/diffwave/6385_34669_000029_000007_gen.wav', './content/LibriSeVoc/diffwave/7447_91186_000036_000000_gen.wav', './content/LibriSeVoc/diffwave/2007_149877_000002_000004_gen.wav', './content/LibriSeVoc/diffwave/1069_133709_000043_000033_gen.wav', './content/LibriSeVoc/diffwave/87_121553_000036_000000_gen.wav', './content/LibriSeVoc/diffwave/87_121553_000109_000000_gen.wav', './content/LibriSeVoc/diffwave/5339_14134_000068_000003_gen.wav', './content/LibriSeVoc/diffwave/3857_180923_000023_000000_gen.wav', './content/LibriSeVoc/diffwave/8609_283227_000010_000004_gen.wav', './content/LibriSeVoc/diffwave/2007_149877_000011_000004_gen.wav', './content/LibriSeVoc/diffwave/3879_173592_000021_000001_gen.wav', './content/LibriSeVoc/diffwave/4680_16042_000020_000004_gen.wav', './content/LibriSeVoc/diffwave/8238_274553_000008_000000_gen.wav', './content/LibriSeVoc/diffwave/587_54108_000052_000000_gen.wav', './content/LibriSeVoc/diffwave/7113_86041_000044_000000_gen.wav', './content/LibriSeVoc/diffwave/8747_293952_000062_000000_gen.wav', './content/LibriSeVoc/diffwave/2002_139469_000013_000002_gen.wav', './content/LibriSeVoc/diffwave/40_121026_000021_000000_gen.wav', './content/LibriSeVoc/diffwave/2843_152918_000008_000003_gen.wav', './content/LibriSeVoc/diffwave/2910_131096_000030_000000_gen.wav', './content/LibriSeVoc/diffwave/5867_48852_000047_000002_gen.wav', './content/LibriSeVoc/diffwave/8468_294887_000008_000000_gen.wav', './content/LibriSeVoc/diffwave/3235_28433_000009_000002_gen.wav', './content/LibriSeVoc/diffwave/2196_170379_000005_000002_gen.wav', './content/LibriSeVoc/diffwave/1263_141777_000015_000000_gen.wav', './content/LibriSeVoc/diffwave/3526_176653_000001_000006_gen.wav', './content/LibriSeVoc/diffwave/8226_274369_000035_000006_gen.wav', './content/LibriSeVoc/diffwave/2836_5355_000030_000000_gen.wav', './content/LibriSeVoc/diffwave/302_123516_000012_000000_gen.wav', './content/LibriSeVoc/diffwave/6454_93938_000034_000000_gen.wav', './content/LibriSeVoc/diffwave/1743_142913_000014_000000_gen.wav', './content/LibriSeVoc/diffwave/125_121124_000049_000003_gen.wav', './content/LibriSeVoc/diffwave/8629_261139_000023_000000_gen.wav', './content/LibriSeVoc/diffwave/412_126975_000051_000005_gen.wav', './content/LibriSeVoc/diffwave/3526_176651_000012_000017_gen.wav', './content/LibriSeVoc/diffwave/6147_34606_000012_000014_gen.wav', './content/LibriSeVoc/diffwave/254_12312_000003_000000_gen.wav', './content/LibriSeVoc/diffwave/6385_220959_000014_000001_gen.wav', './content/LibriSeVoc/diffwave/8226_274369_000001_000000_gen.wav', './content/LibriSeVoc/diffwave/8238_274553_000008_000004_gen.wav', './content/LibriSeVoc/diffwave/8312_279791_000025_000000_gen.wav', './content/LibriSeVoc/diffwave/4397_15666_000008_000002_gen.wav', './content/LibriSeVoc/diffwave/5561_41616_000030_000000_gen.wav', './content/LibriSeVoc/diffwave/3242_67153_000024_000002_gen.wav', './content/LibriSeVoc/diffwave/3879_174923_000017_000004_gen.wav', './content/LibriSeVoc/diffwave/6454_93938_000023_000002_gen.wav', './content/LibriSeVoc/diffwave/7859_102521_000017_000007_gen.wav', './content/LibriSeVoc/diffwave/696_93314_000003_000000_gen.wav', './content/LibriSeVoc/diffwave/3879_173592_000030_000000_gen.wav', './content/LibriSeVoc/diffwave/6147_34605_000003_000004_gen.wav', './content/LibriSeVoc/diffwave/1841_150351_000026_000005_gen.wav', './content/LibriSeVoc/diffwave/2843_152918_000001_000001_gen.wav', './content/LibriSeVoc/diffwave/6476_96661_000003_000001_gen.wav', './content/LibriSeVoc/diffwave/8468_286673_000019_000003_gen.wav', './content/LibriSeVoc/diffwave/8014_280382_000007_000003_gen.wav', './content/LibriSeVoc/diffwave/6385_220959_000020_000000_gen.wav', './content/LibriSeVoc/diffwave/7447_91186_000024_000000_gen.wav', './content/LibriSeVoc/diffwave/8108_274318_000018_000000_gen.wav', './content/LibriSeVoc/diffwave/7447_91187_000009_000004_gen.wav', './content/LibriSeVoc/diffwave/4397_15678_000006_000001_gen.wav', './content/LibriSeVoc/diffwave/2436_2481_000069_000000_gen.wav', './content/LibriSeVoc/diffwave/6209_34601_000099_000000_gen.wav', './content/LibriSeVoc/diffwave/2196_170151_000016_000000_gen.wav', './content/LibriSeVoc/diffwave/6415_111615_000019_000006_gen.wav', './content/LibriSeVoc/diffwave/5750_100289_000039_000006_gen.wav', './content/LibriSeVoc/diffwave/78_369_000006_000002_gen.wav', './content/LibriSeVoc/diffwave/7505_83618_000009_000001_gen.wav', './content/LibriSeVoc/diffwave/3982_178459_000002_000000_gen.wav', './content/LibriSeVoc/diffwave/8312_279791_000010_000000_gen.wav', './content/LibriSeVoc/diffwave/8238_283452_000033_000005_gen.wav', './content/LibriSeVoc/diffwave/5322_7679_000002_000015_gen.wav', './content/LibriSeVoc/diffwave/3436_172162_000018_000000_gen.wav']\n"
     ]
    }
   ],
   "source": [
    "import tensorflow as tf\n",
    "from tensorflow.keras.models import load_model\n",
    "import numpy as np\n",
    "from utils import process_audio_files, create_sequences\n",
    "import os\n",
    "import random\n",
    "import pandas as pd\n",
    "\n",
    "# Load the dataframe\n",
    "df = pd.read_csv('output/data/merged_df.csv')\n",
    "\n",
    "# Get the list of file paths from the dataframe\n",
    "file_paths = df['file_path'].tolist()\n",
    "\n",
    "# Directories containing the files\n",
    "gt_dir = './content/LibriSeVoc/gt'\n",
    "diffwave_dir = './content/LibriSeVoc/diffwave'\n",
    "\n",
    "# Get list of files in each directory\n",
    "gt_files = [gt_dir + '/' + f for f in os.listdir(gt_dir) if os.path.join(gt_dir, f) not in file_paths]\n",
    "diffwave_files = [diffwave_dir + '/' + f for f in os.listdir(diffwave_dir) if os.path.join(diffwave_dir, f) not in file_paths]\n",
    "\n",
    "# Randomly select 10 files from each directory\n",
    "selected_gt_files = random.sample(gt_files, 100)\n",
    "selected_diffwave_files = random.sample(diffwave_files, 100)\n",
    "\n",
    "print(\"Selected GT files:\", selected_gt_files)\n",
    "print(\"Selected Diffwave files:\", selected_diffwave_files)"
   ]
  },
  {
   "cell_type": "code",
   "execution_count": 103,
   "metadata": {},
   "outputs": [
    {
     "data": {
      "text/html": [
       "<pre style=\"white-space:pre;overflow-x:auto;line-height:normal;font-family:Menlo,'DejaVu Sans Mono',consolas,'Courier New',monospace\"><span style=\"font-weight: bold\">Model: \"sequential_7\"</span>\n",
       "</pre>\n"
      ],
      "text/plain": [
       "\u001b[1mModel: \"sequential_7\"\u001b[0m\n"
      ]
     },
     "metadata": {},
     "output_type": "display_data"
    },
    {
     "data": {
      "text/html": [
       "<pre style=\"white-space:pre;overflow-x:auto;line-height:normal;font-family:Menlo,'DejaVu Sans Mono',consolas,'Courier New',monospace\">┏━━━━━━━━━━━━━━━━━━━━━━━━━━━━━━━━━┳━━━━━━━━━━━━━━━━━━━━━━━━┳━━━━━━━━━━━━━━━┓\n",
       "┃<span style=\"font-weight: bold\"> Layer (type)                    </span>┃<span style=\"font-weight: bold\"> Output Shape           </span>┃<span style=\"font-weight: bold\">       Param # </span>┃\n",
       "┡━━━━━━━━━━━━━━━━━━━━━━━━━━━━━━━━━╇━━━━━━━━━━━━━━━━━━━━━━━━╇━━━━━━━━━━━━━━━┩\n",
       "│ lstm_21 (<span style=\"color: #0087ff; text-decoration-color: #0087ff\">LSTM</span>)                  │ (<span style=\"color: #00d7ff; text-decoration-color: #00d7ff\">None</span>, <span style=\"color: #00af00; text-decoration-color: #00af00\">10</span>, <span style=\"color: #00af00; text-decoration-color: #00af00\">64</span>)         │        <span style=\"color: #00af00; text-decoration-color: #00af00\">24,320</span> │\n",
       "├─────────────────────────────────┼────────────────────────┼───────────────┤\n",
       "│ dropout_14 (<span style=\"color: #0087ff; text-decoration-color: #0087ff\">Dropout</span>)            │ (<span style=\"color: #00d7ff; text-decoration-color: #00d7ff\">None</span>, <span style=\"color: #00af00; text-decoration-color: #00af00\">10</span>, <span style=\"color: #00af00; text-decoration-color: #00af00\">64</span>)         │             <span style=\"color: #00af00; text-decoration-color: #00af00\">0</span> │\n",
       "├─────────────────────────────────┼────────────────────────┼───────────────┤\n",
       "│ lstm_22 (<span style=\"color: #0087ff; text-decoration-color: #0087ff\">LSTM</span>)                  │ (<span style=\"color: #00d7ff; text-decoration-color: #00d7ff\">None</span>, <span style=\"color: #00af00; text-decoration-color: #00af00\">10</span>, <span style=\"color: #00af00; text-decoration-color: #00af00\">64</span>)         │        <span style=\"color: #00af00; text-decoration-color: #00af00\">33,024</span> │\n",
       "├─────────────────────────────────┼────────────────────────┼───────────────┤\n",
       "│ dropout_15 (<span style=\"color: #0087ff; text-decoration-color: #0087ff\">Dropout</span>)            │ (<span style=\"color: #00d7ff; text-decoration-color: #00d7ff\">None</span>, <span style=\"color: #00af00; text-decoration-color: #00af00\">10</span>, <span style=\"color: #00af00; text-decoration-color: #00af00\">64</span>)         │             <span style=\"color: #00af00; text-decoration-color: #00af00\">0</span> │\n",
       "├─────────────────────────────────┼────────────────────────┼───────────────┤\n",
       "│ lstm_23 (<span style=\"color: #0087ff; text-decoration-color: #0087ff\">LSTM</span>)                  │ (<span style=\"color: #00d7ff; text-decoration-color: #00d7ff\">None</span>, <span style=\"color: #00af00; text-decoration-color: #00af00\">64</span>)             │        <span style=\"color: #00af00; text-decoration-color: #00af00\">33,024</span> │\n",
       "├─────────────────────────────────┼────────────────────────┼───────────────┤\n",
       "│ dense_14 (<span style=\"color: #0087ff; text-decoration-color: #0087ff\">Dense</span>)                │ (<span style=\"color: #00d7ff; text-decoration-color: #00d7ff\">None</span>, <span style=\"color: #00af00; text-decoration-color: #00af00\">32</span>)             │         <span style=\"color: #00af00; text-decoration-color: #00af00\">2,080</span> │\n",
       "├─────────────────────────────────┼────────────────────────┼───────────────┤\n",
       "│ dense_15 (<span style=\"color: #0087ff; text-decoration-color: #0087ff\">Dense</span>)                │ (<span style=\"color: #00d7ff; text-decoration-color: #00d7ff\">None</span>, <span style=\"color: #00af00; text-decoration-color: #00af00\">1</span>)              │            <span style=\"color: #00af00; text-decoration-color: #00af00\">33</span> │\n",
       "└─────────────────────────────────┴────────────────────────┴───────────────┘\n",
       "</pre>\n"
      ],
      "text/plain": [
       "┏━━━━━━━━━━━━━━━━━━━━━━━━━━━━━━━━━┳━━━━━━━━━━━━━━━━━━━━━━━━┳━━━━━━━━━━━━━━━┓\n",
       "┃\u001b[1m \u001b[0m\u001b[1mLayer (type)                   \u001b[0m\u001b[1m \u001b[0m┃\u001b[1m \u001b[0m\u001b[1mOutput Shape          \u001b[0m\u001b[1m \u001b[0m┃\u001b[1m \u001b[0m\u001b[1m      Param #\u001b[0m\u001b[1m \u001b[0m┃\n",
       "┡━━━━━━━━━━━━━━━━━━━━━━━━━━━━━━━━━╇━━━━━━━━━━━━━━━━━━━━━━━━╇━━━━━━━━━━━━━━━┩\n",
       "│ lstm_21 (\u001b[38;5;33mLSTM\u001b[0m)                  │ (\u001b[38;5;45mNone\u001b[0m, \u001b[38;5;34m10\u001b[0m, \u001b[38;5;34m64\u001b[0m)         │        \u001b[38;5;34m24,320\u001b[0m │\n",
       "├─────────────────────────────────┼────────────────────────┼───────────────┤\n",
       "│ dropout_14 (\u001b[38;5;33mDropout\u001b[0m)            │ (\u001b[38;5;45mNone\u001b[0m, \u001b[38;5;34m10\u001b[0m, \u001b[38;5;34m64\u001b[0m)         │             \u001b[38;5;34m0\u001b[0m │\n",
       "├─────────────────────────────────┼────────────────────────┼───────────────┤\n",
       "│ lstm_22 (\u001b[38;5;33mLSTM\u001b[0m)                  │ (\u001b[38;5;45mNone\u001b[0m, \u001b[38;5;34m10\u001b[0m, \u001b[38;5;34m64\u001b[0m)         │        \u001b[38;5;34m33,024\u001b[0m │\n",
       "├─────────────────────────────────┼────────────────────────┼───────────────┤\n",
       "│ dropout_15 (\u001b[38;5;33mDropout\u001b[0m)            │ (\u001b[38;5;45mNone\u001b[0m, \u001b[38;5;34m10\u001b[0m, \u001b[38;5;34m64\u001b[0m)         │             \u001b[38;5;34m0\u001b[0m │\n",
       "├─────────────────────────────────┼────────────────────────┼───────────────┤\n",
       "│ lstm_23 (\u001b[38;5;33mLSTM\u001b[0m)                  │ (\u001b[38;5;45mNone\u001b[0m, \u001b[38;5;34m64\u001b[0m)             │        \u001b[38;5;34m33,024\u001b[0m │\n",
       "├─────────────────────────────────┼────────────────────────┼───────────────┤\n",
       "│ dense_14 (\u001b[38;5;33mDense\u001b[0m)                │ (\u001b[38;5;45mNone\u001b[0m, \u001b[38;5;34m32\u001b[0m)             │         \u001b[38;5;34m2,080\u001b[0m │\n",
       "├─────────────────────────────────┼────────────────────────┼───────────────┤\n",
       "│ dense_15 (\u001b[38;5;33mDense\u001b[0m)                │ (\u001b[38;5;45mNone\u001b[0m, \u001b[38;5;34m1\u001b[0m)              │            \u001b[38;5;34m33\u001b[0m │\n",
       "└─────────────────────────────────┴────────────────────────┴───────────────┘\n"
      ]
     },
     "metadata": {},
     "output_type": "display_data"
    },
    {
     "data": {
      "text/html": [
       "<pre style=\"white-space:pre;overflow-x:auto;line-height:normal;font-family:Menlo,'DejaVu Sans Mono',consolas,'Courier New',monospace\"><span style=\"font-weight: bold\"> Total params: </span><span style=\"color: #00af00; text-decoration-color: #00af00\">277,445</span> (1.06 MB)\n",
       "</pre>\n"
      ],
      "text/plain": [
       "\u001b[1m Total params: \u001b[0m\u001b[38;5;34m277,445\u001b[0m (1.06 MB)\n"
      ]
     },
     "metadata": {},
     "output_type": "display_data"
    },
    {
     "data": {
      "text/html": [
       "<pre style=\"white-space:pre;overflow-x:auto;line-height:normal;font-family:Menlo,'DejaVu Sans Mono',consolas,'Courier New',monospace\"><span style=\"font-weight: bold\"> Trainable params: </span><span style=\"color: #00af00; text-decoration-color: #00af00\">92,481</span> (361.25 KB)\n",
       "</pre>\n"
      ],
      "text/plain": [
       "\u001b[1m Trainable params: \u001b[0m\u001b[38;5;34m92,481\u001b[0m (361.25 KB)\n"
      ]
     },
     "metadata": {},
     "output_type": "display_data"
    },
    {
     "data": {
      "text/html": [
       "<pre style=\"white-space:pre;overflow-x:auto;line-height:normal;font-family:Menlo,'DejaVu Sans Mono',consolas,'Courier New',monospace\"><span style=\"font-weight: bold\"> Non-trainable params: </span><span style=\"color: #00af00; text-decoration-color: #00af00\">0</span> (0.00 B)\n",
       "</pre>\n"
      ],
      "text/plain": [
       "\u001b[1m Non-trainable params: \u001b[0m\u001b[38;5;34m0\u001b[0m (0.00 B)\n"
      ]
     },
     "metadata": {},
     "output_type": "display_data"
    },
    {
     "data": {
      "text/html": [
       "<pre style=\"white-space:pre;overflow-x:auto;line-height:normal;font-family:Menlo,'DejaVu Sans Mono',consolas,'Courier New',monospace\"><span style=\"font-weight: bold\"> Optimizer params: </span><span style=\"color: #00af00; text-decoration-color: #00af00\">184,964</span> (722.52 KB)\n",
       "</pre>\n"
      ],
      "text/plain": [
       "\u001b[1m Optimizer params: \u001b[0m\u001b[38;5;34m184,964\u001b[0m (722.52 KB)\n"
      ]
     },
     "metadata": {},
     "output_type": "display_data"
    }
   ],
   "source": [
    "# Load the model\n",
    "model = load_model('best_model.keras')\n",
    "model.summary()"
   ]
  },
  {
   "cell_type": "code",
   "execution_count": 104,
   "metadata": {},
   "outputs": [],
   "source": [
    "# Create a DataFrame from selected_gt_files and selected_diffwave_files\n",
    "selected_files_df = pd.DataFrame({\n",
    "    'file_path': selected_gt_files + selected_diffwave_files,\n",
    "    'label': [1] * len(selected_gt_files) + [0] * len(selected_diffwave_files)\n",
    "})\n",
    "\n",
    "selected_files_df.to_csv('output/data/selected_files.csv', index=False)"
   ]
  },
  {
   "cell_type": "code",
   "execution_count": 105,
   "metadata": {},
   "outputs": [
    {
     "name": "stdout",
     "output_type": "stream",
     "text": [
      "['./content/LibriSeVoc/gt/2182_181173_000018_000000.wav', './content/LibriSeVoc/gt/1841_179183_000015_000004.wav', './content/LibriSeVoc/gt/446_123502_000009_000001.wav', './content/LibriSeVoc/gt/3857_182317_000028_000001.wav', './content/LibriSeVoc/gt/412_126975_000006_000000.wav', './content/LibriSeVoc/gt/2136_5143_000015_000000.wav', './content/LibriSeVoc/gt/4640_19188_000052_000000.wav', './content/LibriSeVoc/gt/2136_5147_000050_000002.wav', './content/LibriSeVoc/gt/8312_279791_000016_000001.wav', './content/LibriSeVoc/gt/7505_258964_000011_000005.wav', './content/LibriSeVoc/gt/7078_271888_000114_000000.wav', './content/LibriSeVoc/gt/1098_133695_000006_000012.wav', './content/LibriSeVoc/gt/8468_294887_000023_000000.wav', './content/LibriSeVoc/gt/6147_34607_000013_000029.wav', './content/LibriSeVoc/gt/8630_305212_000004_000001.wav', './content/LibriSeVoc/gt/40_121026_000039_000000.wav', './content/LibriSeVoc/gt/405_130894_000057_000000.wav', './content/LibriSeVoc/gt/7078_271888_000105_000000.wav', './content/LibriSeVoc/gt/3112_9555_000017_000001.wav', './content/LibriSeVoc/gt/8630_305213_000020_000001.wav', './content/LibriSeVoc/gt/8468_286673_000020_000002.wav', './content/LibriSeVoc/gt/2893_139322_000016_000000.wav', './content/LibriSeVoc/gt/7800_283493_000021_000000.wav', './content/LibriSeVoc/gt/6454_93938_000017_000001.wav', './content/LibriSeVoc/gt/1447_17506_000052_000003.wav', './content/LibriSeVoc/gt/1970_26100_000018_000001.wav', './content/LibriSeVoc/gt/250_142276_000006_000010.wav', './content/LibriSeVoc/gt/2893_139322_000006_000003.wav', './content/LibriSeVoc/gt/8580_287363_000013_000001.wav', './content/LibriSeVoc/gt/6181_216552_000085_000001.wav', './content/LibriSeVoc/gt/696_93314_000043_000003.wav', './content/LibriSeVoc/gt/6147_34605_000009_000018.wav', './content/LibriSeVoc/gt/374_180299_000045_000002.wav', './content/LibriSeVoc/gt/4788_91208_000009_000005.wav', './content/LibriSeVoc/gt/909_131041_000011_000001.wav', './content/LibriSeVoc/gt/8468_295198_000042_000000.wav', './content/LibriSeVoc/gt/5750_100289_000024_000005.wav', './content/LibriSeVoc/gt/831_130746_000076_000000.wav', './content/LibriSeVoc/gt/8468_294887_000005_000002.wav', './content/LibriSeVoc/gt/1553_140048_000016_000003.wav', './content/LibriSeVoc/gt/8238_283452_000033_000005.wav', './content/LibriSeVoc/gt/3526_176653_000002_000010.wav', './content/LibriSeVoc/gt/1553_140047_000004_000001.wav', './content/LibriSeVoc/gt/8088_284756_000113_000002.wav', './content/LibriSeVoc/gt/3664_178366_000019_000002.wav', './content/LibriSeVoc/gt/7505_258964_000018_000007.wav', './content/LibriSeVoc/gt/2092_145706_000034_000001.wav', './content/LibriSeVoc/gt/250_142286_000031_000000.wav', './content/LibriSeVoc/gt/6019_3185_000033_000006.wav', './content/LibriSeVoc/gt/1502_122619_000056_000005.wav', './content/LibriSeVoc/gt/7178_34645_000007_000019.wav', './content/LibriSeVoc/gt/3168_173564_000014_000005.wav', './content/LibriSeVoc/gt/4397_15678_000005_000003.wav', './content/LibriSeVoc/gt/8108_280359_000006_000001.wav', './content/LibriSeVoc/gt/6848_76049_000011_000009.wav', './content/LibriSeVoc/gt/1355_39947_000006_000002.wav', './content/LibriSeVoc/gt/6415_111615_000003_000003.wav', './content/LibriSeVoc/gt/6019_3185_000025_000001.wav', './content/LibriSeVoc/gt/8063_274112_000196_000000.wav', './content/LibriSeVoc/gt/2196_170151_000004_000000.wav', './content/LibriSeVoc/gt/5561_41615_000002_000002.wav', './content/LibriSeVoc/gt/6078_54007_000022_000000.wav', './content/LibriSeVoc/gt/2691_156755_000003_000000.wav', './content/LibriSeVoc/gt/7505_258958_000019_000006.wav', './content/LibriSeVoc/gt/78_369_000075_000004.wav', './content/LibriSeVoc/gt/1355_39947_000024_000014.wav', './content/LibriSeVoc/gt/7447_91186_000016_000002.wav', './content/LibriSeVoc/gt/5789_57158_000024_000003.wav', './content/LibriSeVoc/gt/374_180298_000016_000002.wav', './content/LibriSeVoc/gt/87_121553_000078_000000.wav', './content/LibriSeVoc/gt/6064_56165_000063_000001.wav', './content/LibriSeVoc/gt/446_123502_000012_000000.wav', './content/LibriSeVoc/gt/8063_274112_000086_000000.wav', './content/LibriSeVoc/gt/8580_287363_000019_000001.wav', './content/LibriSeVoc/gt/7794_295955_000002_000004.wav', './content/LibriSeVoc/gt/7278_246956_000013_000000.wav', './content/LibriSeVoc/gt/3526_176653_000071_000003.wav', './content/LibriSeVoc/gt/6081_41998_000014_000001.wav', './content/LibriSeVoc/gt/60_121082_000096_000000.wav', './content/LibriSeVoc/gt/7511_102420_000011_000001.wav', './content/LibriSeVoc/gt/6385_220959_000022_000005.wav', './content/LibriSeVoc/gt/2136_5147_000030_000001.wav', './content/LibriSeVoc/gt/4397_15668_000011_000000.wav', './content/LibriSeVoc/gt/40_121026_000178_000000.wav', './content/LibriSeVoc/gt/4160_11549_000017_000001.wav', './content/LibriSeVoc/gt/3240_131232_000008_000000.wav', './content/LibriSeVoc/gt/196_122152_000005_000002.wav', './content/LibriSeVoc/gt/6385_34669_000030_000000.wav', './content/LibriSeVoc/gt/374_180299_000021_000001.wav', './content/LibriSeVoc/gt/909_131041_000012_000004.wav', './content/LibriSeVoc/gt/6019_3185_000031_000003.wav', './content/LibriSeVoc/gt/8838_298546_000022_000012.wav', './content/LibriSeVoc/gt/60_121082_000010_000000.wav', './content/LibriSeVoc/gt/6437_66173_000005_000001.wav', './content/LibriSeVoc/gt/4297_13006_000065_000002.wav', './content/LibriSeVoc/gt/8312_279791_000038_000005.wav', './content/LibriSeVoc/gt/6880_216547_000018_000001.wav', './content/LibriSeVoc/gt/6019_3185_000027_000003.wav', './content/LibriSeVoc/gt/1088_129236_000020_000013.wav', './content/LibriSeVoc/gt/7067_76048_000075_000002.wav', './content/LibriSeVoc/diffwave/446_123501_000032_000001_gen.wav', './content/LibriSeVoc/diffwave/2514_149482_000006_000000_gen.wav', './content/LibriSeVoc/diffwave/5456_24741_000005_000001_gen.wav', './content/LibriSeVoc/diffwave/1069_133699_000033_000000_gen.wav', './content/LibriSeVoc/diffwave/8098_278278_000021_000004_gen.wav', './content/LibriSeVoc/diffwave/5561_41615_000055_000002_gen.wav', './content/LibriSeVoc/diffwave/7780_274562_000004_000007_gen.wav', './content/LibriSeVoc/diffwave/1355_39947_000005_000006_gen.wav', './content/LibriSeVoc/diffwave/4160_11549_000031_000002_gen.wav', './content/LibriSeVoc/diffwave/3982_178459_000056_000008_gen.wav', './content/LibriSeVoc/diffwave/6848_76049_000024_000008_gen.wav', './content/LibriSeVoc/diffwave/40_121026_000179_000004_gen.wav', './content/LibriSeVoc/diffwave/8324_286682_000020_000002_gen.wav', './content/LibriSeVoc/diffwave/3879_174923_000003_000005_gen.wav', './content/LibriSeVoc/diffwave/1088_129236_000006_000006_gen.wav', './content/LibriSeVoc/diffwave/6181_216552_000012_000001_gen.wav', './content/LibriSeVoc/diffwave/8238_283452_000023_000002_gen.wav', './content/LibriSeVoc/diffwave/412_126975_000065_000000_gen.wav', './content/LibriSeVoc/diffwave/3664_11714_000038_000000_gen.wav', './content/LibriSeVoc/diffwave/8123_275209_000004_000001_gen.wav', './content/LibriSeVoc/diffwave/8226_274371_000040_000003_gen.wav', './content/LibriSeVoc/diffwave/4195_186237_000039_000000_gen.wav', './content/LibriSeVoc/diffwave/3486_166446_000103_000000_gen.wav', './content/LibriSeVoc/diffwave/1088_134318_000044_000000_gen.wav', './content/LibriSeVoc/diffwave/6019_3185_000017_000001_gen.wav', './content/LibriSeVoc/diffwave/1578_140049_000024_000002_gen.wav', './content/LibriSeVoc/diffwave/7302_86814_000004_000001_gen.wav', './content/LibriSeVoc/diffwave/374_180298_000042_000000_gen.wav', './content/LibriSeVoc/diffwave/6385_34669_000029_000007_gen.wav', './content/LibriSeVoc/diffwave/7447_91186_000036_000000_gen.wav', './content/LibriSeVoc/diffwave/2007_149877_000002_000004_gen.wav', './content/LibriSeVoc/diffwave/1069_133709_000043_000033_gen.wav', './content/LibriSeVoc/diffwave/87_121553_000036_000000_gen.wav', './content/LibriSeVoc/diffwave/87_121553_000109_000000_gen.wav', './content/LibriSeVoc/diffwave/5339_14134_000068_000003_gen.wav', './content/LibriSeVoc/diffwave/3857_180923_000023_000000_gen.wav', './content/LibriSeVoc/diffwave/8609_283227_000010_000004_gen.wav', './content/LibriSeVoc/diffwave/2007_149877_000011_000004_gen.wav', './content/LibriSeVoc/diffwave/3879_173592_000021_000001_gen.wav', './content/LibriSeVoc/diffwave/4680_16042_000020_000004_gen.wav', './content/LibriSeVoc/diffwave/8238_274553_000008_000000_gen.wav', './content/LibriSeVoc/diffwave/587_54108_000052_000000_gen.wav', './content/LibriSeVoc/diffwave/7113_86041_000044_000000_gen.wav', './content/LibriSeVoc/diffwave/8747_293952_000062_000000_gen.wav', './content/LibriSeVoc/diffwave/2002_139469_000013_000002_gen.wav', './content/LibriSeVoc/diffwave/40_121026_000021_000000_gen.wav', './content/LibriSeVoc/diffwave/2843_152918_000008_000003_gen.wav', './content/LibriSeVoc/diffwave/2910_131096_000030_000000_gen.wav', './content/LibriSeVoc/diffwave/5867_48852_000047_000002_gen.wav', './content/LibriSeVoc/diffwave/8468_294887_000008_000000_gen.wav', './content/LibriSeVoc/diffwave/3235_28433_000009_000002_gen.wav', './content/LibriSeVoc/diffwave/2196_170379_000005_000002_gen.wav', './content/LibriSeVoc/diffwave/1263_141777_000015_000000_gen.wav', './content/LibriSeVoc/diffwave/3526_176653_000001_000006_gen.wav', './content/LibriSeVoc/diffwave/8226_274369_000035_000006_gen.wav', './content/LibriSeVoc/diffwave/2836_5355_000030_000000_gen.wav', './content/LibriSeVoc/diffwave/302_123516_000012_000000_gen.wav', './content/LibriSeVoc/diffwave/6454_93938_000034_000000_gen.wav', './content/LibriSeVoc/diffwave/1743_142913_000014_000000_gen.wav', './content/LibriSeVoc/diffwave/125_121124_000049_000003_gen.wav', './content/LibriSeVoc/diffwave/8629_261139_000023_000000_gen.wav', './content/LibriSeVoc/diffwave/412_126975_000051_000005_gen.wav', './content/LibriSeVoc/diffwave/3526_176651_000012_000017_gen.wav', './content/LibriSeVoc/diffwave/6147_34606_000012_000014_gen.wav', './content/LibriSeVoc/diffwave/254_12312_000003_000000_gen.wav', './content/LibriSeVoc/diffwave/6385_220959_000014_000001_gen.wav', './content/LibriSeVoc/diffwave/8226_274369_000001_000000_gen.wav', './content/LibriSeVoc/diffwave/8238_274553_000008_000004_gen.wav', './content/LibriSeVoc/diffwave/8312_279791_000025_000000_gen.wav', './content/LibriSeVoc/diffwave/4397_15666_000008_000002_gen.wav', './content/LibriSeVoc/diffwave/5561_41616_000030_000000_gen.wav', './content/LibriSeVoc/diffwave/3242_67153_000024_000002_gen.wav', './content/LibriSeVoc/diffwave/3879_174923_000017_000004_gen.wav', './content/LibriSeVoc/diffwave/6454_93938_000023_000002_gen.wav', './content/LibriSeVoc/diffwave/7859_102521_000017_000007_gen.wav', './content/LibriSeVoc/diffwave/696_93314_000003_000000_gen.wav', './content/LibriSeVoc/diffwave/3879_173592_000030_000000_gen.wav', './content/LibriSeVoc/diffwave/6147_34605_000003_000004_gen.wav', './content/LibriSeVoc/diffwave/1841_150351_000026_000005_gen.wav', './content/LibriSeVoc/diffwave/2843_152918_000001_000001_gen.wav', './content/LibriSeVoc/diffwave/6476_96661_000003_000001_gen.wav', './content/LibriSeVoc/diffwave/8468_286673_000019_000003_gen.wav', './content/LibriSeVoc/diffwave/8014_280382_000007_000003_gen.wav', './content/LibriSeVoc/diffwave/6385_220959_000020_000000_gen.wav', './content/LibriSeVoc/diffwave/7447_91186_000024_000000_gen.wav', './content/LibriSeVoc/diffwave/8108_274318_000018_000000_gen.wav', './content/LibriSeVoc/diffwave/7447_91187_000009_000004_gen.wav', './content/LibriSeVoc/diffwave/4397_15678_000006_000001_gen.wav', './content/LibriSeVoc/diffwave/2436_2481_000069_000000_gen.wav', './content/LibriSeVoc/diffwave/6209_34601_000099_000000_gen.wav', './content/LibriSeVoc/diffwave/2196_170151_000016_000000_gen.wav', './content/LibriSeVoc/diffwave/6415_111615_000019_000006_gen.wav', './content/LibriSeVoc/diffwave/5750_100289_000039_000006_gen.wav', './content/LibriSeVoc/diffwave/78_369_000006_000002_gen.wav', './content/LibriSeVoc/diffwave/7505_83618_000009_000001_gen.wav', './content/LibriSeVoc/diffwave/3982_178459_000002_000000_gen.wav', './content/LibriSeVoc/diffwave/8312_279791_000010_000000_gen.wav', './content/LibriSeVoc/diffwave/8238_283452_000033_000005_gen.wav', './content/LibriSeVoc/diffwave/5322_7679_000002_000015_gen.wav', './content/LibriSeVoc/diffwave/3436_172162_000018_000000_gen.wav']\n",
      "[1, 1, 1, 1, 1, 1, 1, 1, 1, 1, 1, 1, 1, 1, 1, 1, 1, 1, 1, 1, 1, 1, 1, 1, 1, 1, 1, 1, 1, 1, 1, 1, 1, 1, 1, 1, 1, 1, 1, 1, 1, 1, 1, 1, 1, 1, 1, 1, 1, 1, 1, 1, 1, 1, 1, 1, 1, 1, 1, 1, 1, 1, 1, 1, 1, 1, 1, 1, 1, 1, 1, 1, 1, 1, 1, 1, 1, 1, 1, 1, 1, 1, 1, 1, 1, 1, 1, 1, 1, 1, 1, 1, 1, 1, 1, 1, 1, 1, 1, 1, 0, 0, 0, 0, 0, 0, 0, 0, 0, 0, 0, 0, 0, 0, 0, 0, 0, 0, 0, 0, 0, 0, 0, 0, 0, 0, 0, 0, 0, 0, 0, 0, 0, 0, 0, 0, 0, 0, 0, 0, 0, 0, 0, 0, 0, 0, 0, 0, 0, 0, 0, 0, 0, 0, 0, 0, 0, 0, 0, 0, 0, 0, 0, 0, 0, 0, 0, 0, 0, 0, 0, 0, 0, 0, 0, 0, 0, 0, 0, 0, 0, 0, 0, 0, 0, 0, 0, 0, 0, 0, 0, 0, 0, 0, 0, 0, 0, 0, 0, 0]\n",
      "Index(['mfcc_1_mean', 'mfcc_2_mean', 'mfcc_3_mean', 'mfcc_4_mean',\n",
      "       'mfcc_5_mean', 'mfcc_6_mean', 'mfcc_7_mean', 'mfcc_8_mean',\n",
      "       'mfcc_9_mean', 'mfcc_10_mean', 'mfcc_11_mean', 'mfcc_12_mean',\n",
      "       'mfcc_13_mean', 'mfcc_14_mean', 'mfcc_15_mean', 'mfcc_16_mean',\n",
      "       'mfcc_17_mean', 'mfcc_18_mean', 'mfcc_19_mean', 'mfcc_20_mean',\n",
      "       'mfcc_21_mean', 'mfcc_22_mean', 'mfcc_23_mean', 'mfcc_24_mean',\n",
      "       'mfcc_25_mean', 'mfcc_26_mean', 'mfcc_27_mean', 'mfcc_28_mean',\n",
      "       'mfcc_29_mean', 'mfcc_30_mean'],\n",
      "      dtype='object')\n",
      "Test data: (353, 30) (353,)\n",
      "\u001b[1m3/3\u001b[0m \u001b[32m━━━━━━━━━━━━━━━━━━━━\u001b[0m\u001b[37m\u001b[0m \u001b[1m1s\u001b[0m 132ms/step\n",
      "[[0.9871351 ]\n",
      " [0.00471679]\n",
      " [0.01093728]\n",
      " [0.00604855]\n",
      " [0.06074136]\n",
      " [0.00579876]\n",
      " [0.00608603]\n",
      " [0.00470574]\n",
      " [0.9534828 ]\n",
      " [0.99643517]\n",
      " [0.9361404 ]\n",
      " [0.9977915 ]\n",
      " [0.9745977 ]\n",
      " [0.00452147]\n",
      " [0.59748065]\n",
      " [0.9937744 ]\n",
      " [0.9836902 ]\n",
      " [0.352804  ]\n",
      " [0.00480273]\n",
      " [0.9898004 ]\n",
      " [0.00496583]\n",
      " [0.03074269]\n",
      " [0.9007758 ]\n",
      " [0.00425086]\n",
      " [0.99760866]\n",
      " [0.9975737 ]\n",
      " [0.9977755 ]\n",
      " [0.99758136]\n",
      " [0.82772565]\n",
      " [0.9391419 ]\n",
      " [0.9914545 ]\n",
      " [0.7119054 ]\n",
      " [0.00513799]\n",
      " [0.00435448]\n",
      " [0.95476085]\n",
      " [0.9952224 ]\n",
      " [0.98221576]\n",
      " [0.9972994 ]\n",
      " [0.9914272 ]\n",
      " [0.00537806]\n",
      " [0.0052349 ]\n",
      " [0.9975509 ]\n",
      " [0.997216  ]\n",
      " [0.9978009 ]\n",
      " [0.9970445 ]\n",
      " [0.9981431 ]\n",
      " [0.9968605 ]\n",
      " [0.01146211]\n",
      " [0.00470042]\n",
      " [0.04941867]\n",
      " [0.9945721 ]\n",
      " [0.9968104 ]\n",
      " [0.03822559]\n",
      " [0.00428434]\n",
      " [0.9979784 ]\n",
      " [0.7388401 ]\n",
      " [0.9977055 ]\n",
      " [0.85226375]\n",
      " [0.89757025]\n",
      " [0.9971374 ]\n",
      " [0.96914196]\n",
      " [0.0683789 ]\n",
      " [0.9444259 ]\n",
      " [0.00440981]\n",
      " [0.00465515]\n",
      " [0.01083264]\n",
      " [0.00671259]\n",
      " [0.0050823 ]\n",
      " [0.01030117]]\n"
     ]
    }
   ],
   "source": [
    "from sklearn.preprocessing import StandardScaler\n",
    "from tensorflow.keras.preprocessing.sequence import pad_sequences\n",
    "import pickle\n",
    "\n",
    "\n",
    "# Function to evaluate the model\n",
    "def evaluate_model(model, audio_paths, labels):\n",
    "    # features = process_audio_files(audio_paths, labels=labels, output_csv='test.csv')\n",
    "    df_test = pd.read_csv('test.csv')\n",
    "\n",
    "    # Extract features and labels from the dataframe\n",
    "    features = df_test.drop(columns=['label', 'sampling_rate', 'file_path'])\n",
    "    print(features.columns)\n",
    "    labels = df_test['label']\n",
    "    print('Test data:', features.shape, labels.shape)\n",
    "\n",
    "    # 1. Create sequences\n",
    "    sequence_length = 10  # Example value, adjust as needed\n",
    "    overlap = 5  # Example value, adjust as needed\n",
    "    sequences, indices = create_sequences(features, sequence_length, overlap)\n",
    "    labels = labels[indices]\n",
    "\n",
    "    # 2. Pad sequences\n",
    "    padded_sequences = pad_sequences(\n",
    "        sequences, maxlen=sequence_length, padding=\"pre\", truncating=\"post\"\n",
    "    )\n",
    "\n",
    "    # Scale features\n",
    "    with open('./output/scaler.pkl', 'rb') as f:\n",
    "        scaler = pickle.load(f)\n",
    "\n",
    "    # Reshape padded_sequences for scaling\n",
    "    num_samples, seq_len, num_features = padded_sequences.shape\n",
    "    padded_sequences_reshaped = padded_sequences.reshape(\n",
    "        num_samples, seq_len * num_features\n",
    "    )\n",
    "\n",
    "    # Fit and transform the scaler on the reshaped data\n",
    "    padded_sequences_scaled = scaler.fit_transform(padded_sequences_reshaped)\n",
    "\n",
    "    # Reshape the scaled data back to the original shape\n",
    "    padded_sequences = padded_sequences_scaled.reshape(\n",
    "        num_samples, seq_len, num_features\n",
    "    )\n",
    "\n",
    "    # Make predictions\n",
    "    predictions = model.predict(padded_sequences)\n",
    "    print(predictions)\n",
    "    # Evaluate the model\n",
    "    # accuracy = np.mean((np.array(predictions) >= 0.5).astype(int) == labels)\n",
    "    # print(f\"Model accuracy: {accuracy * 100:.2f}%\")\n",
    "\n",
    "# Create a list of audio paths and corresponding labels\n",
    "audio_paths = selected_gt_files + selected_diffwave_files\n",
    "labels = [1] * len(selected_gt_files) + [0] * len(selected_diffwave_files)\n",
    "\n",
    "print(audio_paths)\n",
    "print(labels)\n",
    "evaluate_model(model, audio_paths=audio_paths, labels=labels)"
   ]
  },
  {
   "cell_type": "code",
   "execution_count": null,
   "metadata": {},
   "outputs": [],
   "source": []
  }
 ],
 "metadata": {
  "kernelspec": {
   "display_name": "venv",
   "language": "python",
   "name": "python3"
  },
  "language_info": {
   "codemirror_mode": {
    "name": "ipython",
    "version": 3
   },
   "file_extension": ".py",
   "mimetype": "text/x-python",
   "name": "python",
   "nbconvert_exporter": "python",
   "pygments_lexer": "ipython3",
   "version": "3.10.15"
  }
 },
 "nbformat": 4,
 "nbformat_minor": 2
}
