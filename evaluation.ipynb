{
 "cells": [
  {
   "cell_type": "code",
   "execution_count": 44,
   "metadata": {},
   "outputs": [
    {
     "name": "stderr",
     "output_type": "stream",
     "text": [
      "Processing GT files:   0%|          | 0/100 [00:00<?, ?it/s]/Users/ronan/Developer/deepfake-audio-detector/utils.py:20: FutureWarning: get_duration() keyword argument 'filename' has been renamed to 'path' in version 0.10.0.\n",
      "\tThis alias will be removed in version 1.0.\n",
      "  duration = librosa.get_duration(filename=file_path)\n",
      "Processing GT files: 100%|██████████| 100/100 [00:01<00:00, 65.04it/s]\n",
      "Processing Diffwave files: 100%|██████████| 100/100 [00:01<00:00, 62.88it/s]"
     ]
    },
    {
     "name": "stdout",
     "output_type": "stream",
     "text": [
      "Selected GT files: ['content/LibriSeVoc/gt/6078_54007_000000_000000.wav', 'content/LibriSeVoc/gt/6476_57446_000068_000001.wav', 'content/LibriSeVoc/gt/6367_74004_000033_000000.wav', 'content/LibriSeVoc/gt/2518_154825_000019_000001.wav', 'content/LibriSeVoc/gt/7800_283492_000045_000000.wav', 'content/LibriSeVoc/gt/1502_122619_000035_000002.wav', 'content/LibriSeVoc/gt/2289_152257_000012_000000.wav', 'content/LibriSeVoc/gt/250_142286_000056_000000.wav', 'content/LibriSeVoc/gt/1624_142933_000023_000003.wav', 'content/LibriSeVoc/gt/6454_93938_000023_000000.wav', 'content/LibriSeVoc/gt/5703_47212_000022_000000.wav', 'content/LibriSeVoc/gt/7402_90848_000059_000003.wav', 'content/LibriSeVoc/gt/5678_43301_000005_000000.wav', 'content/LibriSeVoc/gt/4397_15678_000004_000001.wav', 'content/LibriSeVoc/gt/3879_174923_000025_000001.wav', 'content/LibriSeVoc/gt/7059_77897_000005_000002.wav', 'content/LibriSeVoc/gt/6385_220959_000007_000006.wav', 'content/LibriSeVoc/gt/2836_5355_000024_000000.wav', 'content/LibriSeVoc/gt/5867_48852_000015_000004.wav', 'content/LibriSeVoc/gt/3664_178355_000003_000003.wav', 'content/LibriSeVoc/gt/125_121124_000046_000001.wav', 'content/LibriSeVoc/gt/6437_66173_000005_000000.wav', 'content/LibriSeVoc/gt/1116_132847_000076_000000.wav', 'content/LibriSeVoc/gt/2289_152254_000022_000002.wav', 'content/LibriSeVoc/gt/5339_14133_000003_000002.wav', 'content/LibriSeVoc/gt/7402_90848_000048_000001.wav', 'content/LibriSeVoc/gt/4640_19187_000030_000005.wav', 'content/LibriSeVoc/gt/6437_66173_000032_000000.wav', 'content/LibriSeVoc/gt/2289_152254_000004_000000.wav', 'content/LibriSeVoc/gt/1502_122619_000013_000000.wav', 'content/LibriSeVoc/gt/1088_129236_000007_000012.wav', 'content/LibriSeVoc/gt/1183_133256_000021_000001.wav', 'content/LibriSeVoc/gt/1355_39947_000009_000006.wav', 'content/LibriSeVoc/gt/6078_54007_000037_000000.wav', 'content/LibriSeVoc/gt/5104_33407_000016_000000.wav', 'content/LibriSeVoc/gt/196_122159_000014_000022.wav', 'content/LibriSeVoc/gt/1355_39947_000010_000002.wav', 'content/LibriSeVoc/gt/1263_138246_000036_000000.wav', 'content/LibriSeVoc/gt/5778_54535_000012_000004.wav', 'content/LibriSeVoc/gt/8630_305213_000019_000000.wav', 'content/LibriSeVoc/gt/1040_133433_000129_000000.wav', 'content/LibriSeVoc/gt/3168_173564_000010_000000.wav', 'content/LibriSeVoc/gt/696_93314_000001_000002.wav', 'content/LibriSeVoc/gt/8630_305213_000008_000002.wav', 'content/LibriSeVoc/gt/6209_34601_000096_000052.wav', 'content/LibriSeVoc/gt/4195_17507_000045_000000.wav', 'content/LibriSeVoc/gt/5104_33407_000074_000000.wav', 'content/LibriSeVoc/gt/1553_140048_000020_000000.wav', 'content/LibriSeVoc/gt/5393_19219_000015_000009.wav', 'content/LibriSeVoc/gt/3830_12530_000038_000003.wav', 'content/LibriSeVoc/gt/3242_67153_000016_000008.wav', 'content/LibriSeVoc/gt/8226_274369_000035_000001.wav', 'content/LibriSeVoc/gt/8312_279790_000014_000000.wav', 'content/LibriSeVoc/gt/7800_283478_000049_000002.wav', 'content/LibriSeVoc/gt/32_21631_000008_000002.wav', 'content/LibriSeVoc/gt/1841_179183_000022_000001.wav', 'content/LibriSeVoc/gt/7859_102519_000008_000002.wav', 'content/LibriSeVoc/gt/446_123501_000036_000004.wav', 'content/LibriSeVoc/gt/1116_132847_000014_000000.wav', 'content/LibriSeVoc/gt/1898_145702_000009_000000.wav', 'content/LibriSeVoc/gt/6272_70168_000013_000000.wav', 'content/LibriSeVoc/gt/1116_132847_000023_000000.wav', 'content/LibriSeVoc/gt/7178_34645_000041_000003.wav', 'content/LibriSeVoc/gt/6064_56168_000002_000001.wav', 'content/LibriSeVoc/gt/2136_5143_000027_000002.wav', 'content/LibriSeVoc/gt/730_358_000014_000002.wav', 'content/LibriSeVoc/gt/6000_55211_000032_000000.wav', 'content/LibriSeVoc/gt/3830_12531_000030_000003.wav', 'content/LibriSeVoc/gt/4088_158077_000065_000002.wav', 'content/LibriSeVoc/gt/3168_173565_000027_000006.wav', 'content/LibriSeVoc/gt/7402_59171_000010_000007.wav', 'content/LibriSeVoc/gt/6454_93938_000032_000002.wav', 'content/LibriSeVoc/gt/4214_7146_000028_000015.wav', 'content/LibriSeVoc/gt/3112_9555_000017_000012.wav', 'content/LibriSeVoc/gt/118_47824_000125_000001.wav', 'content/LibriSeVoc/gt/7800_283492_000010_000000.wav', 'content/LibriSeVoc/gt/5393_19218_000029_000007.wav', 'content/LibriSeVoc/gt/696_93314_000027_000000.wav', 'content/LibriSeVoc/gt/8312_279791_000014_000006.wav', 'content/LibriSeVoc/gt/1624_142933_000014_000003.wav', 'content/LibriSeVoc/gt/730_358_000005_000000.wav', 'content/LibriSeVoc/gt/8838_298545_000063_000000.wav', 'content/LibriSeVoc/gt/40_121026_000131_000000.wav', 'content/LibriSeVoc/gt/446_123502_000028_000002.wav', 'content/LibriSeVoc/gt/8123_275209_000036_000000.wav', 'content/LibriSeVoc/gt/2136_5143_000036_000000.wav', 'content/LibriSeVoc/gt/405_130895_000014_000000.wav', 'content/LibriSeVoc/gt/125_121124_000060_000003.wav', 'content/LibriSeVoc/gt/32_4137_000023_000008.wav', 'content/LibriSeVoc/gt/8238_274553_000008_000008.wav', 'content/LibriSeVoc/gt/4406_16882_000007_000009.wav', 'content/LibriSeVoc/gt/6209_34599_000023_000005.wav', 'content/LibriSeVoc/gt/696_93314_000010_000000.wav', 'content/LibriSeVoc/gt/6272_70168_000046_000000.wav', 'content/LibriSeVoc/gt/6454_107462_000019_000001.wav', 'content/LibriSeVoc/gt/201_122255_000028_000000.wav', 'content/LibriSeVoc/gt/3607_29116_000058_000001.wav', 'content/LibriSeVoc/gt/3240_131231_000031_000001.wav', 'content/LibriSeVoc/gt/5808_54425_000051_000005.wav', 'content/LibriSeVoc/gt/6272_70191_000030_000001.wav']\n",
      "Selected Diffwave files: ['content/LibriSeVoc/diffwave/8609_262281_000014_000000_gen.wav', 'content/LibriSeVoc/diffwave/322_124146_000027_000001_gen.wav', 'content/LibriSeVoc/diffwave/6454_120342_000035_000000_gen.wav', 'content/LibriSeVoc/diffwave/6415_100596_000051_000004_gen.wav', 'content/LibriSeVoc/diffwave/2836_5355_000085_000002_gen.wav', 'content/LibriSeVoc/diffwave/40_121026_000190_000003_gen.wav', 'content/LibriSeVoc/diffwave/5393_19219_000048_000001_gen.wav', 'content/LibriSeVoc/diffwave/5678_43301_000006_000000_gen.wav', 'content/LibriSeVoc/diffwave/5750_100289_000039_000002_gen.wav', 'content/LibriSeVoc/diffwave/1334_135589_000026_000000_gen.wav', 'content/LibriSeVoc/diffwave/2136_5143_000069_000000_gen.wav', 'content/LibriSeVoc/diffwave/6064_300880_000069_000001_gen.wav', 'content/LibriSeVoc/diffwave/118_47824_000049_000004_gen.wav', 'content/LibriSeVoc/diffwave/1116_132851_000011_000001_gen.wav', 'content/LibriSeVoc/diffwave/8630_305212_000015_000004_gen.wav', 'content/LibriSeVoc/diffwave/1363_139304_000010_000005_gen.wav', 'content/LibriSeVoc/diffwave/4788_91208_000012_000003_gen.wav', 'content/LibriSeVoc/diffwave/7511_102420_000007_000003_gen.wav', 'content/LibriSeVoc/diffwave/5867_48852_000084_000006_gen.wav', 'content/LibriSeVoc/diffwave/1502_122615_000043_000005_gen.wav', 'content/LibriSeVoc/diffwave/4267_78186_000005_000002_gen.wav', 'content/LibriSeVoc/diffwave/7794_295955_000004_000009_gen.wav', 'content/LibriSeVoc/diffwave/7178_34645_000041_000003_gen.wav', 'content/LibriSeVoc/diffwave/2514_149482_000015_000000_gen.wav', 'content/LibriSeVoc/diffwave/8324_286682_000005_000003_gen.wav', 'content/LibriSeVoc/diffwave/1867_154075_000079_000001_gen.wav', 'content/LibriSeVoc/diffwave/2289_152254_000020_000000_gen.wav', 'content/LibriSeVoc/diffwave/6385_34669_000017_000000_gen.wav', 'content/LibriSeVoc/diffwave/6415_100596_000071_000000_gen.wav', 'content/LibriSeVoc/diffwave/1553_140048_000002_000003_gen.wav', 'content/LibriSeVoc/diffwave/6147_34605_000030_000001_gen.wav', 'content/LibriSeVoc/diffwave/2182_181183_000015_000000_gen.wav', 'content/LibriSeVoc/diffwave/8580_287364_000021_000003_gen.wav', 'content/LibriSeVoc/diffwave/374_180298_000009_000002_gen.wav', 'content/LibriSeVoc/diffwave/587_54108_000046_000000_gen.wav', 'content/LibriSeVoc/diffwave/87_121553_000245_000000_gen.wav', 'content/LibriSeVoc/diffwave/8630_305213_000014_000002_gen.wav', 'content/LibriSeVoc/diffwave/6476_57446_000017_000001_gen.wav', 'content/LibriSeVoc/diffwave/7312_92432_000009_000007_gen.wav', 'content/LibriSeVoc/diffwave/7078_271888_000066_000003_gen.wav', 'content/LibriSeVoc/diffwave/5163_18515_000046_000001_gen.wav', 'content/LibriSeVoc/diffwave/2136_5140_000023_000003_gen.wav', 'content/LibriSeVoc/diffwave/6078_54007_000045_000001_gen.wav', 'content/LibriSeVoc/diffwave/87_121553_000018_000000_gen.wav', 'content/LibriSeVoc/diffwave/6437_66173_000012_000000_gen.wav', 'content/LibriSeVoc/diffwave/1841_150351_000017_000005_gen.wav', 'content/LibriSeVoc/diffwave/6078_54013_000027_000001_gen.wav', 'content/LibriSeVoc/diffwave/8468_294887_000004_000002_gen.wav', 'content/LibriSeVoc/diffwave/3664_178355_000019_000000_gen.wav', 'content/LibriSeVoc/diffwave/8014_112602_000002_000002_gen.wav', 'content/LibriSeVoc/diffwave/87_121553_000083_000000_gen.wav', 'content/LibriSeVoc/diffwave/40_222_000011_000005_gen.wav', 'content/LibriSeVoc/diffwave/6385_220959_000006_000000_gen.wav', 'content/LibriSeVoc/diffwave/3440_171009_000032_000000_gen.wav', 'content/LibriSeVoc/diffwave/7447_91187_000008_000003_gen.wav', 'content/LibriSeVoc/diffwave/7402_59171_000005_000008_gen.wav', 'content/LibriSeVoc/diffwave/8747_293952_000005_000000_gen.wav', 'content/LibriSeVoc/diffwave/3830_12530_000061_000002_gen.wav', 'content/LibriSeVoc/diffwave/250_142286_000010_000001_gen.wav', 'content/LibriSeVoc/diffwave/1116_132847_000018_000000_gen.wav', 'content/LibriSeVoc/diffwave/4214_7146_000009_000002_gen.wav', 'content/LibriSeVoc/diffwave/8123_275216_000032_000001_gen.wav', 'content/LibriSeVoc/diffwave/696_92939_000016_000000_gen.wav', 'content/LibriSeVoc/diffwave/1355_39947_000004_000010_gen.wav', 'content/LibriSeVoc/diffwave/887_123291_000011_000000_gen.wav', 'content/LibriSeVoc/diffwave/1069_133699_000016_000000_gen.wav', 'content/LibriSeVoc/diffwave/4406_16883_000016_000008_gen.wav', 'content/LibriSeVoc/diffwave/3664_178366_000022_000002_gen.wav', 'content/LibriSeVoc/diffwave/374_180299_000038_000002_gen.wav', 'content/LibriSeVoc/diffwave/2836_5355_000063_000001_gen.wav', 'content/LibriSeVoc/diffwave/250_142286_000015_000003_gen.wav', 'content/LibriSeVoc/diffwave/1355_39947_000004_000000_gen.wav', 'content/LibriSeVoc/diffwave/298_126791_000078_000001_gen.wav', 'content/LibriSeVoc/diffwave/7511_102419_000024_000002_gen.wav', 'content/LibriSeVoc/diffwave/1578_140045_000007_000000_gen.wav', 'content/LibriSeVoc/diffwave/374_180299_000045_000001_gen.wav', 'content/LibriSeVoc/diffwave/6529_62554_000016_000000_gen.wav', 'content/LibriSeVoc/diffwave/426_122822_000042_000005_gen.wav', 'content/LibriSeVoc/diffwave/4481_17498_000017_000000_gen.wav', 'content/LibriSeVoc/diffwave/1447_130550_000085_000000_gen.wav', 'content/LibriSeVoc/diffwave/887_123290_000020_000000_gen.wav', 'content/LibriSeVoc/diffwave/7447_91186_000027_000009_gen.wav', 'content/LibriSeVoc/diffwave/3235_11599_000020_000002_gen.wav', 'content/LibriSeVoc/diffwave/8580_287364_000031_000001_gen.wav', 'content/LibriSeVoc/diffwave/5867_48852_000072_000007_gen.wav', 'content/LibriSeVoc/diffwave/5163_39921_000027_000002_gen.wav', 'content/LibriSeVoc/diffwave/7800_283493_000049_000000_gen.wav', 'content/LibriSeVoc/diffwave/460_172359_000082_000000_gen.wav', 'content/LibriSeVoc/diffwave/460_172359_000009_000002_gen.wav', 'content/LibriSeVoc/diffwave/7367_86737_000084_000000_gen.wav', 'content/LibriSeVoc/diffwave/3830_12530_000064_000000_gen.wav', 'content/LibriSeVoc/diffwave/4406_16883_000016_000018_gen.wav', 'content/LibriSeVoc/diffwave/4788_91208_000007_000003_gen.wav', 'content/LibriSeVoc/diffwave/1098_133695_000014_000004_gen.wav', 'content/LibriSeVoc/diffwave/1183_124566_000011_000001_gen.wav', 'content/LibriSeVoc/diffwave/2836_5355_000076_000001_gen.wav', 'content/LibriSeVoc/diffwave/2092_145706_000029_000000_gen.wav', 'content/LibriSeVoc/diffwave/1235_135884_000010_000001_gen.wav', 'content/LibriSeVoc/diffwave/6078_54007_000038_000002_gen.wav', 'content/LibriSeVoc/diffwave/7859_102519_000022_000000_gen.wav']\n"
     ]
    },
    {
     "name": "stderr",
     "output_type": "stream",
     "text": [
      "\n"
     ]
    }
   ],
   "source": [
    "import tensorflow as tf\n",
    "from tensorflow.keras.models import load_model\n",
    "import numpy as np\n",
    "from utils import process_audio_files, create_sequences, AudioFeatureExtractor\n",
    "import os\n",
    "import random\n",
    "import pandas as pd\n",
    "from tqdm import tqdm\n",
    "\n",
    "# Load the dataframe\n",
    "df = pd.read_csv('output/data/merged_df.csv')\n",
    "\n",
    "# Get the list of file paths from the dataframe\n",
    "file_paths = df['file_path'].tolist()\n",
    "\n",
    "# Directories containing the files\n",
    "gt_dir = 'content/LibriSeVoc/gt'\n",
    "diffwave_dir = 'content/LibriSeVoc/diffwave'\n",
    "\n",
    "# Initialize lists to store the selected files\n",
    "gt_files = []\n",
    "diffwave_files = []\n",
    "\n",
    "pbar = tqdm(total=100)\n",
    "pbar.set_description(\"Processing GT files\")\n",
    "\n",
    "# Get list of files in each directory and filter based on criteria\n",
    "for f in reversed(os.listdir(gt_dir)):\n",
    "    file_path = os.path.join(gt_dir, f)\n",
    "    if file_path not in file_paths and AudioFeatureExtractor.get_audio_duration(file_path) <= 10:\n",
    "        gt_files.append(file_path)\n",
    "        pbar.update(1)\n",
    "        if len(gt_files) == 100:\n",
    "            break\n",
    "\n",
    "pbar.close()\n",
    "pbar = tqdm(total=100)\n",
    "pbar.set_description(\"Processing Diffwave files\")\n",
    "\n",
    "for f in os.listdir(diffwave_dir):\n",
    "    file_path = os.path.join(diffwave_dir, f)\n",
    "    if file_path not in file_paths and AudioFeatureExtractor.get_audio_duration(file_path) <= 10:\n",
    "        diffwave_files.append(file_path)\n",
    "        pbar.update(1)\n",
    "        if len(diffwave_files) == 100:\n",
    "            break\n",
    "pbar.close()\n",
    "\n",
    "# Randomly select 10 files from each directory\n",
    "selected_gt_files = random.sample(gt_files, 100)\n",
    "selected_diffwave_files = random.sample(diffwave_files, 100)\n",
    "\n",
    "print(\"Selected GT files:\", selected_gt_files)\n",
    "print(\"Selected Diffwave files:\", selected_diffwave_files)"
   ]
  },
  {
   "cell_type": "code",
   "execution_count": 45,
   "metadata": {},
   "outputs": [
    {
     "data": {
      "text/html": [
       "<pre style=\"white-space:pre;overflow-x:auto;line-height:normal;font-family:Menlo,'DejaVu Sans Mono',consolas,'Courier New',monospace\"><span style=\"font-weight: bold\">Model: \"sequential_19\"</span>\n",
       "</pre>\n"
      ],
      "text/plain": [
       "\u001b[1mModel: \"sequential_19\"\u001b[0m\n"
      ]
     },
     "metadata": {},
     "output_type": "display_data"
    },
    {
     "data": {
      "text/html": [
       "<pre style=\"white-space:pre;overflow-x:auto;line-height:normal;font-family:Menlo,'DejaVu Sans Mono',consolas,'Courier New',monospace\">┏━━━━━━━━━━━━━━━━━━━━━━━━━━━━━━━━━┳━━━━━━━━━━━━━━━━━━━━━━━━┳━━━━━━━━━━━━━━━┓\n",
       "┃<span style=\"font-weight: bold\"> Layer (type)                    </span>┃<span style=\"font-weight: bold\"> Output Shape           </span>┃<span style=\"font-weight: bold\">       Param # </span>┃\n",
       "┡━━━━━━━━━━━━━━━━━━━━━━━━━━━━━━━━━╇━━━━━━━━━━━━━━━━━━━━━━━━╇━━━━━━━━━━━━━━━┩\n",
       "│ lstm_54 (<span style=\"color: #0087ff; text-decoration-color: #0087ff\">LSTM</span>)                  │ (<span style=\"color: #00d7ff; text-decoration-color: #00d7ff\">None</span>, <span style=\"color: #00af00; text-decoration-color: #00af00\">2</span>, <span style=\"color: #00af00; text-decoration-color: #00af00\">128</span>)         │        <span style=\"color: #00af00; text-decoration-color: #00af00\">81,408</span> │\n",
       "├─────────────────────────────────┼────────────────────────┼───────────────┤\n",
       "│ dropout_53 (<span style=\"color: #0087ff; text-decoration-color: #0087ff\">Dropout</span>)            │ (<span style=\"color: #00d7ff; text-decoration-color: #00d7ff\">None</span>, <span style=\"color: #00af00; text-decoration-color: #00af00\">2</span>, <span style=\"color: #00af00; text-decoration-color: #00af00\">128</span>)         │             <span style=\"color: #00af00; text-decoration-color: #00af00\">0</span> │\n",
       "├─────────────────────────────────┼────────────────────────┼───────────────┤\n",
       "│ lstm_55 (<span style=\"color: #0087ff; text-decoration-color: #0087ff\">LSTM</span>)                  │ (<span style=\"color: #00d7ff; text-decoration-color: #00d7ff\">None</span>, <span style=\"color: #00af00; text-decoration-color: #00af00\">2</span>, <span style=\"color: #00af00; text-decoration-color: #00af00\">128</span>)         │       <span style=\"color: #00af00; text-decoration-color: #00af00\">131,584</span> │\n",
       "├─────────────────────────────────┼────────────────────────┼───────────────┤\n",
       "│ dropout_54 (<span style=\"color: #0087ff; text-decoration-color: #0087ff\">Dropout</span>)            │ (<span style=\"color: #00d7ff; text-decoration-color: #00d7ff\">None</span>, <span style=\"color: #00af00; text-decoration-color: #00af00\">2</span>, <span style=\"color: #00af00; text-decoration-color: #00af00\">128</span>)         │             <span style=\"color: #00af00; text-decoration-color: #00af00\">0</span> │\n",
       "├─────────────────────────────────┼────────────────────────┼───────────────┤\n",
       "│ lstm_56 (<span style=\"color: #0087ff; text-decoration-color: #0087ff\">LSTM</span>)                  │ (<span style=\"color: #00d7ff; text-decoration-color: #00d7ff\">None</span>, <span style=\"color: #00af00; text-decoration-color: #00af00\">128</span>)            │       <span style=\"color: #00af00; text-decoration-color: #00af00\">131,584</span> │\n",
       "├─────────────────────────────────┼────────────────────────┼───────────────┤\n",
       "│ dense_54 (<span style=\"color: #0087ff; text-decoration-color: #0087ff\">Dense</span>)                │ (<span style=\"color: #00d7ff; text-decoration-color: #00d7ff\">None</span>, <span style=\"color: #00af00; text-decoration-color: #00af00\">512</span>)            │        <span style=\"color: #00af00; text-decoration-color: #00af00\">66,048</span> │\n",
       "├─────────────────────────────────┼────────────────────────┼───────────────┤\n",
       "│ dropout_55 (<span style=\"color: #0087ff; text-decoration-color: #0087ff\">Dropout</span>)            │ (<span style=\"color: #00d7ff; text-decoration-color: #00d7ff\">None</span>, <span style=\"color: #00af00; text-decoration-color: #00af00\">512</span>)            │             <span style=\"color: #00af00; text-decoration-color: #00af00\">0</span> │\n",
       "├─────────────────────────────────┼────────────────────────┼───────────────┤\n",
       "│ dense_55 (<span style=\"color: #0087ff; text-decoration-color: #0087ff\">Dense</span>)                │ (<span style=\"color: #00d7ff; text-decoration-color: #00d7ff\">None</span>, <span style=\"color: #00af00; text-decoration-color: #00af00\">64</span>)             │        <span style=\"color: #00af00; text-decoration-color: #00af00\">32,832</span> │\n",
       "├─────────────────────────────────┼────────────────────────┼───────────────┤\n",
       "│ dense_56 (<span style=\"color: #0087ff; text-decoration-color: #0087ff\">Dense</span>)                │ (<span style=\"color: #00d7ff; text-decoration-color: #00d7ff\">None</span>, <span style=\"color: #00af00; text-decoration-color: #00af00\">1</span>)              │            <span style=\"color: #00af00; text-decoration-color: #00af00\">65</span> │\n",
       "└─────────────────────────────────┴────────────────────────┴───────────────┘\n",
       "</pre>\n"
      ],
      "text/plain": [
       "┏━━━━━━━━━━━━━━━━━━━━━━━━━━━━━━━━━┳━━━━━━━━━━━━━━━━━━━━━━━━┳━━━━━━━━━━━━━━━┓\n",
       "┃\u001b[1m \u001b[0m\u001b[1mLayer (type)                   \u001b[0m\u001b[1m \u001b[0m┃\u001b[1m \u001b[0m\u001b[1mOutput Shape          \u001b[0m\u001b[1m \u001b[0m┃\u001b[1m \u001b[0m\u001b[1m      Param #\u001b[0m\u001b[1m \u001b[0m┃\n",
       "┡━━━━━━━━━━━━━━━━━━━━━━━━━━━━━━━━━╇━━━━━━━━━━━━━━━━━━━━━━━━╇━━━━━━━━━━━━━━━┩\n",
       "│ lstm_54 (\u001b[38;5;33mLSTM\u001b[0m)                  │ (\u001b[38;5;45mNone\u001b[0m, \u001b[38;5;34m2\u001b[0m, \u001b[38;5;34m128\u001b[0m)         │        \u001b[38;5;34m81,408\u001b[0m │\n",
       "├─────────────────────────────────┼────────────────────────┼───────────────┤\n",
       "│ dropout_53 (\u001b[38;5;33mDropout\u001b[0m)            │ (\u001b[38;5;45mNone\u001b[0m, \u001b[38;5;34m2\u001b[0m, \u001b[38;5;34m128\u001b[0m)         │             \u001b[38;5;34m0\u001b[0m │\n",
       "├─────────────────────────────────┼────────────────────────┼───────────────┤\n",
       "│ lstm_55 (\u001b[38;5;33mLSTM\u001b[0m)                  │ (\u001b[38;5;45mNone\u001b[0m, \u001b[38;5;34m2\u001b[0m, \u001b[38;5;34m128\u001b[0m)         │       \u001b[38;5;34m131,584\u001b[0m │\n",
       "├─────────────────────────────────┼────────────────────────┼───────────────┤\n",
       "│ dropout_54 (\u001b[38;5;33mDropout\u001b[0m)            │ (\u001b[38;5;45mNone\u001b[0m, \u001b[38;5;34m2\u001b[0m, \u001b[38;5;34m128\u001b[0m)         │             \u001b[38;5;34m0\u001b[0m │\n",
       "├─────────────────────────────────┼────────────────────────┼───────────────┤\n",
       "│ lstm_56 (\u001b[38;5;33mLSTM\u001b[0m)                  │ (\u001b[38;5;45mNone\u001b[0m, \u001b[38;5;34m128\u001b[0m)            │       \u001b[38;5;34m131,584\u001b[0m │\n",
       "├─────────────────────────────────┼────────────────────────┼───────────────┤\n",
       "│ dense_54 (\u001b[38;5;33mDense\u001b[0m)                │ (\u001b[38;5;45mNone\u001b[0m, \u001b[38;5;34m512\u001b[0m)            │        \u001b[38;5;34m66,048\u001b[0m │\n",
       "├─────────────────────────────────┼────────────────────────┼───────────────┤\n",
       "│ dropout_55 (\u001b[38;5;33mDropout\u001b[0m)            │ (\u001b[38;5;45mNone\u001b[0m, \u001b[38;5;34m512\u001b[0m)            │             \u001b[38;5;34m0\u001b[0m │\n",
       "├─────────────────────────────────┼────────────────────────┼───────────────┤\n",
       "│ dense_55 (\u001b[38;5;33mDense\u001b[0m)                │ (\u001b[38;5;45mNone\u001b[0m, \u001b[38;5;34m64\u001b[0m)             │        \u001b[38;5;34m32,832\u001b[0m │\n",
       "├─────────────────────────────────┼────────────────────────┼───────────────┤\n",
       "│ dense_56 (\u001b[38;5;33mDense\u001b[0m)                │ (\u001b[38;5;45mNone\u001b[0m, \u001b[38;5;34m1\u001b[0m)              │            \u001b[38;5;34m65\u001b[0m │\n",
       "└─────────────────────────────────┴────────────────────────┴───────────────┘\n"
      ]
     },
     "metadata": {},
     "output_type": "display_data"
    },
    {
     "data": {
      "text/html": [
       "<pre style=\"white-space:pre;overflow-x:auto;line-height:normal;font-family:Menlo,'DejaVu Sans Mono',consolas,'Courier New',monospace\"><span style=\"font-weight: bold\"> Total params: </span><span style=\"color: #00af00; text-decoration-color: #00af00\">1,330,565</span> (5.08 MB)\n",
       "</pre>\n"
      ],
      "text/plain": [
       "\u001b[1m Total params: \u001b[0m\u001b[38;5;34m1,330,565\u001b[0m (5.08 MB)\n"
      ]
     },
     "metadata": {},
     "output_type": "display_data"
    },
    {
     "data": {
      "text/html": [
       "<pre style=\"white-space:pre;overflow-x:auto;line-height:normal;font-family:Menlo,'DejaVu Sans Mono',consolas,'Courier New',monospace\"><span style=\"font-weight: bold\"> Trainable params: </span><span style=\"color: #00af00; text-decoration-color: #00af00\">443,521</span> (1.69 MB)\n",
       "</pre>\n"
      ],
      "text/plain": [
       "\u001b[1m Trainable params: \u001b[0m\u001b[38;5;34m443,521\u001b[0m (1.69 MB)\n"
      ]
     },
     "metadata": {},
     "output_type": "display_data"
    },
    {
     "data": {
      "text/html": [
       "<pre style=\"white-space:pre;overflow-x:auto;line-height:normal;font-family:Menlo,'DejaVu Sans Mono',consolas,'Courier New',monospace\"><span style=\"font-weight: bold\"> Non-trainable params: </span><span style=\"color: #00af00; text-decoration-color: #00af00\">0</span> (0.00 B)\n",
       "</pre>\n"
      ],
      "text/plain": [
       "\u001b[1m Non-trainable params: \u001b[0m\u001b[38;5;34m0\u001b[0m (0.00 B)\n"
      ]
     },
     "metadata": {},
     "output_type": "display_data"
    },
    {
     "data": {
      "text/html": [
       "<pre style=\"white-space:pre;overflow-x:auto;line-height:normal;font-family:Menlo,'DejaVu Sans Mono',consolas,'Courier New',monospace\"><span style=\"font-weight: bold\"> Optimizer params: </span><span style=\"color: #00af00; text-decoration-color: #00af00\">887,044</span> (3.38 MB)\n",
       "</pre>\n"
      ],
      "text/plain": [
       "\u001b[1m Optimizer params: \u001b[0m\u001b[38;5;34m887,044\u001b[0m (3.38 MB)\n"
      ]
     },
     "metadata": {},
     "output_type": "display_data"
    }
   ],
   "source": [
    "# Load the model\n",
    "model = load_model('best_model.keras')\n",
    "model.summary()"
   ]
  },
  {
   "cell_type": "code",
   "execution_count": 46,
   "metadata": {},
   "outputs": [],
   "source": [
    "# Create a DataFrame from selected_gt_files and selected_diffwave_files\n",
    "selected_files_df = pd.DataFrame({\n",
    "    'file_path': selected_gt_files + selected_diffwave_files,\n",
    "    'label': [1] * len(selected_gt_files) + [0] * len(selected_diffwave_files)\n",
    "})\n",
    "\n",
    "selected_files_df.to_csv('output/data/selected_files.csv', index=False)"
   ]
  },
  {
   "cell_type": "code",
   "execution_count": 62,
   "metadata": {},
   "outputs": [
    {
     "name": "stderr",
     "output_type": "stream",
     "text": [
      "Processing audio files: 100%|██████████| 200/200 [00:00<00:00, 17418.21it/s]"
     ]
    },
    {
     "name": "stdout",
     "output_type": "stream",
     "text": [
      "[]\n",
      "Saved features to: ./output/test.csv\n",
      "(0, 0)\n",
      "1\n"
     ]
    },
    {
     "name": "stderr",
     "output_type": "stream",
     "text": [
      "\n"
     ]
    }
   ],
   "source": [
    "import utils\n",
    "from utils import process_audio_files\n",
    "audio_paths = selected_gt_files + selected_diffwave_files\n",
    "labels = [1] * len(selected_gt_files) + [0] * len(selected_diffwave_files)\n",
    "features = process_audio_files(audio_paths, n_mfcc=30, labels=labels, output_csv='./output/test.csv',force_new=False, resume=True)"
   ]
  },
  {
   "cell_type": "code",
   "execution_count": 63,
   "metadata": {},
   "outputs": [
    {
     "data": {
      "text/plain": [
       "(200, 200)"
      ]
     },
     "execution_count": 63,
     "metadata": {},
     "output_type": "execute_result"
    }
   ],
   "source": [
    "len(audio_paths), len(labels)"
   ]
  },
  {
   "cell_type": "code",
   "execution_count": null,
   "metadata": {},
   "outputs": [
    {
     "name": "stdout",
     "output_type": "stream",
     "text": [
      "Initial label shape count    200.000000\n",
      "mean       0.500000\n",
      "std        0.501255\n",
      "min        0.000000\n",
      "25%        0.000000\n",
      "50%        0.500000\n",
      "75%        1.000000\n",
      "max        1.000000\n",
      "Name: label, dtype: float64\n"
     ]
    },
    {
     "name": "stderr",
     "output_type": "stream",
     "text": [
      "Processing audio files: 100%|██████████| 200/200 [00:00<00:00, 21150.24it/s]"
     ]
    },
    {
     "name": "stdout",
     "output_type": "stream",
     "text": [
      "[]\n",
      "Saved features to: ./output/test.csv\n",
      "(0, 0)\n",
      "1\n",
      "label descirption\n",
      "\u001b[1m1/2\u001b[0m \u001b[32m━━━━━━━━━━\u001b[0m\u001b[37m━━━━━━━━━━\u001b[0m \u001b[1m0s\u001b[0m 41ms/step"
     ]
    },
    {
     "name": "stderr",
     "output_type": "stream",
     "text": [
      "\n"
     ]
    },
    {
     "name": "stdout",
     "output_type": "stream",
     "text": [
      "\u001b[1m2/2\u001b[0m \u001b[32m━━━━━━━━━━━━━━━━━━━━\u001b[0m\u001b[37m\u001b[0m \u001b[1m0s\u001b[0m 104ms/step\n",
      "\u001b[1m2/2\u001b[0m \u001b[32m━━━━━━━━━━━━━━━━━━━━\u001b[0m\u001b[37m\u001b[0m \u001b[1m0s\u001b[0m 18ms/step - accuracy: 0.7732 - loss: 0.5662\n",
      "\n",
      "Model loss: 0.5863\n",
      "Model accuracy: 76.92%\n",
      "\n",
      "Classification Report:\n",
      "              precision    recall  f1-score   support\n",
      "\n",
      "           0       0.76      0.80      0.78        20\n",
      "           1       0.78      0.74      0.76        19\n",
      "\n",
      "    accuracy                           0.77        39\n",
      "   macro avg       0.77      0.77      0.77        39\n",
      "weighted avg       0.77      0.77      0.77        39\n",
      "\n"
     ]
    },
    {
     "data": {
      "text/plain": [
       "(array([[0.332302  ],\n",
       "        [0.50089085],\n",
       "        [0.05383806],\n",
       "        [0.31032816],\n",
       "        [0.99067175],\n",
       "        [0.00412501],\n",
       "        [0.09445572],\n",
       "        [0.9770024 ],\n",
       "        [0.42499724],\n",
       "        [0.27636454],\n",
       "        [0.69008094],\n",
       "        [0.11275824],\n",
       "        [0.00336588],\n",
       "        [0.97247374],\n",
       "        [0.00971846],\n",
       "        [0.07636449],\n",
       "        [0.01476568],\n",
       "        [0.45972428],\n",
       "        [0.9333571 ],\n",
       "        [0.897693  ],\n",
       "        [0.17669731],\n",
       "        [0.04740673],\n",
       "        [0.0431531 ],\n",
       "        [0.19700676],\n",
       "        [0.932755  ],\n",
       "        [0.01767727],\n",
       "        [0.94640785],\n",
       "        [0.8987944 ],\n",
       "        [0.23440267],\n",
       "        [0.60758686],\n",
       "        [0.68709075],\n",
       "        [0.9209698 ],\n",
       "        [0.9787512 ],\n",
       "        [0.6004801 ],\n",
       "        [0.8879119 ],\n",
       "        [0.20406663],\n",
       "        [0.6857992 ],\n",
       "        [0.97275263],\n",
       "        [0.0211295 ]], dtype=float32),\n",
       " 0     0\n",
       " 1     0\n",
       " 2     1\n",
       " 3     1\n",
       " 4     1\n",
       " 5     0\n",
       " 6     0\n",
       " 7     1\n",
       " 8     0\n",
       " 9     1\n",
       " 10    0\n",
       " 11    1\n",
       " 12    0\n",
       " 13    1\n",
       " 14    0\n",
       " 15    0\n",
       " 16    0\n",
       " 17    0\n",
       " 18    1\n",
       " 19    1\n",
       " 20    0\n",
       " 21    0\n",
       " 22    0\n",
       " 23    0\n",
       " 24    1\n",
       " 25    0\n",
       " 26    0\n",
       " 27    1\n",
       " 28    0\n",
       " 29    1\n",
       " 30    1\n",
       " 31    1\n",
       " 32    1\n",
       " 33    1\n",
       " 34    1\n",
       " 35    0\n",
       " 36    0\n",
       " 37    1\n",
       " 38    1\n",
       " Name: label, dtype: int64)"
      ]
     },
     "execution_count": 66,
     "metadata": {},
     "output_type": "execute_result"
    }
   ],
   "source": [
    "from sklearn.preprocessing import StandardScaler\n",
    "from tensorflow.keras.preprocessing.sequence import pad_sequences\n",
    "from sklearn.metrics import classification_report\n",
    "import pickle\n",
    "\n",
    "\n",
    "df_test = pd.read_csv('./output/test.csv')\n",
    "labels = df_test['label']\n",
    "print(\"Initial label shape\", labels.describe())\n",
    "def evaluate_model(model, audio_paths, labels):\n",
    "    # Load and prepare test data\n",
    "    features = process_audio_files(audio_paths, n_mfcc=30, labels=labels, output_csv='./output/test.csv',force_new=False, resume=True)\n",
    "    df_test = pd.read_csv('./output/test.csv')\n",
    "    df_test = df_test.sample(frac=1).reset_index(drop=True)\n",
    "    print(\"label descirption\")\n",
    "\n",
    "    # Extract features and labels\n",
    "    labels = df_test['label']\n",
    "    features = df_test.drop(columns=['label', 'sampling_rate', 'file_path'])\n",
    "\n",
    "    # 1. Create sequences (same as training)\n",
    "    sequence_length = 10\n",
    "    overlap = 5\n",
    "    sequences, indices = create_sequences(features, sequence_length, overlap)\n",
    "    labels = labels.iloc[indices].reset_index(drop=True)\n",
    "\n",
    "    # 2. Pad sequences (make sure maxlen matches training)\n",
    "    padded_sequences = pad_sequences(\n",
    "        sequences,\n",
    "        maxlen=2,  # Changed from 2 to match training\n",
    "        padding=\"pre\",\n",
    "        truncating=\"post\"\n",
    "    )\n",
    "\n",
    "    # 3. Load and apply scaler\n",
    "    with open('./output/scaler.pkl', 'rb') as f:\n",
    "        scaler = pickle.load(f)\n",
    "\n",
    "    # Reshape and scale (exactly as in training)\n",
    "    num_samples, seq_len, num_features = padded_sequences.shape\n",
    "    padded_sequences_reshaped = padded_sequences.reshape(num_samples, -1)\n",
    "    padded_sequences_scaled = scaler.transform(padded_sequences_reshaped)\n",
    "    padded_sequences = padded_sequences_scaled.reshape(num_samples, seq_len, num_features)\n",
    "\n",
    "    # 4. Evaluate\n",
    "    y_pred = model.predict(padded_sequences)\n",
    "    y_pred_binary = (y_pred > 0.5).astype(int).flatten()\n",
    "    \n",
    "    # Print metrics\n",
    "    loss, accuracy = model.evaluate(padded_sequences, labels)\n",
    "    print(f\"\\nModel loss: {loss:.4f}\")\n",
    "    print(f\"Model accuracy: {accuracy * 100:.2f}%\")\n",
    "    \n",
    "    # Additional metrics\n",
    "    print(\"\\nClassification Report:\")\n",
    "    print(classification_report(labels, y_pred_binary))\n",
    "    \n",
    "    return y_pred, labels\n",
    "    \n",
    "# Usage\n",
    "\n",
    "# Create a list of audio paths and corresponding labels\n",
    "audio_paths = selected_gt_files + selected_diffwave_files\n",
    "# labels = [1] * len(selected_gt_files) + [0] * len(selected_diffwave_files)\n",
    "\n",
    "\n",
    "\n",
    "evaluate_model(model, audio_paths=audio_paths, labels=labels)"
   ]
  },
  {
   "cell_type": "code",
   "execution_count": 67,
   "metadata": {},
   "outputs": [
    {
     "data": {
      "text/plain": [
       "0      1\n",
       "1      1\n",
       "2      1\n",
       "3      1\n",
       "4      1\n",
       "      ..\n",
       "195    0\n",
       "196    0\n",
       "197    0\n",
       "198    0\n",
       "199    0\n",
       "Name: label, Length: 200, dtype: int64"
      ]
     },
     "execution_count": 67,
     "metadata": {},
     "output_type": "execute_result"
    }
   ],
   "source": [
    "labels"
   ]
  }
 ],
 "metadata": {
  "kernelspec": {
   "display_name": "venv",
   "language": "python",
   "name": "python3"
  },
  "language_info": {
   "codemirror_mode": {
    "name": "ipython",
    "version": 3
   },
   "file_extension": ".py",
   "mimetype": "text/x-python",
   "name": "python",
   "nbconvert_exporter": "python",
   "pygments_lexer": "ipython3",
   "version": "3.10.15"
  }
 },
 "nbformat": 4,
 "nbformat_minor": 2
}
