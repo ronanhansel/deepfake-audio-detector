{
 "cells": [
  {
   "cell_type": "code",
   "execution_count": 44,
   "metadata": {},
   "outputs": [
    {
     "name": "stderr",
     "output_type": "stream",
     "text": [
      "Processing GT files:   0%|          | 0/100 [00:00<?, ?it/s]/Users/ronan/Developer/deepfake-audio-detector/utils.py:20: FutureWarning: get_duration() keyword argument 'filename' has been renamed to 'path' in version 0.10.0.\n",
      "\tThis alias will be removed in version 1.0.\n",
      "  duration = librosa.get_duration(filename=file_path)\n",
      "Processing GT files: 100%|██████████| 100/100 [00:01<00:00, 65.04it/s]\n",
      "Processing Diffwave files: 100%|██████████| 100/100 [00:01<00:00, 62.88it/s]"
     ]
    },
    {
     "name": "stdout",
     "output_type": "stream",
     "text": [
      "Selected GT files: ['content/LibriSeVoc/gt/6078_54007_000000_000000.wav', 'content/LibriSeVoc/gt/6476_57446_000068_000001.wav', 'content/LibriSeVoc/gt/6367_74004_000033_000000.wav', 'content/LibriSeVoc/gt/2518_154825_000019_000001.wav', 'content/LibriSeVoc/gt/7800_283492_000045_000000.wav', 'content/LibriSeVoc/gt/1502_122619_000035_000002.wav', 'content/LibriSeVoc/gt/2289_152257_000012_000000.wav', 'content/LibriSeVoc/gt/250_142286_000056_000000.wav', 'content/LibriSeVoc/gt/1624_142933_000023_000003.wav', 'content/LibriSeVoc/gt/6454_93938_000023_000000.wav', 'content/LibriSeVoc/gt/5703_47212_000022_000000.wav', 'content/LibriSeVoc/gt/7402_90848_000059_000003.wav', 'content/LibriSeVoc/gt/5678_43301_000005_000000.wav', 'content/LibriSeVoc/gt/4397_15678_000004_000001.wav', 'content/LibriSeVoc/gt/3879_174923_000025_000001.wav', 'content/LibriSeVoc/gt/7059_77897_000005_000002.wav', 'content/LibriSeVoc/gt/6385_220959_000007_000006.wav', 'content/LibriSeVoc/gt/2836_5355_000024_000000.wav', 'content/LibriSeVoc/gt/5867_48852_000015_000004.wav', 'content/LibriSeVoc/gt/3664_178355_000003_000003.wav', 'content/LibriSeVoc/gt/125_121124_000046_000001.wav', 'content/LibriSeVoc/gt/6437_66173_000005_000000.wav', 'content/LibriSeVoc/gt/1116_132847_000076_000000.wav', 'content/LibriSeVoc/gt/2289_152254_000022_000002.wav', 'content/LibriSeVoc/gt/5339_14133_000003_000002.wav', 'content/LibriSeVoc/gt/7402_90848_000048_000001.wav', 'content/LibriSeVoc/gt/4640_19187_000030_000005.wav', 'content/LibriSeVoc/gt/6437_66173_000032_000000.wav', 'content/LibriSeVoc/gt/2289_152254_000004_000000.wav', 'content/LibriSeVoc/gt/1502_122619_000013_000000.wav', 'content/LibriSeVoc/gt/1088_129236_000007_000012.wav', 'content/LibriSeVoc/gt/1183_133256_000021_000001.wav', 'content/LibriSeVoc/gt/1355_39947_000009_000006.wav', 'content/LibriSeVoc/gt/6078_54007_000037_000000.wav', 'content/LibriSeVoc/gt/5104_33407_000016_000000.wav', 'content/LibriSeVoc/gt/196_122159_000014_000022.wav', 'content/LibriSeVoc/gt/1355_39947_000010_000002.wav', 'content/LibriSeVoc/gt/1263_138246_000036_000000.wav', 'content/LibriSeVoc/gt/5778_54535_000012_000004.wav', 'content/LibriSeVoc/gt/8630_305213_000019_000000.wav', 'content/LibriSeVoc/gt/1040_133433_000129_000000.wav', 'content/LibriSeVoc/gt/3168_173564_000010_000000.wav', 'content/LibriSeVoc/gt/696_93314_000001_000002.wav', 'content/LibriSeVoc/gt/8630_305213_000008_000002.wav', 'content/LibriSeVoc/gt/6209_34601_000096_000052.wav', 'content/LibriSeVoc/gt/4195_17507_000045_000000.wav', 'content/LibriSeVoc/gt/5104_33407_000074_000000.wav', 'content/LibriSeVoc/gt/1553_140048_000020_000000.wav', 'content/LibriSeVoc/gt/5393_19219_000015_000009.wav', 'content/LibriSeVoc/gt/3830_12530_000038_000003.wav', 'content/LibriSeVoc/gt/3242_67153_000016_000008.wav', 'content/LibriSeVoc/gt/8226_274369_000035_000001.wav', 'content/LibriSeVoc/gt/8312_279790_000014_000000.wav', 'content/LibriSeVoc/gt/7800_283478_000049_000002.wav', 'content/LibriSeVoc/gt/32_21631_000008_000002.wav', 'content/LibriSeVoc/gt/1841_179183_000022_000001.wav', 'content/LibriSeVoc/gt/7859_102519_000008_000002.wav', 'content/LibriSeVoc/gt/446_123501_000036_000004.wav', 'content/LibriSeVoc/gt/1116_132847_000014_000000.wav', 'content/LibriSeVoc/gt/1898_145702_000009_000000.wav', 'content/LibriSeVoc/gt/6272_70168_000013_000000.wav', 'content/LibriSeVoc/gt/1116_132847_000023_000000.wav', 'content/LibriSeVoc/gt/7178_34645_000041_000003.wav', 'content/LibriSeVoc/gt/6064_56168_000002_000001.wav', 'content/LibriSeVoc/gt/2136_5143_000027_000002.wav', 'content/LibriSeVoc/gt/730_358_000014_000002.wav', 'content/LibriSeVoc/gt/6000_55211_000032_000000.wav', 'content/LibriSeVoc/gt/3830_12531_000030_000003.wav', 'content/LibriSeVoc/gt/4088_158077_000065_000002.wav', 'content/LibriSeVoc/gt/3168_173565_000027_000006.wav', 'content/LibriSeVoc/gt/7402_59171_000010_000007.wav', 'content/LibriSeVoc/gt/6454_93938_000032_000002.wav', 'content/LibriSeVoc/gt/4214_7146_000028_000015.wav', 'content/LibriSeVoc/gt/3112_9555_000017_000012.wav', 'content/LibriSeVoc/gt/118_47824_000125_000001.wav', 'content/LibriSeVoc/gt/7800_283492_000010_000000.wav', 'content/LibriSeVoc/gt/5393_19218_000029_000007.wav', 'content/LibriSeVoc/gt/696_93314_000027_000000.wav', 'content/LibriSeVoc/gt/8312_279791_000014_000006.wav', 'content/LibriSeVoc/gt/1624_142933_000014_000003.wav', 'content/LibriSeVoc/gt/730_358_000005_000000.wav', 'content/LibriSeVoc/gt/8838_298545_000063_000000.wav', 'content/LibriSeVoc/gt/40_121026_000131_000000.wav', 'content/LibriSeVoc/gt/446_123502_000028_000002.wav', 'content/LibriSeVoc/gt/8123_275209_000036_000000.wav', 'content/LibriSeVoc/gt/2136_5143_000036_000000.wav', 'content/LibriSeVoc/gt/405_130895_000014_000000.wav', 'content/LibriSeVoc/gt/125_121124_000060_000003.wav', 'content/LibriSeVoc/gt/32_4137_000023_000008.wav', 'content/LibriSeVoc/gt/8238_274553_000008_000008.wav', 'content/LibriSeVoc/gt/4406_16882_000007_000009.wav', 'content/LibriSeVoc/gt/6209_34599_000023_000005.wav', 'content/LibriSeVoc/gt/696_93314_000010_000000.wav', 'content/LibriSeVoc/gt/6272_70168_000046_000000.wav', 'content/LibriSeVoc/gt/6454_107462_000019_000001.wav', 'content/LibriSeVoc/gt/201_122255_000028_000000.wav', 'content/LibriSeVoc/gt/3607_29116_000058_000001.wav', 'content/LibriSeVoc/gt/3240_131231_000031_000001.wav', 'content/LibriSeVoc/gt/5808_54425_000051_000005.wav', 'content/LibriSeVoc/gt/6272_70191_000030_000001.wav']\n",
      "Selected Diffwave files: ['content/LibriSeVoc/diffwave/8609_262281_000014_000000_gen.wav', 'content/LibriSeVoc/diffwave/322_124146_000027_000001_gen.wav', 'content/LibriSeVoc/diffwave/6454_120342_000035_000000_gen.wav', 'content/LibriSeVoc/diffwave/6415_100596_000051_000004_gen.wav', 'content/LibriSeVoc/diffwave/2836_5355_000085_000002_gen.wav', 'content/LibriSeVoc/diffwave/40_121026_000190_000003_gen.wav', 'content/LibriSeVoc/diffwave/5393_19219_000048_000001_gen.wav', 'content/LibriSeVoc/diffwave/5678_43301_000006_000000_gen.wav', 'content/LibriSeVoc/diffwave/5750_100289_000039_000002_gen.wav', 'content/LibriSeVoc/diffwave/1334_135589_000026_000000_gen.wav', 'content/LibriSeVoc/diffwave/2136_5143_000069_000000_gen.wav', 'content/LibriSeVoc/diffwave/6064_300880_000069_000001_gen.wav', 'content/LibriSeVoc/diffwave/118_47824_000049_000004_gen.wav', 'content/LibriSeVoc/diffwave/1116_132851_000011_000001_gen.wav', 'content/LibriSeVoc/diffwave/8630_305212_000015_000004_gen.wav', 'content/LibriSeVoc/diffwave/1363_139304_000010_000005_gen.wav', 'content/LibriSeVoc/diffwave/4788_91208_000012_000003_gen.wav', 'content/LibriSeVoc/diffwave/7511_102420_000007_000003_gen.wav', 'content/LibriSeVoc/diffwave/5867_48852_000084_000006_gen.wav', 'content/LibriSeVoc/diffwave/1502_122615_000043_000005_gen.wav', 'content/LibriSeVoc/diffwave/4267_78186_000005_000002_gen.wav', 'content/LibriSeVoc/diffwave/7794_295955_000004_000009_gen.wav', 'content/LibriSeVoc/diffwave/7178_34645_000041_000003_gen.wav', 'content/LibriSeVoc/diffwave/2514_149482_000015_000000_gen.wav', 'content/LibriSeVoc/diffwave/8324_286682_000005_000003_gen.wav', 'content/LibriSeVoc/diffwave/1867_154075_000079_000001_gen.wav', 'content/LibriSeVoc/diffwave/2289_152254_000020_000000_gen.wav', 'content/LibriSeVoc/diffwave/6385_34669_000017_000000_gen.wav', 'content/LibriSeVoc/diffwave/6415_100596_000071_000000_gen.wav', 'content/LibriSeVoc/diffwave/1553_140048_000002_000003_gen.wav', 'content/LibriSeVoc/diffwave/6147_34605_000030_000001_gen.wav', 'content/LibriSeVoc/diffwave/2182_181183_000015_000000_gen.wav', 'content/LibriSeVoc/diffwave/8580_287364_000021_000003_gen.wav', 'content/LibriSeVoc/diffwave/374_180298_000009_000002_gen.wav', 'content/LibriSeVoc/diffwave/587_54108_000046_000000_gen.wav', 'content/LibriSeVoc/diffwave/87_121553_000245_000000_gen.wav', 'content/LibriSeVoc/diffwave/8630_305213_000014_000002_gen.wav', 'content/LibriSeVoc/diffwave/6476_57446_000017_000001_gen.wav', 'content/LibriSeVoc/diffwave/7312_92432_000009_000007_gen.wav', 'content/LibriSeVoc/diffwave/7078_271888_000066_000003_gen.wav', 'content/LibriSeVoc/diffwave/5163_18515_000046_000001_gen.wav', 'content/LibriSeVoc/diffwave/2136_5140_000023_000003_gen.wav', 'content/LibriSeVoc/diffwave/6078_54007_000045_000001_gen.wav', 'content/LibriSeVoc/diffwave/87_121553_000018_000000_gen.wav', 'content/LibriSeVoc/diffwave/6437_66173_000012_000000_gen.wav', 'content/LibriSeVoc/diffwave/1841_150351_000017_000005_gen.wav', 'content/LibriSeVoc/diffwave/6078_54013_000027_000001_gen.wav', 'content/LibriSeVoc/diffwave/8468_294887_000004_000002_gen.wav', 'content/LibriSeVoc/diffwave/3664_178355_000019_000000_gen.wav', 'content/LibriSeVoc/diffwave/8014_112602_000002_000002_gen.wav', 'content/LibriSeVoc/diffwave/87_121553_000083_000000_gen.wav', 'content/LibriSeVoc/diffwave/40_222_000011_000005_gen.wav', 'content/LibriSeVoc/diffwave/6385_220959_000006_000000_gen.wav', 'content/LibriSeVoc/diffwave/3440_171009_000032_000000_gen.wav', 'content/LibriSeVoc/diffwave/7447_91187_000008_000003_gen.wav', 'content/LibriSeVoc/diffwave/7402_59171_000005_000008_gen.wav', 'content/LibriSeVoc/diffwave/8747_293952_000005_000000_gen.wav', 'content/LibriSeVoc/diffwave/3830_12530_000061_000002_gen.wav', 'content/LibriSeVoc/diffwave/250_142286_000010_000001_gen.wav', 'content/LibriSeVoc/diffwave/1116_132847_000018_000000_gen.wav', 'content/LibriSeVoc/diffwave/4214_7146_000009_000002_gen.wav', 'content/LibriSeVoc/diffwave/8123_275216_000032_000001_gen.wav', 'content/LibriSeVoc/diffwave/696_92939_000016_000000_gen.wav', 'content/LibriSeVoc/diffwave/1355_39947_000004_000010_gen.wav', 'content/LibriSeVoc/diffwave/887_123291_000011_000000_gen.wav', 'content/LibriSeVoc/diffwave/1069_133699_000016_000000_gen.wav', 'content/LibriSeVoc/diffwave/4406_16883_000016_000008_gen.wav', 'content/LibriSeVoc/diffwave/3664_178366_000022_000002_gen.wav', 'content/LibriSeVoc/diffwave/374_180299_000038_000002_gen.wav', 'content/LibriSeVoc/diffwave/2836_5355_000063_000001_gen.wav', 'content/LibriSeVoc/diffwave/250_142286_000015_000003_gen.wav', 'content/LibriSeVoc/diffwave/1355_39947_000004_000000_gen.wav', 'content/LibriSeVoc/diffwave/298_126791_000078_000001_gen.wav', 'content/LibriSeVoc/diffwave/7511_102419_000024_000002_gen.wav', 'content/LibriSeVoc/diffwave/1578_140045_000007_000000_gen.wav', 'content/LibriSeVoc/diffwave/374_180299_000045_000001_gen.wav', 'content/LibriSeVoc/diffwave/6529_62554_000016_000000_gen.wav', 'content/LibriSeVoc/diffwave/426_122822_000042_000005_gen.wav', 'content/LibriSeVoc/diffwave/4481_17498_000017_000000_gen.wav', 'content/LibriSeVoc/diffwave/1447_130550_000085_000000_gen.wav', 'content/LibriSeVoc/diffwave/887_123290_000020_000000_gen.wav', 'content/LibriSeVoc/diffwave/7447_91186_000027_000009_gen.wav', 'content/LibriSeVoc/diffwave/3235_11599_000020_000002_gen.wav', 'content/LibriSeVoc/diffwave/8580_287364_000031_000001_gen.wav', 'content/LibriSeVoc/diffwave/5867_48852_000072_000007_gen.wav', 'content/LibriSeVoc/diffwave/5163_39921_000027_000002_gen.wav', 'content/LibriSeVoc/diffwave/7800_283493_000049_000000_gen.wav', 'content/LibriSeVoc/diffwave/460_172359_000082_000000_gen.wav', 'content/LibriSeVoc/diffwave/460_172359_000009_000002_gen.wav', 'content/LibriSeVoc/diffwave/7367_86737_000084_000000_gen.wav', 'content/LibriSeVoc/diffwave/3830_12530_000064_000000_gen.wav', 'content/LibriSeVoc/diffwave/4406_16883_000016_000018_gen.wav', 'content/LibriSeVoc/diffwave/4788_91208_000007_000003_gen.wav', 'content/LibriSeVoc/diffwave/1098_133695_000014_000004_gen.wav', 'content/LibriSeVoc/diffwave/1183_124566_000011_000001_gen.wav', 'content/LibriSeVoc/diffwave/2836_5355_000076_000001_gen.wav', 'content/LibriSeVoc/diffwave/2092_145706_000029_000000_gen.wav', 'content/LibriSeVoc/diffwave/1235_135884_000010_000001_gen.wav', 'content/LibriSeVoc/diffwave/6078_54007_000038_000002_gen.wav', 'content/LibriSeVoc/diffwave/7859_102519_000022_000000_gen.wav']\n"
     ]
    },
    {
     "name": "stderr",
     "output_type": "stream",
     "text": [
      "\n"
     ]
    }
   ],
   "source": [
    "import tensorflow as tf\n",
    "from tensorflow.keras.models import load_model\n",
    "import numpy as np\n",
    "from utils import process_audio_files, create_sequences, AudioFeatureExtractor\n",
    "import os\n",
    "import random\n",
    "import pandas as pd\n",
    "from tqdm import tqdm\n",
    "\n",
    "NUM_LOAD = 10\n",
    "# Load the dataframe\n",
    "df = pd.read_csv('output/data/merged_df.csv')\n",
    "\n",
    "# Get the list of file paths from the dataframe\n",
    "file_paths = df['file_path'].tolist()\n",
    "\n",
    "# Directories containing the files\n",
    "gt_dir = 'content/LibriSeVoc/gt'\n",
    "diffwave_dir = 'content/LibriSeVoc/diffwave'\n",
    "\n",
    "# Initialize lists to store the selected files\n",
    "gt_files = []\n",
    "diffwave_files = []\n",
    "\n",
    "pbar = tqdm(total=NUM_LOAD)\n",
    "pbar.set_description(\"Processing GT files\")\n",
    "\n",
    "# Get list of files in each directory and filter based on criteria\n",
    "for f in reversed(os.listdir(gt_dir)):\n",
    "    file_path = os.path.join(gt_dir, f)\n",
    "    if file_path not in file_paths and AudioFeatureExtractor.get_audio_duration(file_path) <= 10:\n",
    "        gt_files.append(file_path)\n",
    "        pbar.update(1)\n",
    "        if len(gt_files) == NUM_LOAD:\n",
    "            break\n",
    "\n",
    "pbar.close()\n",
    "pbar = tqdm(total=100)\n",
    "pbar.set_description(\"Processing Diffwave files\")\n",
    "\n",
    "for f in os.listdir(diffwave_dir):\n",
    "    file_path = os.path.join(diffwave_dir, f)\n",
    "    if file_path not in file_paths and AudioFeatureExtractor.get_audio_duration(file_path) <= 10:\n",
    "        diffwave_files.append(file_path)\n",
    "        pbar.update(1)\n",
    "        if len(diffwave_files) == NUM_LOAD:\n",
    "            break\n",
    "pbar.close()\n",
    "\n",
    "# Randomly select 10 files from each directory\n",
    "selected_gt_files = random.sample(gt_files, NUM_LOAD)\n",
    "selected_diffwave_files = random.sample(diffwave_files, NUM_LOAD)\n",
    "\n",
    "print(\"Selected GT files:\", selected_gt_files)\n",
    "print(\"Selected Diffwave files:\", selected_diffwave_files)"
   ]
  },
  {
   "cell_type": "code",
   "execution_count": 45,
   "metadata": {},
   "outputs": [
    {
     "data": {
      "text/html": [
       "<pre style=\"white-space:pre;overflow-x:auto;line-height:normal;font-family:Menlo,'DejaVu Sans Mono',consolas,'Courier New',monospace\"><span style=\"font-weight: bold\">Model: \"sequential_19\"</span>\n",
       "</pre>\n"
      ],
      "text/plain": [
       "\u001b[1mModel: \"sequential_19\"\u001b[0m\n"
      ]
     },
     "metadata": {},
     "output_type": "display_data"
    },
    {
     "data": {
      "text/html": [
       "<pre style=\"white-space:pre;overflow-x:auto;line-height:normal;font-family:Menlo,'DejaVu Sans Mono',consolas,'Courier New',monospace\">┏━━━━━━━━━━━━━━━━━━━━━━━━━━━━━━━━━┳━━━━━━━━━━━━━━━━━━━━━━━━┳━━━━━━━━━━━━━━━┓\n",
       "┃<span style=\"font-weight: bold\"> Layer (type)                    </span>┃<span style=\"font-weight: bold\"> Output Shape           </span>┃<span style=\"font-weight: bold\">       Param # </span>┃\n",
       "┡━━━━━━━━━━━━━━━━━━━━━━━━━━━━━━━━━╇━━━━━━━━━━━━━━━━━━━━━━━━╇━━━━━━━━━━━━━━━┩\n",
       "│ lstm_54 (<span style=\"color: #0087ff; text-decoration-color: #0087ff\">LSTM</span>)                  │ (<span style=\"color: #00d7ff; text-decoration-color: #00d7ff\">None</span>, <span style=\"color: #00af00; text-decoration-color: #00af00\">2</span>, <span style=\"color: #00af00; text-decoration-color: #00af00\">128</span>)         │        <span style=\"color: #00af00; text-decoration-color: #00af00\">81,408</span> │\n",
       "├─────────────────────────────────┼────────────────────────┼───────────────┤\n",
       "│ dropout_53 (<span style=\"color: #0087ff; text-decoration-color: #0087ff\">Dropout</span>)            │ (<span style=\"color: #00d7ff; text-decoration-color: #00d7ff\">None</span>, <span style=\"color: #00af00; text-decoration-color: #00af00\">2</span>, <span style=\"color: #00af00; text-decoration-color: #00af00\">128</span>)         │             <span style=\"color: #00af00; text-decoration-color: #00af00\">0</span> │\n",
       "├─────────────────────────────────┼────────────────────────┼───────────────┤\n",
       "│ lstm_55 (<span style=\"color: #0087ff; text-decoration-color: #0087ff\">LSTM</span>)                  │ (<span style=\"color: #00d7ff; text-decoration-color: #00d7ff\">None</span>, <span style=\"color: #00af00; text-decoration-color: #00af00\">2</span>, <span style=\"color: #00af00; text-decoration-color: #00af00\">128</span>)         │       <span style=\"color: #00af00; text-decoration-color: #00af00\">131,584</span> │\n",
       "├─────────────────────────────────┼────────────────────────┼───────────────┤\n",
       "│ dropout_54 (<span style=\"color: #0087ff; text-decoration-color: #0087ff\">Dropout</span>)            │ (<span style=\"color: #00d7ff; text-decoration-color: #00d7ff\">None</span>, <span style=\"color: #00af00; text-decoration-color: #00af00\">2</span>, <span style=\"color: #00af00; text-decoration-color: #00af00\">128</span>)         │             <span style=\"color: #00af00; text-decoration-color: #00af00\">0</span> │\n",
       "├─────────────────────────────────┼────────────────────────┼───────────────┤\n",
       "│ lstm_56 (<span style=\"color: #0087ff; text-decoration-color: #0087ff\">LSTM</span>)                  │ (<span style=\"color: #00d7ff; text-decoration-color: #00d7ff\">None</span>, <span style=\"color: #00af00; text-decoration-color: #00af00\">128</span>)            │       <span style=\"color: #00af00; text-decoration-color: #00af00\">131,584</span> │\n",
       "├─────────────────────────────────┼────────────────────────┼───────────────┤\n",
       "│ dense_54 (<span style=\"color: #0087ff; text-decoration-color: #0087ff\">Dense</span>)                │ (<span style=\"color: #00d7ff; text-decoration-color: #00d7ff\">None</span>, <span style=\"color: #00af00; text-decoration-color: #00af00\">512</span>)            │        <span style=\"color: #00af00; text-decoration-color: #00af00\">66,048</span> │\n",
       "├─────────────────────────────────┼────────────────────────┼───────────────┤\n",
       "│ dropout_55 (<span style=\"color: #0087ff; text-decoration-color: #0087ff\">Dropout</span>)            │ (<span style=\"color: #00d7ff; text-decoration-color: #00d7ff\">None</span>, <span style=\"color: #00af00; text-decoration-color: #00af00\">512</span>)            │             <span style=\"color: #00af00; text-decoration-color: #00af00\">0</span> │\n",
       "├─────────────────────────────────┼────────────────────────┼───────────────┤\n",
       "│ dense_55 (<span style=\"color: #0087ff; text-decoration-color: #0087ff\">Dense</span>)                │ (<span style=\"color: #00d7ff; text-decoration-color: #00d7ff\">None</span>, <span style=\"color: #00af00; text-decoration-color: #00af00\">64</span>)             │        <span style=\"color: #00af00; text-decoration-color: #00af00\">32,832</span> │\n",
       "├─────────────────────────────────┼────────────────────────┼───────────────┤\n",
       "│ dense_56 (<span style=\"color: #0087ff; text-decoration-color: #0087ff\">Dense</span>)                │ (<span style=\"color: #00d7ff; text-decoration-color: #00d7ff\">None</span>, <span style=\"color: #00af00; text-decoration-color: #00af00\">1</span>)              │            <span style=\"color: #00af00; text-decoration-color: #00af00\">65</span> │\n",
       "└─────────────────────────────────┴────────────────────────┴───────────────┘\n",
       "</pre>\n"
      ],
      "text/plain": [
       "┏━━━━━━━━━━━━━━━━━━━━━━━━━━━━━━━━━┳━━━━━━━━━━━━━━━━━━━━━━━━┳━━━━━━━━━━━━━━━┓\n",
       "┃\u001b[1m \u001b[0m\u001b[1mLayer (type)                   \u001b[0m\u001b[1m \u001b[0m┃\u001b[1m \u001b[0m\u001b[1mOutput Shape          \u001b[0m\u001b[1m \u001b[0m┃\u001b[1m \u001b[0m\u001b[1m      Param #\u001b[0m\u001b[1m \u001b[0m┃\n",
       "┡━━━━━━━━━━━━━━━━━━━━━━━━━━━━━━━━━╇━━━━━━━━━━━━━━━━━━━━━━━━╇━━━━━━━━━━━━━━━┩\n",
       "│ lstm_54 (\u001b[38;5;33mLSTM\u001b[0m)                  │ (\u001b[38;5;45mNone\u001b[0m, \u001b[38;5;34m2\u001b[0m, \u001b[38;5;34m128\u001b[0m)         │        \u001b[38;5;34m81,408\u001b[0m │\n",
       "├─────────────────────────────────┼────────────────────────┼───────────────┤\n",
       "│ dropout_53 (\u001b[38;5;33mDropout\u001b[0m)            │ (\u001b[38;5;45mNone\u001b[0m, \u001b[38;5;34m2\u001b[0m, \u001b[38;5;34m128\u001b[0m)         │             \u001b[38;5;34m0\u001b[0m │\n",
       "├─────────────────────────────────┼────────────────────────┼───────────────┤\n",
       "│ lstm_55 (\u001b[38;5;33mLSTM\u001b[0m)                  │ (\u001b[38;5;45mNone\u001b[0m, \u001b[38;5;34m2\u001b[0m, \u001b[38;5;34m128\u001b[0m)         │       \u001b[38;5;34m131,584\u001b[0m │\n",
       "├─────────────────────────────────┼────────────────────────┼───────────────┤\n",
       "│ dropout_54 (\u001b[38;5;33mDropout\u001b[0m)            │ (\u001b[38;5;45mNone\u001b[0m, \u001b[38;5;34m2\u001b[0m, \u001b[38;5;34m128\u001b[0m)         │             \u001b[38;5;34m0\u001b[0m │\n",
       "├─────────────────────────────────┼────────────────────────┼───────────────┤\n",
       "│ lstm_56 (\u001b[38;5;33mLSTM\u001b[0m)                  │ (\u001b[38;5;45mNone\u001b[0m, \u001b[38;5;34m128\u001b[0m)            │       \u001b[38;5;34m131,584\u001b[0m │\n",
       "├─────────────────────────────────┼────────────────────────┼───────────────┤\n",
       "│ dense_54 (\u001b[38;5;33mDense\u001b[0m)                │ (\u001b[38;5;45mNone\u001b[0m, \u001b[38;5;34m512\u001b[0m)            │        \u001b[38;5;34m66,048\u001b[0m │\n",
       "├─────────────────────────────────┼────────────────────────┼───────────────┤\n",
       "│ dropout_55 (\u001b[38;5;33mDropout\u001b[0m)            │ (\u001b[38;5;45mNone\u001b[0m, \u001b[38;5;34m512\u001b[0m)            │             \u001b[38;5;34m0\u001b[0m │\n",
       "├─────────────────────────────────┼────────────────────────┼───────────────┤\n",
       "│ dense_55 (\u001b[38;5;33mDense\u001b[0m)                │ (\u001b[38;5;45mNone\u001b[0m, \u001b[38;5;34m64\u001b[0m)             │        \u001b[38;5;34m32,832\u001b[0m │\n",
       "├─────────────────────────────────┼────────────────────────┼───────────────┤\n",
       "│ dense_56 (\u001b[38;5;33mDense\u001b[0m)                │ (\u001b[38;5;45mNone\u001b[0m, \u001b[38;5;34m1\u001b[0m)              │            \u001b[38;5;34m65\u001b[0m │\n",
       "└─────────────────────────────────┴────────────────────────┴───────────────┘\n"
      ]
     },
     "metadata": {},
     "output_type": "display_data"
    },
    {
     "data": {
      "text/html": [
       "<pre style=\"white-space:pre;overflow-x:auto;line-height:normal;font-family:Menlo,'DejaVu Sans Mono',consolas,'Courier New',monospace\"><span style=\"font-weight: bold\"> Total params: </span><span style=\"color: #00af00; text-decoration-color: #00af00\">1,330,565</span> (5.08 MB)\n",
       "</pre>\n"
      ],
      "text/plain": [
       "\u001b[1m Total params: \u001b[0m\u001b[38;5;34m1,330,565\u001b[0m (5.08 MB)\n"
      ]
     },
     "metadata": {},
     "output_type": "display_data"
    },
    {
     "data": {
      "text/html": [
       "<pre style=\"white-space:pre;overflow-x:auto;line-height:normal;font-family:Menlo,'DejaVu Sans Mono',consolas,'Courier New',monospace\"><span style=\"font-weight: bold\"> Trainable params: </span><span style=\"color: #00af00; text-decoration-color: #00af00\">443,521</span> (1.69 MB)\n",
       "</pre>\n"
      ],
      "text/plain": [
       "\u001b[1m Trainable params: \u001b[0m\u001b[38;5;34m443,521\u001b[0m (1.69 MB)\n"
      ]
     },
     "metadata": {},
     "output_type": "display_data"
    },
    {
     "data": {
      "text/html": [
       "<pre style=\"white-space:pre;overflow-x:auto;line-height:normal;font-family:Menlo,'DejaVu Sans Mono',consolas,'Courier New',monospace\"><span style=\"font-weight: bold\"> Non-trainable params: </span><span style=\"color: #00af00; text-decoration-color: #00af00\">0</span> (0.00 B)\n",
       "</pre>\n"
      ],
      "text/plain": [
       "\u001b[1m Non-trainable params: \u001b[0m\u001b[38;5;34m0\u001b[0m (0.00 B)\n"
      ]
     },
     "metadata": {},
     "output_type": "display_data"
    },
    {
     "data": {
      "text/html": [
       "<pre style=\"white-space:pre;overflow-x:auto;line-height:normal;font-family:Menlo,'DejaVu Sans Mono',consolas,'Courier New',monospace\"><span style=\"font-weight: bold\"> Optimizer params: </span><span style=\"color: #00af00; text-decoration-color: #00af00\">887,044</span> (3.38 MB)\n",
       "</pre>\n"
      ],
      "text/plain": [
       "\u001b[1m Optimizer params: \u001b[0m\u001b[38;5;34m887,044\u001b[0m (3.38 MB)\n"
      ]
     },
     "metadata": {},
     "output_type": "display_data"
    }
   ],
   "source": [
    "# Load the model\n",
    "model = load_model('best_model.keras')\n",
    "model.summary()"
   ]
  },
  {
   "cell_type": "code",
   "execution_count": 46,
   "metadata": {},
   "outputs": [],
   "source": [
    "# Create a DataFrame from selected_gt_files and selected_diffwave_files\n",
    "selected_files_df = pd.DataFrame({\n",
    "    'file_path': selected_gt_files + selected_diffwave_files,\n",
    "    'label': [1] * len(selected_gt_files) + [0] * len(selected_diffwave_files)\n",
    "})\n",
    "\n",
    "selected_files_df.to_csv('output/data/selected_files.csv', index=False)"
   ]
  },
  {
   "cell_type": "code",
   "execution_count": 62,
   "metadata": {},
   "outputs": [
    {
     "name": "stderr",
     "output_type": "stream",
     "text": [
      "Processing audio files: 100%|██████████| 200/200 [00:00<00:00, 17418.21it/s]"
     ]
    },
    {
     "name": "stdout",
     "output_type": "stream",
     "text": [
      "[{'file_path': 'voice_dataset\\\\LibriSeVoc\\\\gt\\\\89_219_000002_000002.wav', 'sampling_rate': 24000, 'label': 1, 'mfcc_1_mean': np.float64(-310.4552734554932), 'mfcc_2_mean': np.float64(155.3219976674056), 'mfcc_3_mean': np.float64(-44.0308089579739), 'mfcc_4_mean': np.float64(4.135138853750963), 'mfcc_5_mean': np.float64(2.9548756026369207), 'mfcc_6_mean': np.float64(-39.78079067146502), 'mfcc_7_mean': np.float64(-30.487450415816564), 'mfcc_8_mean': np.float64(-22.106958233305168), 'mfcc_9_mean': np.float64(-24.336023196886803), 'mfcc_10_mean': np.float64(-19.950081535452988), 'mfcc_11_mean': np.float64(-19.493116005753226), 'mfcc_12_mean': np.float64(-21.061889554494346), 'mfcc_13_mean': np.float64(-17.6118855179249), 'mfcc_14_mean': np.float64(-15.753255041251016), 'mfcc_15_mean': np.float64(-13.064279254642512), 'mfcc_16_mean': np.float64(-14.42195761672369), 'mfcc_17_mean': np.float64(-15.344516260788003), 'mfcc_18_mean': np.float64(-9.614086908398416), 'mfcc_19_mean': np.float64(-8.622894421612347), 'mfcc_20_mean': np.float64(-8.470395587647486), 'mfcc_21_mean': np.float64(-4.443524157607447), 'mfcc_22_mean': np.float64(-3.6973666100598757), 'mfcc_23_mean': np.float64(-5.645790275445487), 'mfcc_24_mean': np.float64(-4.411974568779727), 'mfcc_25_mean': np.float64(-2.423552986122593), 'mfcc_26_mean': np.float64(-5.15145556737669), 'mfcc_27_mean': np.float64(-4.636943152980844), 'mfcc_28_mean': np.float64(-2.6284306954890244), 'mfcc_29_mean': np.float64(-5.145904096753044), 'mfcc_30_mean': np.float64(-3.0362787338586235)}, {'file_path': 'voice_dataset\\\\LibriSeVoc\\\\gt\\\\8975_270782_000018_000002.wav', 'sampling_rate': 24000, 'label': 1, 'mfcc_1_mean': np.float64(-262.330312683627), 'mfcc_2_mean': np.float64(107.41346998275793), 'mfcc_3_mean': np.float64(-81.16936801490039), 'mfcc_4_mean': np.float64(24.60150193591564), 'mfcc_5_mean': np.float64(-11.70509376965662), 'mfcc_6_mean': np.float64(-32.965136292357634), 'mfcc_7_mean': np.float64(-5.33280344602992), 'mfcc_8_mean': np.float64(-22.483274116448086), 'mfcc_9_mean': np.float64(-18.822544421199595), 'mfcc_10_mean': np.float64(-17.99950822165403), 'mfcc_11_mean': np.float64(-19.720189849157553), 'mfcc_12_mean': np.float64(-15.25078393028024), 'mfcc_13_mean': np.float64(-18.031213707904335), 'mfcc_14_mean': np.float64(-11.449857649449498), 'mfcc_15_mean': np.float64(-11.546912558140415), 'mfcc_16_mean': np.float64(-17.391087376179854), 'mfcc_17_mean': np.float64(-7.729617048046175), 'mfcc_18_mean': np.float64(-5.743819113602741), 'mfcc_19_mean': np.float64(-11.55127190693093), 'mfcc_20_mean': np.float64(-6.488702171590904), 'mfcc_21_mean': np.float64(-3.4824274956226473), 'mfcc_22_mean': np.float64(-5.651389111323986), 'mfcc_23_mean': np.float64(-4.526190654923676), 'mfcc_24_mean': np.float64(-2.4137767373625216), 'mfcc_25_mean': np.float64(-3.3748300617041576), 'mfcc_26_mean': np.float64(-1.4415742615193599), 'mfcc_27_mean': np.float64(3.117743105011483), 'mfcc_28_mean': np.float64(1.5696957973225814), 'mfcc_29_mean': np.float64(-1.0797900382318817), 'mfcc_30_mean': np.float64(-1.7024373766695908)}, {'file_path': 'voice_dataset\\\\LibriSeVoc\\\\gt\\\\89_218_000004_000005.wav', 'sampling_rate': 24000, 'label': 1, 'mfcc_1_mean': np.float64(-317.5732122295296), 'mfcc_2_mean': np.float64(152.70713347331244), 'mfcc_3_mean': np.float64(-34.53973876892919), 'mfcc_4_mean': np.float64(4.013499094967776), 'mfcc_5_mean': np.float64(1.7004651704716014), 'mfcc_6_mean': np.float64(-37.89880849279382), 'mfcc_7_mean': np.float64(-23.480399116150796), 'mfcc_8_mean': np.float64(-20.888654819944534), 'mfcc_9_mean': np.float64(-25.815440437208814), 'mfcc_10_mean': np.float64(-20.009351038019865), 'mfcc_11_mean': np.float64(-19.50544634230031), 'mfcc_12_mean': np.float64(-16.810077618413153), 'mfcc_13_mean': np.float64(-16.457068384554308), 'mfcc_14_mean': np.float64(-17.871612626786685), 'mfcc_15_mean': np.float64(-13.72722327338876), 'mfcc_16_mean': np.float64(-16.899123278554903), 'mfcc_17_mean': np.float64(-15.048994797243882), 'mfcc_18_mean': np.float64(-4.641223139126896), 'mfcc_19_mean': np.float64(-9.833656339182943), 'mfcc_20_mean': np.float64(-12.823635708201301), 'mfcc_21_mean': np.float64(-4.935110736967826), 'mfcc_22_mean': np.float64(-9.290238544590819), 'mfcc_23_mean': np.float64(-11.083502410723806), 'mfcc_24_mean': np.float64(-2.741227363446031), 'mfcc_25_mean': np.float64(-2.7973712435227633), 'mfcc_26_mean': np.float64(-4.142839964603237), 'mfcc_27_mean': np.float64(-2.6314027783534866), 'mfcc_28_mean': np.float64(-4.9147788740261795), 'mfcc_29_mean': np.float64(-4.255703007121444), 'mfcc_30_mean': np.float64(-2.3726599140680555)}, {'file_path': 'voice_dataset\\\\LibriSeVoc\\\\gt\\\\887_123289_000066_000004.wav', 'sampling_rate': 24000, 'label': 1, 'mfcc_1_mean': np.float64(-279.0143996415535), 'mfcc_2_mean': np.float64(132.25650074636036), 'mfcc_3_mean': np.float64(-72.72606044478276), 'mfcc_4_mean': np.float64(-10.599166311086783), 'mfcc_5_mean': np.float64(-5.291836219297144), 'mfcc_6_mean': np.float64(-30.71042302757119), 'mfcc_7_mean': np.float64(-23.662045066899257), 'mfcc_8_mean': np.float64(-23.706005715174022), 'mfcc_9_mean': np.float64(-25.569694759868334), 'mfcc_10_mean': np.float64(-22.096296052378147), 'mfcc_11_mean': np.float64(-12.23705023112809), 'mfcc_12_mean': np.float64(-11.39532492134666), 'mfcc_13_mean': np.float64(-9.488175714703766), 'mfcc_14_mean': np.float64(-4.883617598895329), 'mfcc_15_mean': np.float64(-5.775197145185592), 'mfcc_16_mean': np.float64(-4.533334834639618), 'mfcc_17_mean': np.float64(-9.614260581482608), 'mfcc_18_mean': np.float64(-9.086357602258555), 'mfcc_19_mean': np.float64(-8.671761210215466), 'mfcc_20_mean': np.float64(-11.190092209153958), 'mfcc_21_mean': np.float64(-4.8570000688774), 'mfcc_22_mean': np.float64(-5.629160329205904), 'mfcc_23_mean': np.float64(-5.785629199386592), 'mfcc_24_mean': np.float64(-0.6559904140393262), 'mfcc_25_mean': np.float64(-0.12449018715112839), 'mfcc_26_mean': np.float64(1.0554498978278437), 'mfcc_27_mean': np.float64(0.7648217947638642), 'mfcc_28_mean': np.float64(-0.3318832143430466), 'mfcc_29_mean': np.float64(-1.3869559550530888), 'mfcc_30_mean': np.float64(-1.7425709196041113)}, {'file_path': 'voice_dataset\\\\LibriSeVoc\\\\diffwave\\\\1088_129236_000028_000001_gen.wav', 'sampling_rate': 24000, 'label': 0, 'mfcc_1_mean': np.float64(-351.98292054772503), 'mfcc_2_mean': np.float64(138.34740654235458), 'mfcc_3_mean': np.float64(-27.586264438729334), 'mfcc_4_mean': np.float64(-5.630212930231326), 'mfcc_5_mean': np.float64(-3.1089402711762557), 'mfcc_6_mean': np.float64(-33.94086128126891), 'mfcc_7_mean': np.float64(-23.85429376739513), 'mfcc_8_mean': np.float64(-18.510482658577985), 'mfcc_9_mean': np.float64(-19.97348043988522), 'mfcc_10_mean': np.float64(-9.43995012821947), 'mfcc_11_mean': np.float64(-10.38699943173716), 'mfcc_12_mean': np.float64(-17.807656258866604), 'mfcc_13_mean': np.float64(-15.153776732665685), 'mfcc_14_mean': np.float64(-13.789231568021677), 'mfcc_15_mean': np.float64(-15.391079219798874), 'mfcc_16_mean': np.float64(-11.976953221187841), 'mfcc_17_mean': np.float64(-9.608783359469195), 'mfcc_18_mean': np.float64(-11.968392178660991), 'mfcc_19_mean': np.float64(-13.425558595908441), 'mfcc_20_mean': np.float64(-9.525299705999206), 'mfcc_21_mean': np.float64(-7.199237688642089), 'mfcc_22_mean': np.float64(-8.73316703403534), 'mfcc_23_mean': np.float64(-6.181738460033784), 'mfcc_24_mean': np.float64(-4.010611421878297), 'mfcc_25_mean': np.float64(-5.152036877616542), 'mfcc_26_mean': np.float64(-2.7467316215401323), 'mfcc_27_mean': np.float64(0.7906628731013486), 'mfcc_28_mean': np.float64(1.019753413614379), 'mfcc_29_mean': np.float64(0.8901665825252519), 'mfcc_30_mean': np.float64(3.0309603807990295)}, {'file_path': 'voice_dataset\\\\LibriSeVoc\\\\diffwave\\\\1088_129236_000008_000006_gen.wav', 'sampling_rate': 24000, 'label': 0, 'mfcc_1_mean': np.float64(-326.2343357266165), 'mfcc_2_mean': np.float64(146.885330847702), 'mfcc_3_mean': np.float64(-39.66039062545743), 'mfcc_4_mean': np.float64(9.623640837239687), 'mfcc_5_mean': np.float64(5.656256059326911), 'mfcc_6_mean': np.float64(-42.35762922532841), 'mfcc_7_mean': np.float64(-26.68711898825901), 'mfcc_8_mean': np.float64(-23.26515073902886), 'mfcc_9_mean': np.float64(-31.269214321701043), 'mfcc_10_mean': np.float64(-18.98240090293554), 'mfcc_11_mean': np.float64(-15.325527955115083), 'mfcc_12_mean': np.float64(-18.223259423078584), 'mfcc_13_mean': np.float64(-13.862877685819722), 'mfcc_14_mean': np.float64(-14.634242842886891), 'mfcc_15_mean': np.float64(-16.16312810493633), 'mfcc_16_mean': np.float64(-11.253741997765287), 'mfcc_17_mean': np.float64(-10.573976866095768), 'mfcc_18_mean': np.float64(-11.884211957282997), 'mfcc_19_mean': np.float64(-12.847130143012485), 'mfcc_20_mean': np.float64(-13.509485027957737), 'mfcc_21_mean': np.float64(-11.342397004247545), 'mfcc_22_mean': np.float64(-10.279312506398723), 'mfcc_23_mean': np.float64(-8.452102330683825), 'mfcc_24_mean': np.float64(-5.72250477575483), 'mfcc_25_mean': np.float64(-5.202503441099208), 'mfcc_26_mean': np.float64(-4.331066957122859), 'mfcc_27_mean': np.float64(-1.6548022621587242), 'mfcc_28_mean': np.float64(0.03937082366497533), 'mfcc_29_mean': np.float64(0.061846997258846084), 'mfcc_30_mean': np.float64(2.3474546532223552)}, {'file_path': 'voice_dataset\\\\LibriSeVoc\\\\diffwave\\\\1034_121119_000065_000003_gen.wav', 'sampling_rate': 24000, 'label': 0, 'mfcc_1_mean': np.float64(-339.8434600832817), 'mfcc_2_mean': np.float64(133.2832819800905), 'mfcc_3_mean': np.float64(-27.6901076379479), 'mfcc_4_mean': np.float64(-9.696746462298238), 'mfcc_5_mean': np.float64(3.6048914930659097), 'mfcc_6_mean': np.float64(-21.748662996884253), 'mfcc_7_mean': np.float64(-16.92943419147447), 'mfcc_8_mean': np.float64(-13.303435762400225), 'mfcc_9_mean': np.float64(-18.436568051474154), 'mfcc_10_mean': np.float64(-11.603433017650312), 'mfcc_11_mean': np.float64(-10.85776455392114), 'mfcc_12_mean': np.float64(-14.48893001066759), 'mfcc_13_mean': np.float64(-9.47976521675375), 'mfcc_14_mean': np.float64(-8.110671258714236), 'mfcc_15_mean': np.float64(-11.428013763461761), 'mfcc_16_mean': np.float64(-8.74687251286279), 'mfcc_17_mean': np.float64(-6.491258201803584), 'mfcc_18_mean': np.float64(-8.82283155656122), 'mfcc_19_mean': np.float64(-8.433020733624968), 'mfcc_20_mean': np.float64(-6.2346376334090525), 'mfcc_21_mean': np.float64(-7.504102704240903), 'mfcc_22_mean': np.float64(-7.599331035633975), 'mfcc_23_mean': np.float64(-4.0890263611577815), 'mfcc_24_mean': np.float64(-3.9162054595300715), 'mfcc_25_mean': np.float64(-4.46873990365884), 'mfcc_26_mean': np.float64(-1.6924586421218024), 'mfcc_27_mean': np.float64(-1.2248476571799363), 'mfcc_28_mean': np.float64(-2.1313002809703865), 'mfcc_29_mean': np.float64(-1.0673792927543295), 'mfcc_30_mean': np.float64(-1.0705934198587879)}, {'file_path': 'voice_dataset\\\\LibriSeVoc\\\\diffwave\\\\103_1241_000017_000000_gen.wav', 'sampling_rate': 24000, 'label': 0, 'mfcc_1_mean': np.float64(-318.4845429814138), 'mfcc_2_mean': np.float64(85.76718703257573), 'mfcc_3_mean': np.float64(-38.237052533411386), 'mfcc_4_mean': np.float64(9.045056359950337), 'mfcc_5_mean': np.float64(6.6886278121404), 'mfcc_6_mean': np.float64(-25.432466029482747), 'mfcc_7_mean': np.float64(-19.900233510229704), 'mfcc_8_mean': np.float64(-21.067901904895848), 'mfcc_9_mean': np.float64(-22.354310902197984), 'mfcc_10_mean': np.float64(-11.210261414634413), 'mfcc_11_mean': np.float64(-9.733931812163114), 'mfcc_12_mean': np.float64(-14.171526628529), 'mfcc_13_mean': np.float64(-8.034318714070645), 'mfcc_14_mean': np.float64(-4.0491788417492), 'mfcc_15_mean': np.float64(-6.112307253713888), 'mfcc_16_mean': np.float64(-5.270745840256419), 'mfcc_17_mean': np.float64(-4.859905474102062), 'mfcc_18_mean': np.float64(-6.7128066480397575), 'mfcc_19_mean': np.float64(-7.099908685438876), 'mfcc_20_mean': np.float64(-4.392321989004618), 'mfcc_21_mean': np.float64(-4.92195577020763), 'mfcc_22_mean': np.float64(-7.265419440159187), 'mfcc_23_mean': np.float64(-3.2221957220972186), 'mfcc_24_mean': np.float64(0.3714626894967024), 'mfcc_25_mean': np.float64(-1.2681631892355336), 'mfcc_26_mean': np.float64(-0.03752800929059886), 'mfcc_27_mean': np.float64(3.437442068571165), 'mfcc_28_mean': np.float64(3.078268898776555), 'mfcc_29_mean': np.float64(1.7924245933285405), 'mfcc_30_mean': np.float64(1.620722984073412)}]\n",
      "Saved features to: ./output/test.csv\n",
      "(8, 33)\n",
      "1\n"
     ]
    },
    {
     "name": "stderr",
     "output_type": "stream",
     "text": [
      "\n"
     ]
    }
   ],
   "source": [
    "import utils\n",
    "from utils import process_audio_files\n",
    "audio_paths = selected_gt_files + selected_diffwave_files\n",
    "labels = [1] * len(selected_gt_files) + [0] * len(selected_diffwave_files)\n",
    "features = process_audio_files(audio_paths, n_mfcc=30, labels=labels, output_csv='./output/test.csv',force_new=False, resume=True)"
   ]
  },
  {
   "cell_type": "code",
   "execution_count": 63,
   "metadata": {},
   "outputs": [
    {
     "data": {
      "text/plain": [
       "(200, 200)"
      ]
     },
     "execution_count": 63,
     "metadata": {},
     "output_type": "execute_result"
    }
   ],
   "source": [
    "len(audio_paths), len(labels)"
   ]
  },
  {
   "cell_type": "code",
   "execution_count": null,
   "metadata": {},
   "outputs": [
    {
     "name": "stdout",
     "output_type": "stream",
     "text": [
      "Initial label shape count    200.000000\n",
      "mean       0.500000\n",
      "std        0.501255\n",
      "min        0.000000\n",
      "25%        0.000000\n",
      "50%        0.500000\n",
      "75%        1.000000\n",
      "max        1.000000\n",
      "Name: label, dtype: float64\n"
     ]
    },
    {
     "name": "stderr",
     "output_type": "stream",
     "text": [
      "Processing audio files: 100%|██████████| 200/200 [00:00<00:00, 21150.24it/s]"
     ]
    },
    {
     "name": "stdout",
     "output_type": "stream",
     "text": [
      "[{'file_path': 'voice_dataset\\\\LibriSeVoc\\\\gt\\\\89_218_000014_000017.wav', 'sampling_rate': 24000, 'label': 1, 'mfcc_1_mean': np.float64(-301.1334828551077), 'mfcc_2_mean': np.float64(146.8998119606198), 'mfcc_3_mean': np.float64(-49.68328538119305), 'mfcc_4_mean': np.float64(14.375901007480827), 'mfcc_5_mean': np.float64(8.744897257772157), 'mfcc_6_mean': np.float64(-32.08164270064985), 'mfcc_7_mean': np.float64(-25.31015013716989), 'mfcc_8_mean': np.float64(-29.130609316340536), 'mfcc_9_mean': np.float64(-29.030401138899983), 'mfcc_10_mean': np.float64(-19.212823260648427), 'mfcc_11_mean': np.float64(-20.519704009915472), 'mfcc_12_mean': np.float64(-22.941467029129026), 'mfcc_13_mean': np.float64(-15.798718978688182), 'mfcc_14_mean': np.float64(-12.723867653443241), 'mfcc_15_mean': np.float64(-12.428200650859608), 'mfcc_16_mean': np.float64(-12.450441706693624), 'mfcc_17_mean': np.float64(-14.507410884179434), 'mfcc_18_mean': np.float64(-9.521671629370763), 'mfcc_19_mean': np.float64(-10.549709487400111), 'mfcc_20_mean': np.float64(-16.325306280136463), 'mfcc_21_mean': np.float64(-7.933818924664911), 'mfcc_22_mean': np.float64(-6.0474589360951905), 'mfcc_23_mean': np.float64(-11.735846038765162), 'mfcc_24_mean': np.float64(-6.133670938535987), 'mfcc_25_mean': np.float64(-3.622840830096108), 'mfcc_26_mean': np.float64(-6.905524135379632), 'mfcc_27_mean': np.float64(-4.930265772855656), 'mfcc_28_mean': np.float64(-3.734858262261971), 'mfcc_29_mean': np.float64(-3.934276900002721), 'mfcc_30_mean': np.float64(-0.2066748478789748)}, {'file_path': 'voice_dataset\\\\LibriSeVoc\\\\gt\\\\909_131041_000012_000002.wav', 'sampling_rate': 24000, 'label': 1, 'mfcc_1_mean': np.float64(-291.8318252006323), 'mfcc_2_mean': np.float64(131.75112054831183), 'mfcc_3_mean': np.float64(-50.64274811238328), 'mfcc_4_mean': np.float64(18.474594146211047), 'mfcc_5_mean': np.float64(12.199898424803532), 'mfcc_6_mean': np.float64(-25.141654280696578), 'mfcc_7_mean': np.float64(-16.694033572431614), 'mfcc_8_mean': np.float64(-28.379686142480356), 'mfcc_9_mean': np.float64(-30.445961258804225), 'mfcc_10_mean': np.float64(-19.384194624982396), 'mfcc_11_mean': np.float64(-19.152861839524164), 'mfcc_12_mean': np.float64(-18.46923501272726), 'mfcc_13_mean': np.float64(-15.875172249622322), 'mfcc_14_mean': np.float64(-16.168681915543143), 'mfcc_15_mean': np.float64(-9.506013207437158), 'mfcc_16_mean': np.float64(-5.315481977766178), 'mfcc_17_mean': np.float64(-8.925813781054904), 'mfcc_18_mean': np.float64(-6.611203803386798), 'mfcc_19_mean': np.float64(-3.842342952827829), 'mfcc_20_mean': np.float64(-4.350092922635537), 'mfcc_21_mean': np.float64(-4.5627986851358), 'mfcc_22_mean': np.float64(-5.730177746376079), 'mfcc_23_mean': np.float64(-5.13364729286219), 'mfcc_24_mean': np.float64(-4.2446150617315), 'mfcc_25_mean': np.float64(-6.700836929178018), 'mfcc_26_mean': np.float64(-6.685711953163894), 'mfcc_27_mean': np.float64(-3.897681387924559), 'mfcc_28_mean': np.float64(-4.885265581884603), 'mfcc_29_mean': np.float64(-3.705686965408114), 'mfcc_30_mean': np.float64(-0.6822507472026691)}, {'file_path': 'voice_dataset\\\\LibriSeVoc\\\\gt\\\\89_218_000012_000010.wav', 'sampling_rate': 24000, 'label': 1, 'mfcc_1_mean': np.float64(-302.2402516752904), 'mfcc_2_mean': np.float64(140.44811474224184), 'mfcc_3_mean': np.float64(-45.386619677319025), 'mfcc_4_mean': np.float64(8.425295853279593), 'mfcc_5_mean': np.float64(0.5513657121577366), 'mfcc_6_mean': np.float64(-34.2567073141749), 'mfcc_7_mean': np.float64(-23.419378437394546), 'mfcc_8_mean': np.float64(-24.820136911594712), 'mfcc_9_mean': np.float64(-25.42024837150748), 'mfcc_10_mean': np.float64(-17.131750422669633), 'mfcc_11_mean': np.float64(-18.650669366927943), 'mfcc_12_mean': np.float64(-20.854209495261163), 'mfcc_13_mean': np.float64(-15.584173388713442), 'mfcc_14_mean': np.float64(-14.77184144301604), 'mfcc_15_mean': np.float64(-13.064984943579027), 'mfcc_16_mean': np.float64(-11.85887839628857), 'mfcc_17_mean': np.float64(-14.401954013315697), 'mfcc_18_mean': np.float64(-9.181734746232895), 'mfcc_19_mean': np.float64(-9.093042573252218), 'mfcc_20_mean': np.float64(-13.65287273996697), 'mfcc_21_mean': np.float64(-7.065314621540773), 'mfcc_22_mean': np.float64(-3.9491068958122804), 'mfcc_23_mean': np.float64(-7.115634877501982), 'mfcc_24_mean': np.float64(-2.324769661320704), 'mfcc_25_mean': np.float64(1.1394774352097277), 'mfcc_26_mean': np.float64(-3.0756314688292865), 'mfcc_27_mean': np.float64(-2.63538883120971), 'mfcc_28_mean': np.float64(-0.27747352145966186), 'mfcc_29_mean': np.float64(-1.7553160014016989), 'mfcc_30_mean': np.float64(0.6946109803827876)}, {'file_path': 'voice_dataset\\\\LibriSeVoc\\\\gt\\\\909_131041_000013_000000.wav', 'sampling_rate': 24000, 'label': 1, 'mfcc_1_mean': np.float64(-311.51851722856543), 'mfcc_2_mean': np.float64(150.74778213096138), 'mfcc_3_mean': np.float64(-37.860431481972995), 'mfcc_4_mean': np.float64(9.68849954946543), 'mfcc_5_mean': np.float64(11.712280652819617), 'mfcc_6_mean': np.float64(-28.9370792931426), 'mfcc_7_mean': np.float64(-19.699686948263853), 'mfcc_8_mean': np.float64(-22.47816981489784), 'mfcc_9_mean': np.float64(-28.92641175193751), 'mfcc_10_mean': np.float64(-20.67743810348257), 'mfcc_11_mean': np.float64(-18.154295890165344), 'mfcc_12_mean': np.float64(-18.429399029307067), 'mfcc_13_mean': np.float64(-16.70498131737894), 'mfcc_14_mean': np.float64(-16.200206037801287), 'mfcc_15_mean': np.float64(-12.773610394151902), 'mfcc_16_mean': np.float64(-8.271646237924772), 'mfcc_17_mean': np.float64(-9.03329651351909), 'mfcc_18_mean': np.float64(-9.112300383659555), 'mfcc_19_mean': np.float64(-5.840505299117924), 'mfcc_20_mean': np.float64(-5.09507555483478), 'mfcc_21_mean': np.float64(-7.4019776916224576), 'mfcc_22_mean': np.float64(-7.645094700122272), 'mfcc_23_mean': np.float64(-5.189215941206351), 'mfcc_24_mean': np.float64(-6.48661664061363), 'mfcc_25_mean': np.float64(-7.223659146208224), 'mfcc_26_mean': np.float64(-4.149956412403378), 'mfcc_27_mean': np.float64(-3.9407160685759424), 'mfcc_28_mean': np.float64(-4.138232699046195), 'mfcc_29_mean': np.float64(-2.365496289393644), 'mfcc_30_mean': np.float64(-2.506064538526504)}, {'file_path': 'voice_dataset\\\\LibriSeVoc\\\\gt\\\\8975_270782_000023_000000.wav', 'sampling_rate': 24000, 'label': 1, 'mfcc_1_mean': np.float64(-277.8684443861813), 'mfcc_2_mean': np.float64(98.41037033056396), 'mfcc_3_mean': np.float64(-78.4913403431653), 'mfcc_4_mean': np.float64(23.062165312341413), 'mfcc_5_mean': np.float64(-9.085077578234934), 'mfcc_6_mean': np.float64(-26.29055312832539), 'mfcc_7_mean': np.float64(-8.279983757496371), 'mfcc_8_mean': np.float64(-24.37184273464874), 'mfcc_9_mean': np.float64(-18.86333711581326), 'mfcc_10_mean': np.float64(-15.64371954082788), 'mfcc_11_mean': np.float64(-15.259651641262659), 'mfcc_12_mean': np.float64(-14.383324703613996), 'mfcc_13_mean': np.float64(-16.520734684067694), 'mfcc_14_mean': np.float64(-9.388100259742108), 'mfcc_15_mean': np.float64(-7.916271780085577), 'mfcc_16_mean': np.float64(-14.364170038643602), 'mfcc_17_mean': np.float64(-8.135014883766653), 'mfcc_18_mean': np.float64(-4.164968521829875), 'mfcc_19_mean': np.float64(-9.57639482838237), 'mfcc_20_mean': np.float64(-7.051657495926311), 'mfcc_21_mean': np.float64(-3.3144413179011165), 'mfcc_22_mean': np.float64(-5.6731261023690305), 'mfcc_23_mean': np.float64(-5.2963170075818224), 'mfcc_24_mean': np.float64(-2.203801430754936), 'mfcc_25_mean': np.float64(-4.046218817674016), 'mfcc_26_mean': np.float64(-4.1062413222843634), 'mfcc_27_mean': np.float64(0.3467288365900937), 'mfcc_28_mean': np.float64(1.2793187854723198), 'mfcc_29_mean': np.float64(1.742223836677538), 'mfcc_30_mean': np.float64(2.2582637978826337)}, {'file_path': 'voice_dataset\\\\LibriSeVoc\\\\gt\\\\8975_270782_000023_000001.wav', 'sampling_rate': 24000, 'label': 1, 'mfcc_1_mean': np.float64(-292.51082630211204), 'mfcc_2_mean': np.float64(102.43045349405403), 'mfcc_3_mean': np.float64(-78.09345512920179), 'mfcc_4_mean': np.float64(14.0234427597764), 'mfcc_5_mean': np.float64(-6.68925387329931), 'mfcc_6_mean': np.float64(-24.555838458138933), 'mfcc_7_mean': np.float64(-10.714305775433015), 'mfcc_8_mean': np.float64(-27.337805863187228), 'mfcc_9_mean': np.float64(-18.494674725668748), 'mfcc_10_mean': np.float64(-13.307163879583769), 'mfcc_11_mean': np.float64(-17.57190265027122), 'mfcc_12_mean': np.float64(-12.375183424968885), 'mfcc_13_mean': np.float64(-13.470606896299934), 'mfcc_14_mean': np.float64(-11.476023051161762), 'mfcc_15_mean': np.float64(-9.625662592484598), 'mfcc_16_mean': np.float64(-13.16916402689353), 'mfcc_17_mean': np.float64(-8.077420569108146), 'mfcc_18_mean': np.float64(-5.454808844776124), 'mfcc_19_mean': np.float64(-9.587019085640604), 'mfcc_20_mean': np.float64(-8.52958149936129), 'mfcc_21_mean': np.float64(-5.675381675299589), 'mfcc_22_mean': np.float64(-4.9756704282117195), 'mfcc_23_mean': np.float64(-4.014696882335802), 'mfcc_24_mean': np.float64(-1.0457776809245993), 'mfcc_25_mean': np.float64(-1.806856705863683), 'mfcc_26_mean': np.float64(-3.774815575228483), 'mfcc_27_mean': np.float64(0.0548452401878029), 'mfcc_28_mean': np.float64(3.9723185094658104), 'mfcc_29_mean': np.float64(3.95276428799215), 'mfcc_30_mean': np.float64(4.63498892398591)}, {'file_path': 'voice_dataset\\\\LibriSeVoc\\\\gt\\\\89_219_000002_000002.wav', 'sampling_rate': 24000, 'label': 1, 'mfcc_1_mean': np.float64(-310.4552734554932), 'mfcc_2_mean': np.float64(155.3219976674056), 'mfcc_3_mean': np.float64(-44.0308089579739), 'mfcc_4_mean': np.float64(4.135138853750963), 'mfcc_5_mean': np.float64(2.9548756026369207), 'mfcc_6_mean': np.float64(-39.78079067146502), 'mfcc_7_mean': np.float64(-30.487450415816564), 'mfcc_8_mean': np.float64(-22.106958233305168), 'mfcc_9_mean': np.float64(-24.336023196886803), 'mfcc_10_mean': np.float64(-19.950081535452988), 'mfcc_11_mean': np.float64(-19.493116005753226), 'mfcc_12_mean': np.float64(-21.061889554494346), 'mfcc_13_mean': np.float64(-17.6118855179249), 'mfcc_14_mean': np.float64(-15.753255041251016), 'mfcc_15_mean': np.float64(-13.064279254642512), 'mfcc_16_mean': np.float64(-14.42195761672369), 'mfcc_17_mean': np.float64(-15.344516260788003), 'mfcc_18_mean': np.float64(-9.614086908398416), 'mfcc_19_mean': np.float64(-8.622894421612347), 'mfcc_20_mean': np.float64(-8.470395587647486), 'mfcc_21_mean': np.float64(-4.443524157607447), 'mfcc_22_mean': np.float64(-3.6973666100598757), 'mfcc_23_mean': np.float64(-5.645790275445487), 'mfcc_24_mean': np.float64(-4.411974568779727), 'mfcc_25_mean': np.float64(-2.423552986122593), 'mfcc_26_mean': np.float64(-5.15145556737669), 'mfcc_27_mean': np.float64(-4.636943152980844), 'mfcc_28_mean': np.float64(-2.6284306954890244), 'mfcc_29_mean': np.float64(-5.145904096753044), 'mfcc_30_mean': np.float64(-3.0362787338586235)}, {'file_path': 'voice_dataset\\\\LibriSeVoc\\\\gt\\\\8975_270782_000023_000004.wav', 'sampling_rate': 24000, 'label': 1, 'mfcc_1_mean': np.float64(-275.8592401563347), 'mfcc_2_mean': np.float64(103.53513288528775), 'mfcc_3_mean': np.float64(-80.57478047225737), 'mfcc_4_mean': np.float64(21.13353034457684), 'mfcc_5_mean': np.float64(-10.89306966624352), 'mfcc_6_mean': np.float64(-28.076267915392812), 'mfcc_7_mean': np.float64(-4.930992516576415), 'mfcc_8_mean': np.float64(-25.302706359624572), 'mfcc_9_mean': np.float64(-22.536572270214368), 'mfcc_10_mean': np.float64(-15.343969549813375), 'mfcc_11_mean': np.float64(-14.936205789178327), 'mfcc_12_mean': np.float64(-15.112360365148858), 'mfcc_13_mean': np.float64(-16.92558666389216), 'mfcc_14_mean': np.float64(-8.21671283486465), 'mfcc_15_mean': np.float64(-8.928507983749432), 'mfcc_16_mean': np.float64(-16.220054320511363), 'mfcc_17_mean': np.float64(-7.179819920443333), 'mfcc_18_mean': np.float64(-6.410359532264846), 'mfcc_19_mean': np.float64(-13.070856882069306), 'mfcc_20_mean': np.float64(-8.993349155255538), 'mfcc_21_mean': np.float64(-6.180588501983632), 'mfcc_22_mean': np.float64(-5.246332586042973), 'mfcc_23_mean': np.float64(-2.322345673372539), 'mfcc_24_mean': np.float64(0.6901394024684884), 'mfcc_25_mean': np.float64(0.2809524540208875), 'mfcc_26_mean': np.float64(-1.6380447963088685), 'mfcc_27_mean': np.float64(0.7928035360824403), 'mfcc_28_mean': np.float64(4.095272600467368), 'mfcc_29_mean': np.float64(5.253680794641213), 'mfcc_30_mean': np.float64(5.603371555654129)}, {'file_path': 'voice_dataset\\\\LibriSeVoc\\\\gt\\\\89_218_000014_000007.wav', 'sampling_rate': 24000, 'label': 1, 'mfcc_1_mean': np.float64(-289.37506791136695), 'mfcc_2_mean': np.float64(142.88926694622631), 'mfcc_3_mean': np.float64(-40.92846707834783), 'mfcc_4_mean': np.float64(11.07016742155363), 'mfcc_5_mean': np.float64(4.047602120755256), 'mfcc_6_mean': np.float64(-24.496390620027046), 'mfcc_7_mean': np.float64(-18.230825983736366), 'mfcc_8_mean': np.float64(-25.172428818921517), 'mfcc_9_mean': np.float64(-26.821098263597026), 'mfcc_10_mean': np.float64(-17.84952942170035), 'mfcc_11_mean': np.float64(-17.052373894911817), 'mfcc_12_mean': np.float64(-18.114919858269765), 'mfcc_13_mean': np.float64(-14.241081571879063), 'mfcc_14_mean': np.float64(-13.018887332704141), 'mfcc_15_mean': np.float64(-11.912484800566867), 'mfcc_16_mean': np.float64(-12.13322296011585), 'mfcc_17_mean': np.float64(-13.675804815250823), 'mfcc_18_mean': np.float64(-9.21170213253236), 'mfcc_19_mean': np.float64(-8.961417973508173), 'mfcc_20_mean': np.float64(-13.503462496683712), 'mfcc_21_mean': np.float64(-7.82233539127681), 'mfcc_22_mean': np.float64(-5.914424696502098), 'mfcc_23_mean': np.float64(-11.583960390707785), 'mfcc_24_mean': np.float64(-7.087800886740198), 'mfcc_25_mean': np.float64(-4.1436411617896205), 'mfcc_26_mean': np.float64(-7.367316943048718), 'mfcc_27_mean': np.float64(-4.320151899851152), 'mfcc_28_mean': np.float64(-2.367904794846878), 'mfcc_29_mean': np.float64(-4.262030812362285), 'mfcc_30_mean': np.float64(-1.9158149930466972)}, {'file_path': 'voice_dataset\\\\LibriSeVoc\\\\gt\\\\89_218_000004_000005.wav', 'sampling_rate': 24000, 'label': 1, 'mfcc_1_mean': np.float64(-317.5732122295296), 'mfcc_2_mean': np.float64(152.70713347331244), 'mfcc_3_mean': np.float64(-34.53973876892919), 'mfcc_4_mean': np.float64(4.013499094967776), 'mfcc_5_mean': np.float64(1.7004651704716014), 'mfcc_6_mean': np.float64(-37.89880849279382), 'mfcc_7_mean': np.float64(-23.480399116150796), 'mfcc_8_mean': np.float64(-20.888654819944534), 'mfcc_9_mean': np.float64(-25.815440437208814), 'mfcc_10_mean': np.float64(-20.009351038019865), 'mfcc_11_mean': np.float64(-19.50544634230031), 'mfcc_12_mean': np.float64(-16.810077618413153), 'mfcc_13_mean': np.float64(-16.457068384554308), 'mfcc_14_mean': np.float64(-17.871612626786685), 'mfcc_15_mean': np.float64(-13.72722327338876), 'mfcc_16_mean': np.float64(-16.899123278554903), 'mfcc_17_mean': np.float64(-15.048994797243882), 'mfcc_18_mean': np.float64(-4.641223139126896), 'mfcc_19_mean': np.float64(-9.833656339182943), 'mfcc_20_mean': np.float64(-12.823635708201301), 'mfcc_21_mean': np.float64(-4.935110736967826), 'mfcc_22_mean': np.float64(-9.290238544590819), 'mfcc_23_mean': np.float64(-11.083502410723806), 'mfcc_24_mean': np.float64(-2.741227363446031), 'mfcc_25_mean': np.float64(-2.7973712435227633), 'mfcc_26_mean': np.float64(-4.142839964603237), 'mfcc_27_mean': np.float64(-2.6314027783534866), 'mfcc_28_mean': np.float64(-4.9147788740261795), 'mfcc_29_mean': np.float64(-4.255703007121444), 'mfcc_30_mean': np.float64(-2.3726599140680555)}, {'file_path': 'voice_dataset\\\\LibriSeVoc\\\\diffwave\\\\1034_121119_000065_000003_gen.wav', 'sampling_rate': 24000, 'label': 0, 'mfcc_1_mean': np.float64(-339.8434600832817), 'mfcc_2_mean': np.float64(133.2832819800905), 'mfcc_3_mean': np.float64(-27.6901076379479), 'mfcc_4_mean': np.float64(-9.696746462298238), 'mfcc_5_mean': np.float64(3.6048914930659097), 'mfcc_6_mean': np.float64(-21.748662996884253), 'mfcc_7_mean': np.float64(-16.92943419147447), 'mfcc_8_mean': np.float64(-13.303435762400225), 'mfcc_9_mean': np.float64(-18.436568051474154), 'mfcc_10_mean': np.float64(-11.603433017650312), 'mfcc_11_mean': np.float64(-10.85776455392114), 'mfcc_12_mean': np.float64(-14.48893001066759), 'mfcc_13_mean': np.float64(-9.47976521675375), 'mfcc_14_mean': np.float64(-8.110671258714236), 'mfcc_15_mean': np.float64(-11.428013763461761), 'mfcc_16_mean': np.float64(-8.74687251286279), 'mfcc_17_mean': np.float64(-6.491258201803584), 'mfcc_18_mean': np.float64(-8.82283155656122), 'mfcc_19_mean': np.float64(-8.433020733624968), 'mfcc_20_mean': np.float64(-6.2346376334090525), 'mfcc_21_mean': np.float64(-7.504102704240903), 'mfcc_22_mean': np.float64(-7.599331035633975), 'mfcc_23_mean': np.float64(-4.0890263611577815), 'mfcc_24_mean': np.float64(-3.9162054595300715), 'mfcc_25_mean': np.float64(-4.46873990365884), 'mfcc_26_mean': np.float64(-1.6924586421218024), 'mfcc_27_mean': np.float64(-1.2248476571799363), 'mfcc_28_mean': np.float64(-2.1313002809703865), 'mfcc_29_mean': np.float64(-1.0673792927543295), 'mfcc_30_mean': np.float64(-1.0705934198587879)}, {'file_path': 'voice_dataset\\\\LibriSeVoc\\\\diffwave\\\\103_1241_000021_000000_gen.wav', 'sampling_rate': 24000, 'label': 0, 'mfcc_1_mean': np.float64(-298.56567772639215), 'mfcc_2_mean': np.float64(102.50984543467005), 'mfcc_3_mean': np.float64(-57.42836102863238), 'mfcc_4_mean': np.float64(11.026899162487569), 'mfcc_5_mean': np.float64(4.058839276674012), 'mfcc_6_mean': np.float64(-33.3333279333116), 'mfcc_7_mean': np.float64(-19.508485960124737), 'mfcc_8_mean': np.float64(-17.01200003660926), 'mfcc_9_mean': np.float64(-18.37884592072616), 'mfcc_10_mean': np.float64(-10.179604407486437), 'mfcc_11_mean': np.float64(-11.633316406405326), 'mfcc_12_mean': np.float64(-13.617323060084983), 'mfcc_13_mean': np.float64(-8.822208026700395), 'mfcc_14_mean': np.float64(-8.674546786689678), 'mfcc_15_mean': np.float64(-9.709159509266728), 'mfcc_16_mean': np.float64(-7.522180238319647), 'mfcc_17_mean': np.float64(-6.353239099455674), 'mfcc_18_mean': np.float64(-7.188954724350239), 'mfcc_19_mean': np.float64(-8.627537576152829), 'mfcc_20_mean': np.float64(-5.357113754574149), 'mfcc_21_mean': np.float64(-3.68434887210583), 'mfcc_22_mean': np.float64(-5.273456800833007), 'mfcc_23_mean': np.float64(-0.5367880769445519), 'mfcc_24_mean': np.float64(0.6684716272156066), 'mfcc_25_mean': np.float64(-4.008085765892321), 'mfcc_26_mean': np.float64(-2.0900866669643334), 'mfcc_27_mean': np.float64(-0.27686049024705767), 'mfcc_28_mean': np.float64(-1.5448220622733142), 'mfcc_29_mean': np.float64(-0.5410483822280943), 'mfcc_30_mean': np.float64(0.2424478152921259)}, {'file_path': 'voice_dataset\\\\LibriSeVoc\\\\diffwave\\\\103_1241_000025_000007_gen.wav', 'sampling_rate': 24000, 'label': 0, 'mfcc_1_mean': np.float64(-326.72943068506953), 'mfcc_2_mean': np.float64(114.71731664848586), 'mfcc_3_mean': np.float64(-50.756123635630516), 'mfcc_4_mean': np.float64(-5.2471233249227005), 'mfcc_5_mean': np.float64(-0.27680038664545636), 'mfcc_6_mean': np.float64(-31.072849410811088), 'mfcc_7_mean': np.float64(-21.485112129633723), 'mfcc_8_mean': np.float64(-18.12689678076623), 'mfcc_9_mean': np.float64(-20.071902523506925), 'mfcc_10_mean': np.float64(-11.254209392597854), 'mfcc_11_mean': np.float64(-10.694458992345766), 'mfcc_12_mean': np.float64(-14.103266609906346), 'mfcc_13_mean': np.float64(-7.799336330143009), 'mfcc_14_mean': np.float64(-6.796887071540786), 'mfcc_15_mean': np.float64(-10.318289618036074), 'mfcc_16_mean': np.float64(-8.019421805550094), 'mfcc_17_mean': np.float64(-7.373701935402181), 'mfcc_18_mean': np.float64(-9.16530104172432), 'mfcc_19_mean': np.float64(-8.111658410782924), 'mfcc_20_mean': np.float64(-4.757095343113423), 'mfcc_21_mean': np.float64(-5.530195884070843), 'mfcc_22_mean': np.float64(-7.1081214629957445), 'mfcc_23_mean': np.float64(-2.4830181010141286), 'mfcc_24_mean': np.float64(-0.8415742121637924), 'mfcc_25_mean': np.float64(-2.151660425087056), 'mfcc_26_mean': np.float64(-0.4227473605242721), 'mfcc_27_mean': np.float64(0.26980463377623404), 'mfcc_28_mean': np.float64(1.1093949796245166), 'mfcc_29_mean': np.float64(2.075029348819869), 'mfcc_30_mean': np.float64(0.6061415629149939)}, {'file_path': 'voice_dataset\\\\LibriSeVoc\\\\diffwave\\\\1034_121119_000010_000004_gen.wav', 'sampling_rate': 24000, 'label': 0, 'mfcc_1_mean': np.float64(-293.4264114171465), 'mfcc_2_mean': np.float64(149.64973848811835), 'mfcc_3_mean': np.float64(-33.110631404253475), 'mfcc_4_mean': np.float64(-12.271844490899287), 'mfcc_5_mean': np.float64(7.043692874811701), 'mfcc_6_mean': np.float64(-27.00699182934547), 'mfcc_7_mean': np.float64(-23.64639171797709), 'mfcc_8_mean': np.float64(-17.71115994350463), 'mfcc_9_mean': np.float64(-22.40980255873491), 'mfcc_10_mean': np.float64(-9.73974504279456), 'mfcc_11_mean': np.float64(-10.396023082527895), 'mfcc_12_mean': np.float64(-21.214033042517443), 'mfcc_13_mean': np.float64(-12.026918511975929), 'mfcc_14_mean': np.float64(-5.444756750978101), 'mfcc_15_mean': np.float64(-10.767694949375558), 'mfcc_16_mean': np.float64(-9.221642468288875), 'mfcc_17_mean': np.float64(-8.348304200208196), 'mfcc_18_mean': np.float64(-11.619866000894541), 'mfcc_19_mean': np.float64(-9.053270778520508), 'mfcc_20_mean': np.float64(-7.141623232387099), 'mfcc_21_mean': np.float64(-10.038237924800516), 'mfcc_22_mean': np.float64(-8.797413250272038), 'mfcc_23_mean': np.float64(-5.624996710416029), 'mfcc_24_mean': np.float64(-5.783715638787398), 'mfcc_25_mean': np.float64(-4.884954839629238), 'mfcc_26_mean': np.float64(-2.288219830817512), 'mfcc_27_mean': np.float64(-2.654530089117521), 'mfcc_28_mean': np.float64(-2.082585885377171), 'mfcc_29_mean': np.float64(0.31148962370658745), 'mfcc_30_mean': np.float64(-1.4231525328734738)}, {'file_path': 'voice_dataset\\\\LibriSeVoc\\\\diffwave\\\\103_1241_000014_000003_gen.wav', 'sampling_rate': 24000, 'label': 0, 'mfcc_1_mean': np.float64(-316.7303927494349), 'mfcc_2_mean': np.float64(98.56888146208003), 'mfcc_3_mean': np.float64(-45.20476882866322), 'mfcc_4_mean': np.float64(-1.6478410748912513), 'mfcc_5_mean': np.float64(0.2616156845038893), 'mfcc_6_mean': np.float64(-25.217681014350738), 'mfcc_7_mean': np.float64(-16.75527703602246), 'mfcc_8_mean': np.float64(-19.25849100824661), 'mfcc_9_mean': np.float64(-20.121572252992305), 'mfcc_10_mean': np.float64(-7.464743420422647), 'mfcc_11_mean': np.float64(-9.085490159389348), 'mfcc_12_mean': np.float64(-14.657835233834522), 'mfcc_13_mean': np.float64(-6.84989604122711), 'mfcc_14_mean': np.float64(-6.371853541953944), 'mfcc_15_mean': np.float64(-10.03503821933418), 'mfcc_16_mean': np.float64(-6.505458617801753), 'mfcc_17_mean': np.float64(-7.118604456303356), 'mfcc_18_mean': np.float64(-7.659729687910221), 'mfcc_19_mean': np.float64(-5.441139055318627), 'mfcc_20_mean': np.float64(-4.582323067340616), 'mfcc_21_mean': np.float64(-5.401718290244109), 'mfcc_22_mean': np.float64(-6.167518644359755), 'mfcc_23_mean': np.float64(-2.8539240474461094), 'mfcc_24_mean': np.float64(-0.8119248160181762), 'mfcc_25_mean': np.float64(-2.6064954107919176), 'mfcc_26_mean': np.float64(-1.4380849956690926), 'mfcc_27_mean': np.float64(0.5229685812603373), 'mfcc_28_mean': np.float64(-0.34026087356759704), 'mfcc_29_mean': np.float64(-1.1619533743602017), 'mfcc_30_mean': np.float64(-1.059308857112023)}, {'file_path': 'voice_dataset\\\\LibriSeVoc\\\\diffwave\\\\103_1241_000017_000000_gen.wav', 'sampling_rate': 24000, 'label': 0, 'mfcc_1_mean': np.float64(-318.4845429814138), 'mfcc_2_mean': np.float64(85.76718703257573), 'mfcc_3_mean': np.float64(-38.237052533411386), 'mfcc_4_mean': np.float64(9.045056359950337), 'mfcc_5_mean': np.float64(6.6886278121404), 'mfcc_6_mean': np.float64(-25.432466029482747), 'mfcc_7_mean': np.float64(-19.900233510229704), 'mfcc_8_mean': np.float64(-21.067901904895848), 'mfcc_9_mean': np.float64(-22.354310902197984), 'mfcc_10_mean': np.float64(-11.210261414634413), 'mfcc_11_mean': np.float64(-9.733931812163114), 'mfcc_12_mean': np.float64(-14.171526628529), 'mfcc_13_mean': np.float64(-8.034318714070645), 'mfcc_14_mean': np.float64(-4.0491788417492), 'mfcc_15_mean': np.float64(-6.112307253713888), 'mfcc_16_mean': np.float64(-5.270745840256419), 'mfcc_17_mean': np.float64(-4.859905474102062), 'mfcc_18_mean': np.float64(-6.7128066480397575), 'mfcc_19_mean': np.float64(-7.099908685438876), 'mfcc_20_mean': np.float64(-4.392321989004618), 'mfcc_21_mean': np.float64(-4.92195577020763), 'mfcc_22_mean': np.float64(-7.265419440159187), 'mfcc_23_mean': np.float64(-3.2221957220972186), 'mfcc_24_mean': np.float64(0.3714626894967024), 'mfcc_25_mean': np.float64(-1.2681631892355336), 'mfcc_26_mean': np.float64(-0.03752800929059886), 'mfcc_27_mean': np.float64(3.437442068571165), 'mfcc_28_mean': np.float64(3.078268898776555), 'mfcc_29_mean': np.float64(1.7924245933285405), 'mfcc_30_mean': np.float64(1.620722984073412)}, {'file_path': 'voice_dataset\\\\LibriSeVoc\\\\diffwave\\\\1034_121119_000028_000001_gen.wav', 'sampling_rate': 24000, 'label': 0, 'mfcc_1_mean': np.float64(-329.47376282905714), 'mfcc_2_mean': np.float64(143.67295811911688), 'mfcc_3_mean': np.float64(-34.24288954339396), 'mfcc_4_mean': np.float64(-5.81045016890433), 'mfcc_5_mean': np.float64(7.793225547807837), 'mfcc_6_mean': np.float64(-23.54594042855971), 'mfcc_7_mean': np.float64(-17.6184144268672), 'mfcc_8_mean': np.float64(-12.916786411361148), 'mfcc_9_mean': np.float64(-19.35939360676062), 'mfcc_10_mean': np.float64(-11.252064748562805), 'mfcc_11_mean': np.float64(-12.228245674703436), 'mfcc_12_mean': np.float64(-19.315480656353756), 'mfcc_13_mean': np.float64(-11.8549404586716), 'mfcc_14_mean': np.float64(-6.940029551733467), 'mfcc_15_mean': np.float64(-10.53155834987125), 'mfcc_16_mean': np.float64(-7.665499165856934), 'mfcc_17_mean': np.float64(-7.122857629689298), 'mfcc_18_mean': np.float64(-11.251569219455183), 'mfcc_19_mean': np.float64(-8.320385159036421), 'mfcc_20_mean': np.float64(-5.636811459635971), 'mfcc_21_mean': np.float64(-8.82456345976834), 'mfcc_22_mean': np.float64(-8.666531334423683), 'mfcc_23_mean': np.float64(-3.848380887959909), 'mfcc_24_mean': np.float64(-4.565264259332631), 'mfcc_25_mean': np.float64(-6.845506590157747), 'mfcc_26_mean': np.float64(-3.4505391636068072), 'mfcc_27_mean': np.float64(-1.852336328812585), 'mfcc_28_mean': np.float64(-2.5224628725247316), 'mfcc_29_mean': np.float64(-2.4400047648695744), 'mfcc_30_mean': np.float64(-2.9189331470374067)}, {'file_path': 'voice_dataset\\\\LibriSeVoc\\\\diffwave\\\\103_1241_000004_000002_gen.wav', 'sampling_rate': 24000, 'label': 0, 'mfcc_1_mean': np.float64(-330.5697038997275), 'mfcc_2_mean': np.float64(89.97577185059046), 'mfcc_3_mean': np.float64(-43.595262201895075), 'mfcc_4_mean': np.float64(13.86857998553825), 'mfcc_5_mean': np.float64(7.636299971965195), 'mfcc_6_mean': np.float64(-29.411578148515158), 'mfcc_7_mean': np.float64(-19.938068726845753), 'mfcc_8_mean': np.float64(-20.14714990976333), 'mfcc_9_mean': np.float64(-19.223229434295), 'mfcc_10_mean': np.float64(-7.502254681274891), 'mfcc_11_mean': np.float64(-11.64531708091456), 'mfcc_12_mean': np.float64(-12.94405165594032), 'mfcc_13_mean': np.float64(-5.647442439490861), 'mfcc_14_mean': np.float64(-5.763912292571108), 'mfcc_15_mean': np.float64(-9.652661002766616), 'mfcc_16_mean': np.float64(-8.756741067989996), 'mfcc_17_mean': np.float64(-5.023114434051213), 'mfcc_18_mean': np.float64(-5.276125516009407), 'mfcc_19_mean': np.float64(-6.624078256042148), 'mfcc_20_mean': np.float64(-3.670386836625247), 'mfcc_21_mean': np.float64(-3.487983837623005), 'mfcc_22_mean': np.float64(-5.0585035535564336), 'mfcc_23_mean': np.float64(-1.0849938554271905), 'mfcc_24_mean': np.float64(0.3020643146616623), 'mfcc_25_mean': np.float64(-1.1639856293815145), 'mfcc_26_mean': np.float64(0.8716827971130031), 'mfcc_27_mean': np.float64(1.3353124670462846), 'mfcc_28_mean': np.float64(0.2653378070542317), 'mfcc_29_mean': np.float64(1.573921052722751), 'mfcc_30_mean': np.float64(0.4900253145359051)}, {'file_path': 'voice_dataset\\\\LibriSeVoc\\\\diffwave\\\\1034_121119_000040_000001_gen.wav', 'sampling_rate': 24000, 'label': 0, 'mfcc_1_mean': np.float64(-323.5801615240719), 'mfcc_2_mean': np.float64(149.92788866747264), 'mfcc_3_mean': np.float64(-26.93603284160825), 'mfcc_4_mean': np.float64(-4.55628093266025), 'mfcc_5_mean': np.float64(9.262783432805499), 'mfcc_6_mean': np.float64(-22.52158251706541), 'mfcc_7_mean': np.float64(-18.872876896798232), 'mfcc_8_mean': np.float64(-12.654591711315497), 'mfcc_9_mean': np.float64(-18.293792804687914), 'mfcc_10_mean': np.float64(-10.267279030929418), 'mfcc_11_mean': np.float64(-11.220858876763467), 'mfcc_12_mean': np.float64(-18.46361695880609), 'mfcc_13_mean': np.float64(-10.49965383365513), 'mfcc_14_mean': np.float64(-6.853411042369691), 'mfcc_15_mean': np.float64(-12.32361367698449), 'mfcc_16_mean': np.float64(-10.721439365758481), 'mfcc_17_mean': np.float64(-8.77925913240027), 'mfcc_18_mean': np.float64(-9.714159236064935), 'mfcc_19_mean': np.float64(-8.268826844934416), 'mfcc_20_mean': np.float64(-7.46169913927162), 'mfcc_21_mean': np.float64(-9.087762824832042), 'mfcc_22_mean': np.float64(-7.473183606802647), 'mfcc_23_mean': np.float64(-3.7078007386556235), 'mfcc_24_mean': np.float64(-5.1188628701857395), 'mfcc_25_mean': np.float64(-5.758882155749841), 'mfcc_26_mean': np.float64(-2.3676100872321157), 'mfcc_27_mean': np.float64(-2.0775655038186707), 'mfcc_28_mean': np.float64(-3.2254357856283633), 'mfcc_29_mean': np.float64(-2.2596651031169763), 'mfcc_30_mean': np.float64(-1.9481369220856253)}, {'file_path': 'voice_dataset\\\\LibriSeVoc\\\\diffwave\\\\1034_121119_000010_000006_gen.wav', 'sampling_rate': 24000, 'label': 0, 'mfcc_1_mean': np.float64(-318.186680178548), 'mfcc_2_mean': np.float64(143.96384869049777), 'mfcc_3_mean': np.float64(-31.00335769975547), 'mfcc_4_mean': np.float64(-4.920963805740264), 'mfcc_5_mean': np.float64(9.007707985088604), 'mfcc_6_mean': np.float64(-28.89032963638171), 'mfcc_7_mean': np.float64(-23.10628155751673), 'mfcc_8_mean': np.float64(-14.007349693696453), 'mfcc_9_mean': np.float64(-21.26734207312427), 'mfcc_10_mean': np.float64(-14.248332591638668), 'mfcc_11_mean': np.float64(-12.255815512921481), 'mfcc_12_mean': np.float64(-17.03934906431478), 'mfcc_13_mean': np.float64(-12.927776164220651), 'mfcc_14_mean': np.float64(-11.762332274865624), 'mfcc_15_mean': np.float64(-12.188342339455566), 'mfcc_16_mean': np.float64(-8.104730707721288), 'mfcc_17_mean': np.float64(-8.084048494414624), 'mfcc_18_mean': np.float64(-9.368675369483642), 'mfcc_19_mean': np.float64(-7.310707478798006), 'mfcc_20_mean': np.float64(-7.377539311197557), 'mfcc_21_mean': np.float64(-9.39177473322458), 'mfcc_22_mean': np.float64(-7.382690289013516), 'mfcc_23_mean': np.float64(-4.250905038237602), 'mfcc_24_mean': np.float64(-5.916984346075366), 'mfcc_25_mean': np.float64(-5.756648967334157), 'mfcc_26_mean': np.float64(-1.8974162210720287), 'mfcc_27_mean': np.float64(-1.697816874356688), 'mfcc_28_mean': np.float64(-1.989984895127453), 'mfcc_29_mean': np.float64(-0.32323281692583444), 'mfcc_30_mean': np.float64(-1.3289068481954007)}]\n",
      "Saved features to: ./output/test.csv\n",
      "(20, 33)\n",
      "1\n",
      "label descirption\n",
      "\u001b[1m1/2\u001b[0m \u001b[32m━━━━━━━━━━\u001b[0m\u001b[37m━━━━━━━━━━\u001b[0m \u001b[1m0s\u001b[0m 41ms/step"
     ]
    },
    {
     "name": "stderr",
     "output_type": "stream",
     "text": [
      "\n"
     ]
    },
    {
     "name": "stdout",
     "output_type": "stream",
     "text": [
      "\u001b[1m2/2\u001b[0m \u001b[32m━━━━━━━━━━━━━━━━━━━━\u001b[0m\u001b[37m\u001b[0m \u001b[1m0s\u001b[0m 104ms/step\n",
      "\u001b[1m2/2\u001b[0m \u001b[32m━━━━━━━━━━━━━━━━━━━━\u001b[0m\u001b[37m\u001b[0m \u001b[1m0s\u001b[0m 18ms/step - accuracy: 0.7732 - loss: 0.5662\n",
      "\n",
      "Model loss: 0.5863\n",
      "Model accuracy: 76.92%\n",
      "\n",
      "Classification Report:\n",
      "              precision    recall  f1-score   support\n",
      "\n",
      "           0       0.76      0.80      0.78        20\n",
      "           1       0.78      0.74      0.76        19\n",
      "\n",
      "    accuracy                           0.77        39\n",
      "   macro avg       0.77      0.77      0.77        39\n",
      "weighted avg       0.77      0.77      0.77        39\n",
      "\n"
     ]
    },
    {
     "data": {
      "text/plain": [
       "(array([[0.332302  ],\n",
       "        [0.50089085],\n",
       "        [0.05383806],\n",
       "        [0.31032816],\n",
       "        [0.99067175],\n",
       "        [0.00412501],\n",
       "        [0.09445572],\n",
       "        [0.9770024 ],\n",
       "        [0.42499724],\n",
       "        [0.27636454],\n",
       "        [0.69008094],\n",
       "        [0.11275824],\n",
       "        [0.00336588],\n",
       "        [0.97247374],\n",
       "        [0.00971846],\n",
       "        [0.07636449],\n",
       "        [0.01476568],\n",
       "        [0.45972428],\n",
       "        [0.9333571 ],\n",
       "        [0.897693  ],\n",
       "        [0.17669731],\n",
       "        [0.04740673],\n",
       "        [0.0431531 ],\n",
       "        [0.19700676],\n",
       "        [0.932755  ],\n",
       "        [0.01767727],\n",
       "        [0.94640785],\n",
       "        [0.8987944 ],\n",
       "        [0.23440267],\n",
       "        [0.60758686],\n",
       "        [0.68709075],\n",
       "        [0.9209698 ],\n",
       "        [0.9787512 ],\n",
       "        [0.6004801 ],\n",
       "        [0.8879119 ],\n",
       "        [0.20406663],\n",
       "        [0.6857992 ],\n",
       "        [0.97275263],\n",
       "        [0.0211295 ]], dtype=float32),\n",
       " 0     0\n",
       " 1     0\n",
       " 2     1\n",
       " 3     1\n",
       " 4     1\n",
       " 5     0\n",
       " 6     0\n",
       " 7     1\n",
       " 8     0\n",
       " 9     1\n",
       " 10    0\n",
       " 11    1\n",
       " 12    0\n",
       " 13    1\n",
       " 14    0\n",
       " 15    0\n",
       " 16    0\n",
       " 17    0\n",
       " 18    1\n",
       " 19    1\n",
       " 20    0\n",
       " 21    0\n",
       " 22    0\n",
       " 23    0\n",
       " 24    1\n",
       " 25    0\n",
       " 26    0\n",
       " 27    1\n",
       " 28    0\n",
       " 29    1\n",
       " 30    1\n",
       " 31    1\n",
       " 32    1\n",
       " 33    1\n",
       " 34    1\n",
       " 35    0\n",
       " 36    0\n",
       " 37    1\n",
       " 38    1\n",
       " Name: label, dtype: int64)"
      ]
     },
     "execution_count": 66,
     "metadata": {},
     "output_type": "execute_result"
    }
   ],
   "source": [
    "from sklearn.preprocessing import StandardScaler\n",
    "from tensorflow.keras.preprocessing.sequence import pad_sequences\n",
    "from sklearn.metrics import classification_report\n",
    "import pickle\n",
    "\n",
    "\n",
    "df_test = pd.read_csv('./output/test.csv')\n",
    "labels = df_test['label']\n",
    "print(\"Initial label shape\", labels.describe())\n",
    "def evaluate_model(model, audio_paths, labels):\n",
    "    # Load and prepare test data\n",
    "    features = process_audio_files(audio_paths, n_mfcc=30, labels=labels, output_csv='./output/test.csv',force_new=False, resume=True)\n",
    "    df_test = pd.read_csv('./output/test.csv')\n",
    "    df_test = df_test.sample(frac=1).reset_index(drop=True)\n",
    "    print(\"label descirption\")\n",
    "\n",
    "    # Extract features and labels\n",
    "    labels = df_test['label']\n",
    "    features = df_test.drop(columns=['label', 'sampling_rate', 'file_path'])\n",
    "\n",
    "    # 1. Create sequences (same as training)\n",
    "    sequence_length = 10\n",
    "    overlap = 3\n",
    "    sequences, indices = create_sequences(features, sequence_length, overlap)\n",
    "    labels = labels.iloc[indices].reset_index(drop=True)\n",
    "\n",
    "    # 2. Pad sequences (make sure maxlen matches training)\n",
    "    padded_sequences = pad_sequences(\n",
    "        sequences,\n",
    "        maxlen=2,  # Changed from 2 to match training\n",
    "        padding=\"pre\",\n",
    "        truncating=\"post\"\n",
    "    )\n",
    "\n",
    "    # 3. Load and apply scaler\n",
    "    with open('./output/scaler.pkl', 'rb') as f:\n",
    "        scaler = pickle.load(f)\n",
    "\n",
    "    # Reshape and scale (exactly as in training)\n",
    "    num_samples, seq_len, num_features = padded_sequences.shape\n",
    "    padded_sequences_reshaped = padded_sequences.reshape(num_samples, -1)\n",
    "    padded_sequences_scaled = scaler.transform(padded_sequences_reshaped)\n",
    "    padded_sequences = padded_sequences_scaled.reshape(num_samples, seq_len, num_features)\n",
    "\n",
    "    # 4. Evaluate\n",
    "    y_pred = model.predict(padded_sequences)\n",
    "    y_pred_binary = (y_pred > 0.5).astype(int).flatten()\n",
    "    \n",
    "    # Print metrics\n",
    "    loss, accuracy = model.evaluate(padded_sequences, labels)\n",
    "    print(f\"\\nModel loss: {loss:.4f}\")\n",
    "    print(f\"Model accuracy: {accuracy * 100:.2f}%\")\n",
    "    \n",
    "    # Additional metrics\n",
    "    print(\"\\nClassification Report:\")\n",
    "    print(classification_report(labels, y_pred_binary))\n",
    "\n",
    "    print( labels )\n",
    "    \n",
    "    return y_pred\n",
    "    \n",
    "# Usage\n",
    "\n",
    "# Create a list of audio paths and corresponding labels\n",
    "audio_paths = selected_gt_files + selected_diffwave_files\n",
    "# labels = [1] * len(selected_gt_files) + [0] * len(selected_diffwave_files)\n",
    "\n",
    "\n",
    "\n",
    "evaluate_model(model, audio_paths=audio_paths, labels=labels)"
   ]
  },
  {
   "cell_type": "code",
   "execution_count": 67,
   "metadata": {},
   "outputs": [
    {
     "data": {
      "text/plain": [
       "0      1\n",
       "1      1\n",
       "2      1\n",
       "3      1\n",
       "4      1\n",
       "      ..\n",
       "195    0\n",
       "196    0\n",
       "197    0\n",
       "198    0\n",
       "199    0\n",
       "Name: label, Length: 200, dtype: int64"
      ]
     },
     "execution_count": 67,
     "metadata": {},
     "output_type": "execute_result"
    }
   ],
   "source": [
    "labels"
   ]
  }
 ],
 "metadata": {
  "kernelspec": {
   "display_name": "venv",
   "language": "python",
   "name": "python3"
  },
  "language_info": {
   "codemirror_mode": {
    "name": "ipython",
    "version": 3
   },
   "file_extension": ".py",
   "mimetype": "text/x-python",
   "name": "python",
   "nbconvert_exporter": "python",
   "pygments_lexer": "ipython3",
   "version": "3.10.15"
  }
 },
 "nbformat": 4,
 "nbformat_minor": 2
}
