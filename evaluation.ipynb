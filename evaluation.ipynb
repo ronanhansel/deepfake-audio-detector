{
 "cells": [
  {
   "cell_type": "code",
   "execution_count": 248,
   "metadata": {},
   "outputs": [
    {
     "name": "stderr",
     "output_type": "stream",
     "text": [
      "Processing GT files:   0%|          | 0/100 [00:00<?, ?it/s]/Users/ronan/Developer/deepfake-audio-detector/utils.py:18: FutureWarning: get_duration() keyword argument 'filename' has been renamed to 'path' in version 0.10.0.\n",
      "\tThis alias will be removed in version 1.0.\n",
      "  duration = librosa.get_duration(filename=file_path)\n",
      "Processing GT files: 100%|██████████| 100/100 [00:01<00:00, 53.74it/s]\n",
      "Processing Diffwave files: 100%|██████████| 100/100 [00:01<00:00, 64.25it/s]"
     ]
    },
    {
     "name": "stdout",
     "output_type": "stream",
     "text": [
      "Selected GT files: ['./content/LibriSeVoc/gt/3607_29116_000058_000001.wav', './content/LibriSeVoc/gt/5808_54425_000010_000002.wav', './content/LibriSeVoc/gt/103_1241_000054_000007.wav', './content/LibriSeVoc/gt/412_126975_000019_000000.wav', './content/LibriSeVoc/gt/6209_34599_000023_000005.wav', './content/LibriSeVoc/gt/3112_9555_000017_000012.wav', './content/LibriSeVoc/gt/696_93314_000001_000002.wav', './content/LibriSeVoc/gt/40_121026_000131_000000.wav', './content/LibriSeVoc/gt/8312_279790_000008_000001.wav', './content/LibriSeVoc/gt/696_93314_000010_000000.wav', './content/LibriSeVoc/gt/2836_5354_000007_000000.wav', './content/LibriSeVoc/gt/103_1241_000004_000002.wav', './content/LibriSeVoc/gt/4195_17507_000045_000000.wav', './content/LibriSeVoc/gt/6836_61804_000032_000001.wav', './content/LibriSeVoc/gt/4640_19187_000030_000005.wav', './content/LibriSeVoc/gt/6385_34655_000009_000016.wav', './content/LibriSeVoc/gt/8088_284756_000192_000002.wav', './content/LibriSeVoc/gt/196_122152_000009_000008.wav', './content/LibriSeVoc/gt/78_369_000034_000001.wav', './content/LibriSeVoc/gt/6367_74004_000009_000003.wav', './content/LibriSeVoc/gt/3830_12531_000030_000003.wav', './content/LibriSeVoc/gt/1970_26100_000009_000000.wav', './content/LibriSeVoc/gt/3664_178355_000020_000004.wav', './content/LibriSeVoc/gt/5514_19192_000008_000000.wav', './content/LibriSeVoc/gt/8838_298545_000063_000000.wav', './content/LibriSeVoc/gt/7402_59171_000004_000000.wav', './content/LibriSeVoc/gt/8108_274318_000017_000003.wav', './content/LibriSeVoc/gt/7113_86041_000020_000000.wav', './content/LibriSeVoc/gt/6064_56168_000002_000001.wav', './content/LibriSeVoc/gt/4267_287369_000021_000000.wav', './content/LibriSeVoc/gt/5678_43301_000005_000000.wav', './content/LibriSeVoc/gt/6454_93938_000023_000000.wav', './content/LibriSeVoc/gt/4406_16883_000009_000002.wav', './content/LibriSeVoc/gt/7635_105409_000097_000000.wav', './content/LibriSeVoc/gt/3830_12535_000013_000001.wav', './content/LibriSeVoc/gt/2136_5143_000027_000002.wav', './content/LibriSeVoc/gt/5808_54425_000051_000005.wav', './content/LibriSeVoc/gt/7800_283492_000010_000000.wav', './content/LibriSeVoc/gt/5393_19219_000015_000009.wav', './content/LibriSeVoc/gt/1355_39947_000010_000002.wav', './content/LibriSeVoc/gt/250_142286_000056_000000.wav', './content/LibriSeVoc/gt/4214_7146_000028_000015.wav', './content/LibriSeVoc/gt/6272_70191_000024_000006.wav', './content/LibriSeVoc/gt/6272_70168_000046_000000.wav', './content/LibriSeVoc/gt/5339_14134_000091_000003.wav', './content/LibriSeVoc/gt/4680_16041_000017_000002.wav', './content/LibriSeVoc/gt/4267_287369_000016_000000.wav', './content/LibriSeVoc/gt/8088_284756_000052_000003.wav', './content/LibriSeVoc/gt/200_124140_000018_000000.wav', './content/LibriSeVoc/gt/6367_74004_000033_000000.wav', './content/LibriSeVoc/gt/1502_122619_000013_000000.wav', './content/LibriSeVoc/gt/3240_131231_000031_000001.wav', './content/LibriSeVoc/gt/1743_142912_000006_000001.wav', './content/LibriSeVoc/gt/7178_34645_000019_000000.wav', './content/LibriSeVoc/gt/7367_86737_000131_000004.wav', './content/LibriSeVoc/gt/1624_142933_000023_000003.wav', './content/LibriSeVoc/gt/6454_107462_000005_000000.wav', './content/LibriSeVoc/gt/2518_154825_000019_000001.wav', './content/LibriSeVoc/gt/6000_55211_000032_000000.wav', './content/LibriSeVoc/gt/6147_34607_000019_000004.wav', './content/LibriSeVoc/gt/4137_11702_000035_000000.wav', './content/LibriSeVoc/gt/8088_284756_000160_000000.wav', './content/LibriSeVoc/gt/5456_62043_000015_000003.wav', './content/LibriSeVoc/gt/6209_34599_000008_000004.wav', './content/LibriSeVoc/gt/730_358_000005_000000.wav', './content/LibriSeVoc/gt/5322_7678_000006_000003.wav', './content/LibriSeVoc/gt/8468_294887_000025_000002.wav', './content/LibriSeVoc/gt/7447_91186_000016_000003.wav', './content/LibriSeVoc/gt/7447_91186_000029_000005.wav', './content/LibriSeVoc/gt/2289_152254_000004_000000.wav', './content/LibriSeVoc/gt/696_93314_000027_000000.wav', './content/LibriSeVoc/gt/7067_76047_000008_000000.wav', './content/LibriSeVoc/gt/118_47824_000125_000001.wav', './content/LibriSeVoc/gt/5163_39921_000026_000004.wav', './content/LibriSeVoc/gt/6415_116629_000044_000000.wav', './content/LibriSeVoc/gt/1116_132847_000023_000000.wav', './content/LibriSeVoc/gt/7059_88364_000008_000002.wav', './content/LibriSeVoc/gt/8630_305212_000006_000009.wav', './content/LibriSeVoc/gt/32_4137_000006_000010.wav', './content/LibriSeVoc/gt/3664_178355_000003_000003.wav', './content/LibriSeVoc/gt/1363_139304_000016_000003.wav', './content/LibriSeVoc/gt/8770_295463_000009_000000.wav', './content/LibriSeVoc/gt/730_359_000011_000001.wav', './content/LibriSeVoc/gt/3830_12530_000038_000003.wav', './content/LibriSeVoc/gt/4088_158077_000065_000002.wav', './content/LibriSeVoc/gt/4680_16041_000012_000007.wav', './content/LibriSeVoc/gt/1116_132847_000076_000000.wav', './content/LibriSeVoc/gt/8630_305213_000019_000000.wav', './content/LibriSeVoc/gt/78_369_000028_000000.wav', './content/LibriSeVoc/gt/5339_14133_000003_000002.wav', './content/LibriSeVoc/gt/196_122152_000002_000001.wav', './content/LibriSeVoc/gt/446_123502_000028_000002.wav', './content/LibriSeVoc/gt/7447_91186_000007_000001.wav', './content/LibriSeVoc/gt/2136_5143_000036_000000.wav', './content/LibriSeVoc/gt/200_126784_000031_000001.wav', './content/LibriSeVoc/gt/8123_275209_000036_000000.wav', './content/LibriSeVoc/gt/5104_33407_000016_000000.wav', './content/LibriSeVoc/gt/2196_170151_000003_000000.wav', './content/LibriSeVoc/gt/7859_102519_000008_000002.wav', './content/LibriSeVoc/gt/2691_156755_000027_000001.wav']\n",
      "Selected Diffwave files: ['./content/LibriSeVoc/diffwave/5456_24741_000005_000001_gen.wav', './content/LibriSeVoc/diffwave/4397_15668_000007_000000_gen.wav', './content/LibriSeVoc/diffwave/196_122152_000006_000004_gen.wav', './content/LibriSeVoc/diffwave/5322_7679_000032_000000_gen.wav', './content/LibriSeVoc/diffwave/7078_271888_000104_000001_gen.wav', './content/LibriSeVoc/diffwave/250_142276_000008_000000_gen.wav', './content/LibriSeVoc/diffwave/4051_11217_000029_000005_gen.wav', './content/LibriSeVoc/diffwave/1355_39947_000014_000002_gen.wav', './content/LibriSeVoc/diffwave/887_123291_000011_000000_gen.wav', './content/LibriSeVoc/diffwave/1069_133699_000067_000000_gen.wav', './content/LibriSeVoc/diffwave/8838_298546_000024_000000_gen.wav', './content/LibriSeVoc/diffwave/7800_283493_000049_000000_gen.wav', './content/LibriSeVoc/diffwave/2893_139310_000031_000000_gen.wav', './content/LibriSeVoc/diffwave/1098_133695_000050_000000_gen.wav', './content/LibriSeVoc/diffwave/374_180299_000038_000002_gen.wav', './content/LibriSeVoc/diffwave/426_122822_000042_000005_gen.wav', './content/LibriSeVoc/diffwave/8123_275216_000032_000001_gen.wav', './content/LibriSeVoc/diffwave/1578_140045_000046_000006_gen.wav', './content/LibriSeVoc/diffwave/8312_279791_000004_000000_gen.wav', './content/LibriSeVoc/diffwave/374_180299_000045_000001_gen.wav', './content/LibriSeVoc/diffwave/8609_262281_000014_000000_gen.wav', './content/LibriSeVoc/diffwave/8014_112602_000002_000002_gen.wav', './content/LibriSeVoc/diffwave/2843_152918_000026_000001_gen.wav', './content/LibriSeVoc/diffwave/7447_91186_000027_000009_gen.wav', './content/LibriSeVoc/diffwave/2092_145706_000044_000001_gen.wav', './content/LibriSeVoc/diffwave/87_121553_000245_000000_gen.wav', './content/LibriSeVoc/diffwave/1447_17506_000016_000001_gen.wav', './content/LibriSeVoc/diffwave/8468_286673_000024_000001_gen.wav', './content/LibriSeVoc/diffwave/5561_41616_000007_000001_gen.wav', './content/LibriSeVoc/diffwave/5163_39921_000027_000002_gen.wav', './content/LibriSeVoc/diffwave/3982_178459_000028_000002_gen.wav', './content/LibriSeVoc/diffwave/1553_140048_000002_000003_gen.wav', './content/LibriSeVoc/diffwave/460_172359_000082_000000_gen.wav', './content/LibriSeVoc/diffwave/1088_129236_000008_000000_gen.wav', './content/LibriSeVoc/diffwave/6064_56168_000002_000002_gen.wav', './content/LibriSeVoc/diffwave/2836_5355_000085_000002_gen.wav', './content/LibriSeVoc/diffwave/40_121026_000190_000003_gen.wav', './content/LibriSeVoc/diffwave/7447_91187_000018_000001_gen.wav', './content/LibriSeVoc/diffwave/4788_91208_000012_000003_gen.wav', './content/LibriSeVoc/diffwave/8609_283227_000033_000000_gen.wav', './content/LibriSeVoc/diffwave/2136_5143_000069_000000_gen.wav', './content/LibriSeVoc/diffwave/3830_12531_000018_000005_gen.wav', './content/LibriSeVoc/diffwave/4406_16882_000025_000003_gen.wav', './content/LibriSeVoc/diffwave/8747_293952_000005_000000_gen.wav', './content/LibriSeVoc/diffwave/1334_135589_000026_000000_gen.wav', './content/LibriSeVoc/diffwave/118_47824_000083_000010_gen.wav', './content/LibriSeVoc/diffwave/6147_34607_000003_000015_gen.wav', './content/LibriSeVoc/diffwave/27_123349_000010_000005_gen.wav', './content/LibriSeVoc/diffwave/1183_124566_000011_000001_gen.wav', './content/LibriSeVoc/diffwave/4788_94904_000007_000003_gen.wav', './content/LibriSeVoc/diffwave/6064_300880_000045_000006_gen.wav', './content/LibriSeVoc/diffwave/1447_130550_000085_000000_gen.wav', './content/LibriSeVoc/diffwave/4481_17498_000017_000000_gen.wav', './content/LibriSeVoc/diffwave/2182_181173_000014_000002_gen.wav', './content/LibriSeVoc/diffwave/200_126784_000053_000000_gen.wav', './content/LibriSeVoc/diffwave/6529_62554_000016_000000_gen.wav', './content/LibriSeVoc/diffwave/6476_57446_000017_000001_gen.wav', './content/LibriSeVoc/diffwave/1355_39947_000004_000000_gen.wav', './content/LibriSeVoc/diffwave/5322_7679_000027_000000_gen.wav', './content/LibriSeVoc/diffwave/8630_305213_000014_000002_gen.wav', './content/LibriSeVoc/diffwave/4051_11217_000015_000000_gen.wav', './content/LibriSeVoc/diffwave/1334_135589_000052_000002_gen.wav', './content/LibriSeVoc/diffwave/2514_149482_000015_000000_gen.wav', './content/LibriSeVoc/diffwave/2182_181183_000015_000000_gen.wav', './content/LibriSeVoc/diffwave/6078_54007_000034_000001_gen.wav', './content/LibriSeVoc/diffwave/7078_271888_000118_000000_gen.wav', './content/LibriSeVoc/diffwave/1098_133695_000014_000004_gen.wav', './content/LibriSeVoc/diffwave/446_123501_000004_000002_gen.wav', './content/LibriSeVoc/diffwave/4267_78186_000005_000002_gen.wav', './content/LibriSeVoc/diffwave/87_121553_000018_000000_gen.wav', './content/LibriSeVoc/diffwave/78_369_000030_000007_gen.wav', './content/LibriSeVoc/diffwave/3879_174923_000005_000001_gen.wav', './content/LibriSeVoc/diffwave/8088_284756_000126_000001_gen.wav', './content/LibriSeVoc/diffwave/7511_102420_000007_000003_gen.wav', './content/LibriSeVoc/diffwave/40_121026_000238_000002_gen.wav', './content/LibriSeVoc/diffwave/5808_54425_000026_000000_gen.wav', './content/LibriSeVoc/diffwave/2002_139469_000010_000001_gen.wav', './content/LibriSeVoc/diffwave/7859_102519_000022_000000_gen.wav', './content/LibriSeVoc/diffwave/4788_91208_000007_000003_gen.wav', './content/LibriSeVoc/diffwave/6836_61804_000006_000001_gen.wav', './content/LibriSeVoc/diffwave/4406_16882_000018_000028_gen.wav', './content/LibriSeVoc/diffwave/1088_129236_000018_000002_gen.wav', './content/LibriSeVoc/diffwave/6529_62554_000067_000000_gen.wav', './content/LibriSeVoc/diffwave/8088_284756_000058_000002_gen.wav', './content/LibriSeVoc/diffwave/250_142286_000015_000003_gen.wav', './content/LibriSeVoc/diffwave/7367_86737_000084_000000_gen.wav', './content/LibriSeVoc/diffwave/8123_275209_000008_000002_gen.wav', './content/LibriSeVoc/diffwave/40_222_000011_000005_gen.wav', './content/LibriSeVoc/diffwave/3440_171009_000032_000000_gen.wav', './content/LibriSeVoc/diffwave/7067_76048_000062_000001_gen.wav', './content/LibriSeVoc/diffwave/1183_128659_000035_000000_gen.wav', './content/LibriSeVoc/diffwave/8108_274318_000016_000005_gen.wav', './content/LibriSeVoc/diffwave/2289_152254_000020_000000_gen.wav', './content/LibriSeVoc/diffwave/6437_66173_000012_000000_gen.wav', './content/LibriSeVoc/diffwave/87_121553_000083_000000_gen.wav', './content/LibriSeVoc/diffwave/8108_280359_000008_000001_gen.wav', './content/LibriSeVoc/diffwave/887_123290_000020_000000_gen.wav', './content/LibriSeVoc/diffwave/8098_278252_000006_000000_gen.wav', './content/LibriSeVoc/diffwave/7517_100437_000009_000003_gen.wav', './content/LibriSeVoc/diffwave/2007_149877_000018_000001_gen.wav']\n"
     ]
    },
    {
     "name": "stderr",
     "output_type": "stream",
     "text": [
      "\n"
     ]
    }
   ],
   "source": [
    "import tensorflow as tf\n",
    "from tensorflow.keras.models import load_model\n",
    "import numpy as np\n",
    "from utils import process_audio_files, create_sequences, get_audio_duration\n",
    "import os\n",
    "import random\n",
    "import pandas as pd\n",
    "from tqdm import tqdm\n",
    "\n",
    "# Load the dataframe\n",
    "df = pd.read_csv('output/data/merged_df.csv')\n",
    "\n",
    "# Get the list of file paths from the dataframe\n",
    "file_paths = df['file_path'].tolist()\n",
    "\n",
    "# Directories containing the files\n",
    "gt_dir = './content/LibriSeVoc/gt'\n",
    "diffwave_dir = './content/LibriSeVoc/diffwave'\n",
    "\n",
    "# Initialize lists to store the selected files\n",
    "gt_files = []\n",
    "diffwave_files = []\n",
    "\n",
    "pbar = tqdm(total=100)\n",
    "pbar.set_description(\"Processing GT files\")\n",
    "\n",
    "# Get list of files in each directory and filter based on criteria\n",
    "for f in reversed(os.listdir(gt_dir)):\n",
    "    file_path = os.path.join(gt_dir, f)\n",
    "    if file_path not in file_paths and get_audio_duration(file_path) <= 10:\n",
    "        gt_files.append(file_path)\n",
    "        pbar.update(1)\n",
    "        if len(gt_files) == 100:\n",
    "            break\n",
    "\n",
    "pbar.close()\n",
    "pbar = tqdm(total=100)\n",
    "pbar.set_description(\"Processing Diffwave files\")\n",
    "\n",
    "for f in os.listdir(diffwave_dir):\n",
    "    file_path = os.path.join(diffwave_dir, f)\n",
    "    if file_path not in file_paths and get_audio_duration(file_path) <= 10:\n",
    "        diffwave_files.append(file_path)\n",
    "        pbar.update(1)\n",
    "        if len(diffwave_files) == 100:\n",
    "            break\n",
    "pbar.close()\n",
    "\n",
    "# Randomly select 10 files from each directory\n",
    "selected_gt_files = random.sample(gt_files, 100)\n",
    "selected_diffwave_files = random.sample(diffwave_files, 100)\n",
    "\n",
    "print(\"Selected GT files:\", selected_gt_files)\n",
    "print(\"Selected Diffwave files:\", selected_diffwave_files)"
   ]
  },
  {
   "cell_type": "code",
   "execution_count": 249,
   "metadata": {},
   "outputs": [
    {
     "data": {
      "text/html": [
       "<pre style=\"white-space:pre;overflow-x:auto;line-height:normal;font-family:Menlo,'DejaVu Sans Mono',consolas,'Courier New',monospace\"><span style=\"font-weight: bold\">Model: \"sequential_3\"</span>\n",
       "</pre>\n"
      ],
      "text/plain": [
       "\u001b[1mModel: \"sequential_3\"\u001b[0m\n"
      ]
     },
     "metadata": {},
     "output_type": "display_data"
    },
    {
     "data": {
      "text/html": [
       "<pre style=\"white-space:pre;overflow-x:auto;line-height:normal;font-family:Menlo,'DejaVu Sans Mono',consolas,'Courier New',monospace\">┏━━━━━━━━━━━━━━━━━━━━━━━━━━━━━━━━━┳━━━━━━━━━━━━━━━━━━━━━━━━┳━━━━━━━━━━━━━━━┓\n",
       "┃<span style=\"font-weight: bold\"> Layer (type)                    </span>┃<span style=\"font-weight: bold\"> Output Shape           </span>┃<span style=\"font-weight: bold\">       Param # </span>┃\n",
       "┡━━━━━━━━━━━━━━━━━━━━━━━━━━━━━━━━━╇━━━━━━━━━━━━━━━━━━━━━━━━╇━━━━━━━━━━━━━━━┩\n",
       "│ lstm_9 (<span style=\"color: #0087ff; text-decoration-color: #0087ff\">LSTM</span>)                   │ (<span style=\"color: #00d7ff; text-decoration-color: #00d7ff\">None</span>, <span style=\"color: #00af00; text-decoration-color: #00af00\">2</span>, <span style=\"color: #00af00; text-decoration-color: #00af00\">64</span>)          │        <span style=\"color: #00af00; text-decoration-color: #00af00\">24,320</span> │\n",
       "├─────────────────────────────────┼────────────────────────┼───────────────┤\n",
       "│ dropout_6 (<span style=\"color: #0087ff; text-decoration-color: #0087ff\">Dropout</span>)             │ (<span style=\"color: #00d7ff; text-decoration-color: #00d7ff\">None</span>, <span style=\"color: #00af00; text-decoration-color: #00af00\">2</span>, <span style=\"color: #00af00; text-decoration-color: #00af00\">64</span>)          │             <span style=\"color: #00af00; text-decoration-color: #00af00\">0</span> │\n",
       "├─────────────────────────────────┼────────────────────────┼───────────────┤\n",
       "│ lstm_10 (<span style=\"color: #0087ff; text-decoration-color: #0087ff\">LSTM</span>)                  │ (<span style=\"color: #00d7ff; text-decoration-color: #00d7ff\">None</span>, <span style=\"color: #00af00; text-decoration-color: #00af00\">2</span>, <span style=\"color: #00af00; text-decoration-color: #00af00\">64</span>)          │        <span style=\"color: #00af00; text-decoration-color: #00af00\">33,024</span> │\n",
       "├─────────────────────────────────┼────────────────────────┼───────────────┤\n",
       "│ dropout_7 (<span style=\"color: #0087ff; text-decoration-color: #0087ff\">Dropout</span>)             │ (<span style=\"color: #00d7ff; text-decoration-color: #00d7ff\">None</span>, <span style=\"color: #00af00; text-decoration-color: #00af00\">2</span>, <span style=\"color: #00af00; text-decoration-color: #00af00\">64</span>)          │             <span style=\"color: #00af00; text-decoration-color: #00af00\">0</span> │\n",
       "├─────────────────────────────────┼────────────────────────┼───────────────┤\n",
       "│ lstm_11 (<span style=\"color: #0087ff; text-decoration-color: #0087ff\">LSTM</span>)                  │ (<span style=\"color: #00d7ff; text-decoration-color: #00d7ff\">None</span>, <span style=\"color: #00af00; text-decoration-color: #00af00\">64</span>)             │        <span style=\"color: #00af00; text-decoration-color: #00af00\">33,024</span> │\n",
       "├─────────────────────────────────┼────────────────────────┼───────────────┤\n",
       "│ dense_6 (<span style=\"color: #0087ff; text-decoration-color: #0087ff\">Dense</span>)                 │ (<span style=\"color: #00d7ff; text-decoration-color: #00d7ff\">None</span>, <span style=\"color: #00af00; text-decoration-color: #00af00\">32</span>)             │         <span style=\"color: #00af00; text-decoration-color: #00af00\">2,080</span> │\n",
       "├─────────────────────────────────┼────────────────────────┼───────────────┤\n",
       "│ dense_7 (<span style=\"color: #0087ff; text-decoration-color: #0087ff\">Dense</span>)                 │ (<span style=\"color: #00d7ff; text-decoration-color: #00d7ff\">None</span>, <span style=\"color: #00af00; text-decoration-color: #00af00\">1</span>)              │            <span style=\"color: #00af00; text-decoration-color: #00af00\">33</span> │\n",
       "└─────────────────────────────────┴────────────────────────┴───────────────┘\n",
       "</pre>\n"
      ],
      "text/plain": [
       "┏━━━━━━━━━━━━━━━━━━━━━━━━━━━━━━━━━┳━━━━━━━━━━━━━━━━━━━━━━━━┳━━━━━━━━━━━━━━━┓\n",
       "┃\u001b[1m \u001b[0m\u001b[1mLayer (type)                   \u001b[0m\u001b[1m \u001b[0m┃\u001b[1m \u001b[0m\u001b[1mOutput Shape          \u001b[0m\u001b[1m \u001b[0m┃\u001b[1m \u001b[0m\u001b[1m      Param #\u001b[0m\u001b[1m \u001b[0m┃\n",
       "┡━━━━━━━━━━━━━━━━━━━━━━━━━━━━━━━━━╇━━━━━━━━━━━━━━━━━━━━━━━━╇━━━━━━━━━━━━━━━┩\n",
       "│ lstm_9 (\u001b[38;5;33mLSTM\u001b[0m)                   │ (\u001b[38;5;45mNone\u001b[0m, \u001b[38;5;34m2\u001b[0m, \u001b[38;5;34m64\u001b[0m)          │        \u001b[38;5;34m24,320\u001b[0m │\n",
       "├─────────────────────────────────┼────────────────────────┼───────────────┤\n",
       "│ dropout_6 (\u001b[38;5;33mDropout\u001b[0m)             │ (\u001b[38;5;45mNone\u001b[0m, \u001b[38;5;34m2\u001b[0m, \u001b[38;5;34m64\u001b[0m)          │             \u001b[38;5;34m0\u001b[0m │\n",
       "├─────────────────────────────────┼────────────────────────┼───────────────┤\n",
       "│ lstm_10 (\u001b[38;5;33mLSTM\u001b[0m)                  │ (\u001b[38;5;45mNone\u001b[0m, \u001b[38;5;34m2\u001b[0m, \u001b[38;5;34m64\u001b[0m)          │        \u001b[38;5;34m33,024\u001b[0m │\n",
       "├─────────────────────────────────┼────────────────────────┼───────────────┤\n",
       "│ dropout_7 (\u001b[38;5;33mDropout\u001b[0m)             │ (\u001b[38;5;45mNone\u001b[0m, \u001b[38;5;34m2\u001b[0m, \u001b[38;5;34m64\u001b[0m)          │             \u001b[38;5;34m0\u001b[0m │\n",
       "├─────────────────────────────────┼────────────────────────┼───────────────┤\n",
       "│ lstm_11 (\u001b[38;5;33mLSTM\u001b[0m)                  │ (\u001b[38;5;45mNone\u001b[0m, \u001b[38;5;34m64\u001b[0m)             │        \u001b[38;5;34m33,024\u001b[0m │\n",
       "├─────────────────────────────────┼────────────────────────┼───────────────┤\n",
       "│ dense_6 (\u001b[38;5;33mDense\u001b[0m)                 │ (\u001b[38;5;45mNone\u001b[0m, \u001b[38;5;34m32\u001b[0m)             │         \u001b[38;5;34m2,080\u001b[0m │\n",
       "├─────────────────────────────────┼────────────────────────┼───────────────┤\n",
       "│ dense_7 (\u001b[38;5;33mDense\u001b[0m)                 │ (\u001b[38;5;45mNone\u001b[0m, \u001b[38;5;34m1\u001b[0m)              │            \u001b[38;5;34m33\u001b[0m │\n",
       "└─────────────────────────────────┴────────────────────────┴───────────────┘\n"
      ]
     },
     "metadata": {},
     "output_type": "display_data"
    },
    {
     "data": {
      "text/html": [
       "<pre style=\"white-space:pre;overflow-x:auto;line-height:normal;font-family:Menlo,'DejaVu Sans Mono',consolas,'Courier New',monospace\"><span style=\"font-weight: bold\"> Total params: </span><span style=\"color: #00af00; text-decoration-color: #00af00\">277,445</span> (1.06 MB)\n",
       "</pre>\n"
      ],
      "text/plain": [
       "\u001b[1m Total params: \u001b[0m\u001b[38;5;34m277,445\u001b[0m (1.06 MB)\n"
      ]
     },
     "metadata": {},
     "output_type": "display_data"
    },
    {
     "data": {
      "text/html": [
       "<pre style=\"white-space:pre;overflow-x:auto;line-height:normal;font-family:Menlo,'DejaVu Sans Mono',consolas,'Courier New',monospace\"><span style=\"font-weight: bold\"> Trainable params: </span><span style=\"color: #00af00; text-decoration-color: #00af00\">92,481</span> (361.25 KB)\n",
       "</pre>\n"
      ],
      "text/plain": [
       "\u001b[1m Trainable params: \u001b[0m\u001b[38;5;34m92,481\u001b[0m (361.25 KB)\n"
      ]
     },
     "metadata": {},
     "output_type": "display_data"
    },
    {
     "data": {
      "text/html": [
       "<pre style=\"white-space:pre;overflow-x:auto;line-height:normal;font-family:Menlo,'DejaVu Sans Mono',consolas,'Courier New',monospace\"><span style=\"font-weight: bold\"> Non-trainable params: </span><span style=\"color: #00af00; text-decoration-color: #00af00\">0</span> (0.00 B)\n",
       "</pre>\n"
      ],
      "text/plain": [
       "\u001b[1m Non-trainable params: \u001b[0m\u001b[38;5;34m0\u001b[0m (0.00 B)\n"
      ]
     },
     "metadata": {},
     "output_type": "display_data"
    },
    {
     "data": {
      "text/html": [
       "<pre style=\"white-space:pre;overflow-x:auto;line-height:normal;font-family:Menlo,'DejaVu Sans Mono',consolas,'Courier New',monospace\"><span style=\"font-weight: bold\"> Optimizer params: </span><span style=\"color: #00af00; text-decoration-color: #00af00\">184,964</span> (722.52 KB)\n",
       "</pre>\n"
      ],
      "text/plain": [
       "\u001b[1m Optimizer params: \u001b[0m\u001b[38;5;34m184,964\u001b[0m (722.52 KB)\n"
      ]
     },
     "metadata": {},
     "output_type": "display_data"
    }
   ],
   "source": [
    "# Load the model\n",
    "model = load_model('best_model.keras')\n",
    "model.summary()"
   ]
  },
  {
   "cell_type": "code",
   "execution_count": 250,
   "metadata": {},
   "outputs": [],
   "source": [
    "# Create a DataFrame from selected_gt_files and selected_diffwave_files\n",
    "selected_files_df = pd.DataFrame({\n",
    "    'file_path': selected_gt_files + selected_diffwave_files,\n",
    "    'label': [1] * len(selected_gt_files) + [0] * len(selected_diffwave_files)\n",
    "})\n",
    "\n",
    "selected_files_df.to_csv('output/data/selected_files.csv', index=False)"
   ]
  },
  {
   "cell_type": "code",
   "execution_count": 251,
   "metadata": {},
   "outputs": [
    {
     "name": "stderr",
     "output_type": "stream",
     "text": [
      "Processing audio files:  52%|█████▏    | 52/100 [00:04<00:03, 14.05it/s]"
     ]
    },
    {
     "name": "stdout",
     "output_type": "stream",
     "text": [
      "Snapshot 50/100 files.\n"
     ]
    },
    {
     "name": "stderr",
     "output_type": "stream",
     "text": [
      "Processing audio files: 100%|██████████| 100/100 [00:08<00:00, 11.33it/s]\n"
     ]
    },
    {
     "name": "stdout",
     "output_type": "stream",
     "text": [
      "Snapshot 100/100 files.\n",
      "Saved features to: ./output/test.csv\n",
      "Test data: (100, 30) (100,)\n",
      "\u001b[1m1/1\u001b[0m \u001b[32m━━━━━━━━━━━━━━━━━━━━\u001b[0m\u001b[37m\u001b[0m \u001b[1m0s\u001b[0m 375ms/step\n",
      "\u001b[1m1/1\u001b[0m \u001b[32m━━━━━━━━━━━━━━━━━━━━\u001b[0m\u001b[37m\u001b[0m \u001b[1m0s\u001b[0m 472ms/step - accuracy: 0.7895 - loss: 0.5594\n",
      "\n",
      "Model loss: 0.5594\n",
      "Model accuracy: 78.95%\n",
      "\n",
      "Classification Report:\n",
      "              precision    recall  f1-score   support\n",
      "\n",
      "           0       0.70      0.88      0.78         8\n",
      "           1       0.89      0.73      0.80        11\n",
      "\n",
      "    accuracy                           0.79        19\n",
      "   macro avg       0.79      0.80      0.79        19\n",
      "weighted avg       0.81      0.79      0.79        19\n",
      "\n"
     ]
    },
    {
     "data": {
      "text/plain": [
       "(array([[0.05172732],\n",
       "        [0.5422462 ],\n",
       "        [0.99484247],\n",
       "        [0.9944036 ],\n",
       "        [0.71917415],\n",
       "        [0.28512922],\n",
       "        [0.02993593],\n",
       "        [0.19751585],\n",
       "        [0.4308832 ],\n",
       "        [0.261572  ],\n",
       "        [0.925119  ],\n",
       "        [0.06707811],\n",
       "        [0.95577896],\n",
       "        [0.9971854 ],\n",
       "        [0.9754743 ],\n",
       "        [0.7302974 ],\n",
       "        [0.05968777],\n",
       "        [0.01103018],\n",
       "        [0.04208803]], dtype=float32),\n",
       " 0     0\n",
       " 5     1\n",
       " 10    1\n",
       " 15    1\n",
       " 20    0\n",
       " 25    0\n",
       " 30    1\n",
       " 35    0\n",
       " 40    1\n",
       " 45    0\n",
       " 50    1\n",
       " 55    1\n",
       " 60    1\n",
       " 65    1\n",
       " 70    1\n",
       " 75    1\n",
       " 80    0\n",
       " 85    0\n",
       " 90    0\n",
       " Name: label, dtype: int64)"
      ]
     },
     "execution_count": 251,
     "metadata": {},
     "output_type": "execute_result"
    }
   ],
   "source": [
    "from sklearn.preprocessing import StandardScaler\n",
    "from tensorflow.keras.preprocessing.sequence import pad_sequences\n",
    "from sklearn.metrics import classification_report\n",
    "import pickle\n",
    "\n",
    "def evaluate_model(model, audio_paths, labels):\n",
    "    # Load and prepare test data\n",
    "    features = process_audio_files(audio_paths, n_mfcc=30, labels=labels, output_csv='./output/test.csv', resume=False)\n",
    "    df_test = pd.read_csv('./output/test.csv')\n",
    "\n",
    "    # Extract features and labels\n",
    "    features = df_test.drop(columns=['label', 'sampling_rate', 'file_path'])\n",
    "    labels = df_test['label']\n",
    "    print('Test data:', features.shape, labels.shape)\n",
    "\n",
    "    # 1. Create sequences (same as training)\n",
    "    sequence_length = 10\n",
    "    overlap = 5\n",
    "    sequences, indices = create_sequences(features, sequence_length, overlap)\n",
    "    labels = labels[indices]\n",
    "\n",
    "    # 2. Pad sequences (make sure maxlen matches training)\n",
    "    padded_sequences = pad_sequences(\n",
    "        sequences, \n",
    "        maxlen=2,  # Changed from 2 to match training\n",
    "        padding=\"pre\", \n",
    "        truncating=\"post\"\n",
    "    )\n",
    "\n",
    "    # 3. Load and apply scaler\n",
    "    with open('./output/scaler.pkl', 'rb') as f:\n",
    "        scaler = pickle.load(f)\n",
    "\n",
    "    # Reshape and scale (exactly as in training)\n",
    "    num_samples, seq_len, num_features = padded_sequences.shape\n",
    "    padded_sequences_reshaped = padded_sequences.reshape(num_samples, -1)\n",
    "    padded_sequences_scaled = scaler.transform(padded_sequences_reshaped)\n",
    "    padded_sequences = padded_sequences_scaled.reshape(num_samples, seq_len, num_features)\n",
    "\n",
    "    # 4. Evaluate\n",
    "    y_pred = model.predict(padded_sequences)\n",
    "    y_pred_binary = (y_pred > 0.5).astype(int)\n",
    "    \n",
    "    # Print metrics\n",
    "    loss, accuracy = model.evaluate(padded_sequences, labels)\n",
    "    print(f\"\\nModel loss: {loss:.4f}\")\n",
    "    print(f\"Model accuracy: {accuracy * 100:.2f}%\")\n",
    "    \n",
    "    # Additional metrics\n",
    "    print(\"\\nClassification Report:\")\n",
    "    print(classification_report(labels, y_pred_binary))\n",
    "    \n",
    "    return y_pred, labels\n",
    "# Usage\n",
    "\n",
    "# Create a list of audio paths and corresponding labels\n",
    "audio_paths = selected_gt_files + selected_diffwave_files\n",
    "labels = [1] * len(selected_gt_files) + [0] * len(selected_diffwave_files)\n",
    "\n",
    "evaluate_model(model, audio_paths=audio_paths, labels=labels)"
   ]
  }
 ],
 "metadata": {
  "kernelspec": {
   "display_name": "venv",
   "language": "python",
   "name": "python3"
  },
  "language_info": {
   "codemirror_mode": {
    "name": "ipython",
    "version": 3
   },
   "file_extension": ".py",
   "mimetype": "text/x-python",
   "name": "python",
   "nbconvert_exporter": "python",
   "pygments_lexer": "ipython3",
   "version": "3.10.15"
  }
 },
 "nbformat": 4,
 "nbformat_minor": 2
}
