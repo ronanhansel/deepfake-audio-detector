{
 "cells": [
  {
   "cell_type": "code",
   "execution_count": 318,
   "metadata": {},
   "outputs": [],
   "source": [
    "import pandas as pd\n",
    "import numpy as np"
   ]
  },
  {
   "cell_type": "code",
   "execution_count": 319,
   "metadata": {},
   "outputs": [],
   "source": [
    "df = pd.read_csv('./output/data/features.csv')"
   ]
  },
  {
   "cell_type": "code",
   "execution_count": 320,
   "metadata": {},
   "outputs": [
    {
     "data": {
      "text/plain": [
       "Index(['file_path', 'sampling_rate', 'label', 'mfcc_1_mean', 'mfcc_2_mean',\n",
       "       'mfcc_3_mean', 'mfcc_4_mean', 'mfcc_5_mean', 'mfcc_6_mean',\n",
       "       'mfcc_7_mean', 'mfcc_8_mean', 'mfcc_9_mean', 'mfcc_10_mean',\n",
       "       'mfcc_11_mean', 'mfcc_12_mean', 'mfcc_13_mean', 'chroma_1_mean',\n",
       "       'chroma_2_mean', 'chroma_3_mean', 'zcr_mean',\n",
       "       'spectral_contrast_1_mean', 'spectral_contrast_2_mean',\n",
       "       'spectral_contrast_3_mean', 'spectral_contrast_4_mean',\n",
       "       'spectral_contrast_5_mean', 'spectral_contrast_6_mean',\n",
       "       'spectral_centroid_mean', 'spectral_bandwidth_mean',\n",
       "       'spectral_rolloff_mean', 'lpc_1_mean', 'lpc_2_mean', 'lpc_3_mean',\n",
       "       'lpc_4_mean', 'lpc_5_mean', 'lpc_6_mean', 'lpc_7_mean', 'lpc_8_mean',\n",
       "       'lpc_9_mean', 'lpc_10_mean', 'lpc_11_mean', 'lpc_12_mean'],\n",
       "      dtype='object')"
      ]
     },
     "execution_count": 320,
     "metadata": {},
     "output_type": "execute_result"
    }
   ],
   "source": [
    "df.columns"
   ]
  },
  {
   "cell_type": "code",
   "execution_count": 321,
   "metadata": {},
   "outputs": [
    {
     "data": {
      "text/html": [
       "<div>\n",
       "<style scoped>\n",
       "    .dataframe tbody tr th:only-of-type {\n",
       "        vertical-align: middle;\n",
       "    }\n",
       "\n",
       "    .dataframe tbody tr th {\n",
       "        vertical-align: top;\n",
       "    }\n",
       "\n",
       "    .dataframe thead th {\n",
       "        text-align: right;\n",
       "    }\n",
       "</style>\n",
       "<table border=\"1\" class=\"dataframe\">\n",
       "  <thead>\n",
       "    <tr style=\"text-align: right;\">\n",
       "      <th></th>\n",
       "      <th>label</th>\n",
       "      <th>mfcc_1_mean</th>\n",
       "      <th>mfcc_2_mean</th>\n",
       "      <th>mfcc_3_mean</th>\n",
       "      <th>mfcc_4_mean</th>\n",
       "      <th>mfcc_5_mean</th>\n",
       "      <th>mfcc_6_mean</th>\n",
       "      <th>mfcc_7_mean</th>\n",
       "      <th>mfcc_8_mean</th>\n",
       "      <th>mfcc_9_mean</th>\n",
       "      <th>...</th>\n",
       "      <th>lpc_3_mean</th>\n",
       "      <th>lpc_4_mean</th>\n",
       "      <th>lpc_5_mean</th>\n",
       "      <th>lpc_6_mean</th>\n",
       "      <th>lpc_7_mean</th>\n",
       "      <th>lpc_8_mean</th>\n",
       "      <th>lpc_9_mean</th>\n",
       "      <th>lpc_10_mean</th>\n",
       "      <th>lpc_11_mean</th>\n",
       "      <th>lpc_12_mean</th>\n",
       "    </tr>\n",
       "  </thead>\n",
       "  <tbody>\n",
       "    <tr>\n",
       "      <th>0</th>\n",
       "      <td>0</td>\n",
       "      <td>-392.408060</td>\n",
       "      <td>122.706493</td>\n",
       "      <td>4.529471</td>\n",
       "      <td>-1.131724</td>\n",
       "      <td>10.133050</td>\n",
       "      <td>-7.359573</td>\n",
       "      <td>-12.236763</td>\n",
       "      <td>-11.748826</td>\n",
       "      <td>-14.925097</td>\n",
       "      <td>...</td>\n",
       "      <td>0.206947</td>\n",
       "      <td>0.242434</td>\n",
       "      <td>0.083058</td>\n",
       "      <td>-0.000745</td>\n",
       "      <td>0.017267</td>\n",
       "      <td>0.048853</td>\n",
       "      <td>0.049655</td>\n",
       "      <td>0.011606</td>\n",
       "      <td>-0.013775</td>\n",
       "      <td>0.056669</td>\n",
       "    </tr>\n",
       "    <tr>\n",
       "      <th>1</th>\n",
       "      <td>1</td>\n",
       "      <td>-288.633987</td>\n",
       "      <td>150.553761</td>\n",
       "      <td>-51.823300</td>\n",
       "      <td>9.575870</td>\n",
       "      <td>16.140331</td>\n",
       "      <td>-25.634484</td>\n",
       "      <td>-9.063233</td>\n",
       "      <td>-13.583262</td>\n",
       "      <td>-33.734496</td>\n",
       "      <td>...</td>\n",
       "      <td>0.942317</td>\n",
       "      <td>0.165730</td>\n",
       "      <td>-0.168018</td>\n",
       "      <td>-0.083517</td>\n",
       "      <td>0.020074</td>\n",
       "      <td>0.079114</td>\n",
       "      <td>0.045597</td>\n",
       "      <td>-0.013818</td>\n",
       "      <td>-0.022306</td>\n",
       "      <td>0.027391</td>\n",
       "    </tr>\n",
       "    <tr>\n",
       "      <th>2</th>\n",
       "      <td>1</td>\n",
       "      <td>-321.349296</td>\n",
       "      <td>128.728553</td>\n",
       "      <td>-45.678164</td>\n",
       "      <td>16.015681</td>\n",
       "      <td>2.248679</td>\n",
       "      <td>-36.931314</td>\n",
       "      <td>-16.453398</td>\n",
       "      <td>-21.782121</td>\n",
       "      <td>-28.765838</td>\n",
       "      <td>...</td>\n",
       "      <td>0.791051</td>\n",
       "      <td>0.180148</td>\n",
       "      <td>-0.195515</td>\n",
       "      <td>-0.059862</td>\n",
       "      <td>0.091892</td>\n",
       "      <td>0.056669</td>\n",
       "      <td>-0.024036</td>\n",
       "      <td>-0.031334</td>\n",
       "      <td>0.023492</td>\n",
       "      <td>0.031977</td>\n",
       "    </tr>\n",
       "    <tr>\n",
       "      <th>3</th>\n",
       "      <td>1</td>\n",
       "      <td>-300.014392</td>\n",
       "      <td>139.610539</td>\n",
       "      <td>-58.775005</td>\n",
       "      <td>-17.863993</td>\n",
       "      <td>-27.983239</td>\n",
       "      <td>-31.165856</td>\n",
       "      <td>-15.891464</td>\n",
       "      <td>-29.907360</td>\n",
       "      <td>-18.892911</td>\n",
       "      <td>...</td>\n",
       "      <td>0.625773</td>\n",
       "      <td>0.182251</td>\n",
       "      <td>-0.158980</td>\n",
       "      <td>-0.015436</td>\n",
       "      <td>0.072798</td>\n",
       "      <td>0.026417</td>\n",
       "      <td>0.033397</td>\n",
       "      <td>0.026217</td>\n",
       "      <td>-0.038438</td>\n",
       "      <td>0.072341</td>\n",
       "    </tr>\n",
       "    <tr>\n",
       "      <th>4</th>\n",
       "      <td>0</td>\n",
       "      <td>-313.237382</td>\n",
       "      <td>128.302576</td>\n",
       "      <td>-47.012209</td>\n",
       "      <td>19.925841</td>\n",
       "      <td>13.332181</td>\n",
       "      <td>-29.089705</td>\n",
       "      <td>-13.109960</td>\n",
       "      <td>-17.376589</td>\n",
       "      <td>-20.631608</td>\n",
       "      <td>...</td>\n",
       "      <td>0.469962</td>\n",
       "      <td>0.320646</td>\n",
       "      <td>-0.054736</td>\n",
       "      <td>-0.086741</td>\n",
       "      <td>0.068926</td>\n",
       "      <td>0.095494</td>\n",
       "      <td>0.023775</td>\n",
       "      <td>-0.018482</td>\n",
       "      <td>0.001961</td>\n",
       "      <td>0.045553</td>\n",
       "    </tr>\n",
       "  </tbody>\n",
       "</table>\n",
       "<p>5 rows × 39 columns</p>\n",
       "</div>"
      ],
      "text/plain": [
       "   label  mfcc_1_mean  mfcc_2_mean  mfcc_3_mean  mfcc_4_mean  mfcc_5_mean  \\\n",
       "0      0  -392.408060   122.706493     4.529471    -1.131724    10.133050   \n",
       "1      1  -288.633987   150.553761   -51.823300     9.575870    16.140331   \n",
       "2      1  -321.349296   128.728553   -45.678164    16.015681     2.248679   \n",
       "3      1  -300.014392   139.610539   -58.775005   -17.863993   -27.983239   \n",
       "4      0  -313.237382   128.302576   -47.012209    19.925841    13.332181   \n",
       "\n",
       "   mfcc_6_mean  mfcc_7_mean  mfcc_8_mean  mfcc_9_mean  ...  lpc_3_mean  \\\n",
       "0    -7.359573   -12.236763   -11.748826   -14.925097  ...    0.206947   \n",
       "1   -25.634484    -9.063233   -13.583262   -33.734496  ...    0.942317   \n",
       "2   -36.931314   -16.453398   -21.782121   -28.765838  ...    0.791051   \n",
       "3   -31.165856   -15.891464   -29.907360   -18.892911  ...    0.625773   \n",
       "4   -29.089705   -13.109960   -17.376589   -20.631608  ...    0.469962   \n",
       "\n",
       "   lpc_4_mean  lpc_5_mean  lpc_6_mean  lpc_7_mean  lpc_8_mean  lpc_9_mean  \\\n",
       "0    0.242434    0.083058   -0.000745    0.017267    0.048853    0.049655   \n",
       "1    0.165730   -0.168018   -0.083517    0.020074    0.079114    0.045597   \n",
       "2    0.180148   -0.195515   -0.059862    0.091892    0.056669   -0.024036   \n",
       "3    0.182251   -0.158980   -0.015436    0.072798    0.026417    0.033397   \n",
       "4    0.320646   -0.054736   -0.086741    0.068926    0.095494    0.023775   \n",
       "\n",
       "   lpc_10_mean  lpc_11_mean  lpc_12_mean  \n",
       "0     0.011606    -0.013775     0.056669  \n",
       "1    -0.013818    -0.022306     0.027391  \n",
       "2    -0.031334     0.023492     0.031977  \n",
       "3     0.026217    -0.038438     0.072341  \n",
       "4    -0.018482     0.001961     0.045553  \n",
       "\n",
       "[5 rows x 39 columns]"
      ]
     },
     "execution_count": 321,
     "metadata": {},
     "output_type": "execute_result"
    }
   ],
   "source": [
    "# Drop the 'file_path' column\n",
    "data = df.drop(columns=['file_path', 'sampling_rate'])\n",
    "\n",
    "# Convert 'label' column values from 'fake' and 'real' to 0 and 1\n",
    "data['label'] = data['label'].apply(lambda x: 0 if x == 'fake' else 1)\n",
    "\n",
    "# Display the updated dataframe\n",
    "data.head()"
   ]
  },
  {
   "cell_type": "code",
   "execution_count": 322,
   "metadata": {},
   "outputs": [
    {
     "data": {
      "text/plain": [
       "(3000, 39)"
      ]
     },
     "execution_count": 322,
     "metadata": {},
     "output_type": "execute_result"
    }
   ],
   "source": [
    "data.shape"
   ]
  },
  {
   "cell_type": "code",
   "execution_count": 323,
   "metadata": {},
   "outputs": [],
   "source": [
    "# 1. Load and preprocess data\n",
    "features = data[['mfcc_1_mean', 'mfcc_2_mean',\n",
    "       'mfcc_3_mean', 'mfcc_4_mean', 'mfcc_5_mean', 'mfcc_6_mean',\n",
    "       'mfcc_7_mean', 'mfcc_8_mean', 'mfcc_9_mean', 'mfcc_10_mean',\n",
    "       'mfcc_11_mean', 'mfcc_12_mean', 'mfcc_13_mean', 'chroma_1_mean',\n",
    "       'chroma_2_mean', 'chroma_3_mean', 'zcr_mean',\n",
    "       'spectral_contrast_1_mean', 'spectral_contrast_2_mean',\n",
    "       'spectral_contrast_3_mean', 'spectral_contrast_4_mean',\n",
    "       'spectral_contrast_5_mean', 'spectral_contrast_6_mean',\n",
    "       'spectral_centroid_mean', 'spectral_bandwidth_mean',\n",
    "       'spectral_rolloff_mean', 'lpc_1_mean', 'lpc_2_mean', 'lpc_3_mean',\n",
    "       'lpc_4_mean', 'lpc_5_mean', 'lpc_6_mean', 'lpc_7_mean', 'lpc_8_mean',\n",
    "       'lpc_9_mean', 'lpc_10_mean', 'lpc_11_mean', 'lpc_12_mean']] # Select features\n",
    "labels = data['label']"
   ]
  },
  {
   "cell_type": "code",
   "execution_count": 324,
   "metadata": {},
   "outputs": [],
   "source": [
    "from sklearn.model_selection import train_test_split\n",
    "from sklearn.preprocessing import StandardScaler, MinMaxScaler\n",
    "from tensorflow import keras\n",
    "import matplotlib.pyplot as plt\n",
    "import keras.optimizers as optimizers\n",
    "from keras.losses import BinaryCrossentropy\n",
    "from keras.models import Sequential\n",
    "from keras.layers import LSTM, Dense, Dropout, Bidirectional, GRU, Input\n",
    "from keras.callbacks import EarlyStopping, ModelCheckpoint, ReduceLROnPlateau\n",
    "from keras.utils import pad_sequences\n",
    "from keras.regularizers import l2"
   ]
  },
  {
   "cell_type": "code",
   "execution_count": 325,
   "metadata": {},
   "outputs": [],
   "source": [
    "def create_sequences(features, sequence_length, overlap):\n",
    "    \"\"\"\n",
    "    Creates sequences from feature data.\n",
    "\n",
    "    Args:\n",
    "        features: A NumPy array of shape (num_samples, num_features).\n",
    "        sequence_length: The desired length of each sequence.\n",
    "        overlap: The number of overlapping features between consecutive sequences.\n",
    "\n",
    "    Returns:\n",
    "        A tuple containing:\n",
    "            - A NumPy array of shape (num_sequences, sequence_length, num_features).\n",
    "            - A list of indices indicating the starting sample of each sequence.\n",
    "    \"\"\"\n",
    "    sequences = []\n",
    "    indices = []  # Store the starting index of each sequence\n",
    "    for i in range(0, len(features) - sequence_length + 1, sequence_length - overlap):\n",
    "        sequences.append(features[i: i + sequence_length])\n",
    "        indices.append(i)  # Store the starting index\n",
    "    return np.array(sequences), indices"
   ]
  },
  {
   "cell_type": "code",
   "execution_count": 326,
   "metadata": {},
   "outputs": [],
   "source": [
    "def prepare_data(X, window_size = 10):\n",
    "    \n",
    "    data = []\n",
    "    \n",
    "    for i in range(len(X)):\n",
    "        row = X.iloc[i].values\n",
    "        row_data = []\n",
    "        for j in range(len(row) - window_size):\n",
    "            window = row[j : j + window_size]\n",
    "            row_data.append(window)\n",
    "        data.append(row_data)\n",
    "        \n",
    "    return np.array(data)"
   ]
  },
  {
   "cell_type": "code",
   "execution_count": 327,
   "metadata": {},
   "outputs": [
    {
     "name": "stderr",
     "output_type": "stream",
     "text": [
      "/var/folders/gy/d7p0zrqx7l3f7dwplj0g_b040000gn/T/ipykernel_73753/3845254570.py:1: SettingWithCopyWarning: \n",
      "A value is trying to be set on a copy of a slice from a DataFrame\n",
      "\n",
      "See the caveats in the documentation: https://pandas.pydata.org/pandas-docs/stable/user_guide/indexing.html#returning-a-view-versus-a-copy\n",
      "  features.iloc[:, :] = MinMaxScaler().fit_transform(features)\n"
     ]
    }
   ],
   "source": [
    "features.iloc[:, :] = MinMaxScaler().fit_transform(features)\n",
    "new_X = prepare_data(features, window_size = 5)"
   ]
  },
  {
   "cell_type": "code",
   "execution_count": 328,
   "metadata": {},
   "outputs": [],
   "source": [
    "X_train, X_test, y_train, y_test = train_test_split(new_X, labels.values, test_size=0.2, shuffle = True, stratify = labels.values, random_state=42)\n",
    "X_train, X_val, y_train, y_val = train_test_split(X_train, y_train, test_size=0.2, shuffle = True, stratify = y_train, random_state=42)"
   ]
  },
  {
   "cell_type": "code",
   "execution_count": 329,
   "metadata": {},
   "outputs": [
    {
     "data": {
      "text/html": [
       "<pre style=\"white-space:pre;overflow-x:auto;line-height:normal;font-family:Menlo,'DejaVu Sans Mono',consolas,'Courier New',monospace\"><span style=\"font-weight: bold\">Model: \"sequential_44\"</span>\n",
       "</pre>\n"
      ],
      "text/plain": [
       "\u001b[1mModel: \"sequential_44\"\u001b[0m\n"
      ]
     },
     "metadata": {},
     "output_type": "display_data"
    },
    {
     "data": {
      "text/html": [
       "<pre style=\"white-space:pre;overflow-x:auto;line-height:normal;font-family:Menlo,'DejaVu Sans Mono',consolas,'Courier New',monospace\">┏━━━━━━━━━━━━━━━━━━━━━━━━━━━━━━━━━┳━━━━━━━━━━━━━━━━━━━━━━━━┳━━━━━━━━━━━━━━━┓\n",
       "┃<span style=\"font-weight: bold\"> Layer (type)                    </span>┃<span style=\"font-weight: bold\"> Output Shape           </span>┃<span style=\"font-weight: bold\">       Param # </span>┃\n",
       "┡━━━━━━━━━━━━━━━━━━━━━━━━━━━━━━━━━╇━━━━━━━━━━━━━━━━━━━━━━━━╇━━━━━━━━━━━━━━━┩\n",
       "│ lstm_68 (<span style=\"color: #0087ff; text-decoration-color: #0087ff\">LSTM</span>)                  │ (<span style=\"color: #00d7ff; text-decoration-color: #00d7ff\">None</span>, <span style=\"color: #00af00; text-decoration-color: #00af00\">33</span>, <span style=\"color: #00af00; text-decoration-color: #00af00\">64</span>)         │        <span style=\"color: #00af00; text-decoration-color: #00af00\">17,920</span> │\n",
       "├─────────────────────────────────┼────────────────────────┼───────────────┤\n",
       "│ dropout_68 (<span style=\"color: #0087ff; text-decoration-color: #0087ff\">Dropout</span>)            │ (<span style=\"color: #00d7ff; text-decoration-color: #00d7ff\">None</span>, <span style=\"color: #00af00; text-decoration-color: #00af00\">33</span>, <span style=\"color: #00af00; text-decoration-color: #00af00\">64</span>)         │             <span style=\"color: #00af00; text-decoration-color: #00af00\">0</span> │\n",
       "├─────────────────────────────────┼────────────────────────┼───────────────┤\n",
       "│ lstm_69 (<span style=\"color: #0087ff; text-decoration-color: #0087ff\">LSTM</span>)                  │ (<span style=\"color: #00d7ff; text-decoration-color: #00d7ff\">None</span>, <span style=\"color: #00af00; text-decoration-color: #00af00\">64</span>)             │        <span style=\"color: #00af00; text-decoration-color: #00af00\">33,024</span> │\n",
       "├─────────────────────────────────┼────────────────────────┼───────────────┤\n",
       "│ dropout_69 (<span style=\"color: #0087ff; text-decoration-color: #0087ff\">Dropout</span>)            │ (<span style=\"color: #00d7ff; text-decoration-color: #00d7ff\">None</span>, <span style=\"color: #00af00; text-decoration-color: #00af00\">64</span>)             │             <span style=\"color: #00af00; text-decoration-color: #00af00\">0</span> │\n",
       "├─────────────────────────────────┼────────────────────────┼───────────────┤\n",
       "│ dense_46 (<span style=\"color: #0087ff; text-decoration-color: #0087ff\">Dense</span>)                │ (<span style=\"color: #00d7ff; text-decoration-color: #00d7ff\">None</span>, <span style=\"color: #00af00; text-decoration-color: #00af00\">32</span>)             │         <span style=\"color: #00af00; text-decoration-color: #00af00\">2,080</span> │\n",
       "├─────────────────────────────────┼────────────────────────┼───────────────┤\n",
       "│ dense_47 (<span style=\"color: #0087ff; text-decoration-color: #0087ff\">Dense</span>)                │ (<span style=\"color: #00d7ff; text-decoration-color: #00d7ff\">None</span>, <span style=\"color: #00af00; text-decoration-color: #00af00\">1</span>)              │            <span style=\"color: #00af00; text-decoration-color: #00af00\">33</span> │\n",
       "└─────────────────────────────────┴────────────────────────┴───────────────┘\n",
       "</pre>\n"
      ],
      "text/plain": [
       "┏━━━━━━━━━━━━━━━━━━━━━━━━━━━━━━━━━┳━━━━━━━━━━━━━━━━━━━━━━━━┳━━━━━━━━━━━━━━━┓\n",
       "┃\u001b[1m \u001b[0m\u001b[1mLayer (type)                   \u001b[0m\u001b[1m \u001b[0m┃\u001b[1m \u001b[0m\u001b[1mOutput Shape          \u001b[0m\u001b[1m \u001b[0m┃\u001b[1m \u001b[0m\u001b[1m      Param #\u001b[0m\u001b[1m \u001b[0m┃\n",
       "┡━━━━━━━━━━━━━━━━━━━━━━━━━━━━━━━━━╇━━━━━━━━━━━━━━━━━━━━━━━━╇━━━━━━━━━━━━━━━┩\n",
       "│ lstm_68 (\u001b[38;5;33mLSTM\u001b[0m)                  │ (\u001b[38;5;45mNone\u001b[0m, \u001b[38;5;34m33\u001b[0m, \u001b[38;5;34m64\u001b[0m)         │        \u001b[38;5;34m17,920\u001b[0m │\n",
       "├─────────────────────────────────┼────────────────────────┼───────────────┤\n",
       "│ dropout_68 (\u001b[38;5;33mDropout\u001b[0m)            │ (\u001b[38;5;45mNone\u001b[0m, \u001b[38;5;34m33\u001b[0m, \u001b[38;5;34m64\u001b[0m)         │             \u001b[38;5;34m0\u001b[0m │\n",
       "├─────────────────────────────────┼────────────────────────┼───────────────┤\n",
       "│ lstm_69 (\u001b[38;5;33mLSTM\u001b[0m)                  │ (\u001b[38;5;45mNone\u001b[0m, \u001b[38;5;34m64\u001b[0m)             │        \u001b[38;5;34m33,024\u001b[0m │\n",
       "├─────────────────────────────────┼────────────────────────┼───────────────┤\n",
       "│ dropout_69 (\u001b[38;5;33mDropout\u001b[0m)            │ (\u001b[38;5;45mNone\u001b[0m, \u001b[38;5;34m64\u001b[0m)             │             \u001b[38;5;34m0\u001b[0m │\n",
       "├─────────────────────────────────┼────────────────────────┼───────────────┤\n",
       "│ dense_46 (\u001b[38;5;33mDense\u001b[0m)                │ (\u001b[38;5;45mNone\u001b[0m, \u001b[38;5;34m32\u001b[0m)             │         \u001b[38;5;34m2,080\u001b[0m │\n",
       "├─────────────────────────────────┼────────────────────────┼───────────────┤\n",
       "│ dense_47 (\u001b[38;5;33mDense\u001b[0m)                │ (\u001b[38;5;45mNone\u001b[0m, \u001b[38;5;34m1\u001b[0m)              │            \u001b[38;5;34m33\u001b[0m │\n",
       "└─────────────────────────────────┴────────────────────────┴───────────────┘\n"
      ]
     },
     "metadata": {},
     "output_type": "display_data"
    },
    {
     "data": {
      "text/html": [
       "<pre style=\"white-space:pre;overflow-x:auto;line-height:normal;font-family:Menlo,'DejaVu Sans Mono',consolas,'Courier New',monospace\"><span style=\"font-weight: bold\"> Total params: </span><span style=\"color: #00af00; text-decoration-color: #00af00\">53,057</span> (207.25 KB)\n",
       "</pre>\n"
      ],
      "text/plain": [
       "\u001b[1m Total params: \u001b[0m\u001b[38;5;34m53,057\u001b[0m (207.25 KB)\n"
      ]
     },
     "metadata": {},
     "output_type": "display_data"
    },
    {
     "data": {
      "text/html": [
       "<pre style=\"white-space:pre;overflow-x:auto;line-height:normal;font-family:Menlo,'DejaVu Sans Mono',consolas,'Courier New',monospace\"><span style=\"font-weight: bold\"> Trainable params: </span><span style=\"color: #00af00; text-decoration-color: #00af00\">53,057</span> (207.25 KB)\n",
       "</pre>\n"
      ],
      "text/plain": [
       "\u001b[1m Trainable params: \u001b[0m\u001b[38;5;34m53,057\u001b[0m (207.25 KB)\n"
      ]
     },
     "metadata": {},
     "output_type": "display_data"
    },
    {
     "data": {
      "text/html": [
       "<pre style=\"white-space:pre;overflow-x:auto;line-height:normal;font-family:Menlo,'DejaVu Sans Mono',consolas,'Courier New',monospace\"><span style=\"font-weight: bold\"> Non-trainable params: </span><span style=\"color: #00af00; text-decoration-color: #00af00\">0</span> (0.00 B)\n",
       "</pre>\n"
      ],
      "text/plain": [
       "\u001b[1m Non-trainable params: \u001b[0m\u001b[38;5;34m0\u001b[0m (0.00 B)\n"
      ]
     },
     "metadata": {},
     "output_type": "display_data"
    }
   ],
   "source": [
    "model = Sequential()\n",
    "\n",
    "input_shape = (X_train.shape[1], X_train.shape[2])\n",
    "model.add(Input(shape=input_shape))\n",
    "model.add(LSTM(64, return_sequences=True))\n",
    "model.add(Dropout(0.2))\n",
    "model.add(LSTM(64, return_sequences = False))\n",
    "model.add(Dropout(0.2))\n",
    "model.add(Dense(32 , activation = 'relu'))\n",
    "model.add(Dense(1, activation = 'sigmoid'))\n",
    "\n",
    "optimizer = optimizers.Adam(learning_rate=0.001)\n",
    "model.compile(optimizer=optimizer, loss = BinaryCrossentropy(), metrics=['accuracy'])\n",
    "model.summary()"
   ]
  },
  {
   "cell_type": "code",
   "execution_count": 330,
   "metadata": {},
   "outputs": [],
   "source": [
    "callback = [\n",
    "    ModelCheckpoint(filepath='model.keras'),\n",
    "]"
   ]
  },
  {
   "cell_type": "code",
   "execution_count": 331,
   "metadata": {},
   "outputs": [
    {
     "name": "stdout",
     "output_type": "stream",
     "text": [
      "Epoch 1/60\n",
      "\u001b[1m60/60\u001b[0m \u001b[32m━━━━━━━━━━━━━━━━━━━━\u001b[0m\u001b[37m\u001b[0m \u001b[1m6s\u001b[0m 35ms/step - accuracy: 0.4995 - loss: 0.6940 - val_accuracy: 0.4917 - val_loss: 0.6976\n",
      "Epoch 2/60\n",
      "\u001b[1m60/60\u001b[0m \u001b[32m━━━━━━━━━━━━━━━━━━━━\u001b[0m\u001b[37m\u001b[0m \u001b[1m2s\u001b[0m 27ms/step - accuracy: 0.5082 - loss: 0.6945 - val_accuracy: 0.4917 - val_loss: 0.6930\n",
      "Epoch 3/60\n",
      "\u001b[1m60/60\u001b[0m \u001b[32m━━━━━━━━━━━━━━━━━━━━\u001b[0m\u001b[37m\u001b[0m \u001b[1m2s\u001b[0m 25ms/step - accuracy: 0.4927 - loss: 0.6940 - val_accuracy: 0.5083 - val_loss: 0.6928\n",
      "Epoch 4/60\n",
      "\u001b[1m60/60\u001b[0m \u001b[32m━━━━━━━━━━━━━━━━━━━━\u001b[0m\u001b[37m\u001b[0m \u001b[1m1s\u001b[0m 24ms/step - accuracy: 0.5036 - loss: 0.6925 - val_accuracy: 0.5979 - val_loss: 0.6922\n",
      "Epoch 5/60\n",
      "\u001b[1m60/60\u001b[0m \u001b[32m━━━━━━━━━━━━━━━━━━━━\u001b[0m\u001b[37m\u001b[0m \u001b[1m1s\u001b[0m 24ms/step - accuracy: 0.5076 - loss: 0.6928 - val_accuracy: 0.5625 - val_loss: 0.6890\n",
      "Epoch 6/60\n",
      "\u001b[1m60/60\u001b[0m \u001b[32m━━━━━━━━━━━━━━━━━━━━\u001b[0m\u001b[37m\u001b[0m \u001b[1m1s\u001b[0m 22ms/step - accuracy: 0.5480 - loss: 0.6883 - val_accuracy: 0.6208 - val_loss: 0.6661\n",
      "Epoch 7/60\n",
      "\u001b[1m60/60\u001b[0m \u001b[32m━━━━━━━━━━━━━━━━━━━━\u001b[0m\u001b[37m\u001b[0m \u001b[1m1s\u001b[0m 22ms/step - accuracy: 0.5505 - loss: 0.6874 - val_accuracy: 0.5875 - val_loss: 0.6755\n",
      "Epoch 8/60\n",
      "\u001b[1m60/60\u001b[0m \u001b[32m━━━━━━━━━━━━━━━━━━━━\u001b[0m\u001b[37m\u001b[0m \u001b[1m1s\u001b[0m 22ms/step - accuracy: 0.5592 - loss: 0.6796 - val_accuracy: 0.6000 - val_loss: 0.6562\n",
      "Epoch 9/60\n",
      "\u001b[1m60/60\u001b[0m \u001b[32m━━━━━━━━━━━━━━━━━━━━\u001b[0m\u001b[37m\u001b[0m \u001b[1m1s\u001b[0m 23ms/step - accuracy: 0.6221 - loss: 0.6520 - val_accuracy: 0.6229 - val_loss: 0.6433\n",
      "Epoch 10/60\n",
      "\u001b[1m60/60\u001b[0m \u001b[32m━━━━━━━━━━━━━━━━━━━━\u001b[0m\u001b[37m\u001b[0m \u001b[1m1s\u001b[0m 22ms/step - accuracy: 0.6404 - loss: 0.6374 - val_accuracy: 0.5979 - val_loss: 0.6556\n",
      "Epoch 11/60\n",
      "\u001b[1m60/60\u001b[0m \u001b[32m━━━━━━━━━━━━━━━━━━━━\u001b[0m\u001b[37m\u001b[0m \u001b[1m1s\u001b[0m 22ms/step - accuracy: 0.6391 - loss: 0.6426 - val_accuracy: 0.5750 - val_loss: 0.6714\n",
      "Epoch 12/60\n",
      "\u001b[1m60/60\u001b[0m \u001b[32m━━━━━━━━━━━━━━━━━━━━\u001b[0m\u001b[37m\u001b[0m \u001b[1m1s\u001b[0m 22ms/step - accuracy: 0.6197 - loss: 0.6519 - val_accuracy: 0.6521 - val_loss: 0.6269\n",
      "Epoch 13/60\n",
      "\u001b[1m60/60\u001b[0m \u001b[32m━━━━━━━━━━━━━━━━━━━━\u001b[0m\u001b[37m\u001b[0m \u001b[1m1s\u001b[0m 22ms/step - accuracy: 0.6542 - loss: 0.6226 - val_accuracy: 0.6604 - val_loss: 0.6179\n",
      "Epoch 14/60\n",
      "\u001b[1m60/60\u001b[0m \u001b[32m━━━━━━━━━━━━━━━━━━━━\u001b[0m\u001b[37m\u001b[0m \u001b[1m1s\u001b[0m 22ms/step - accuracy: 0.6725 - loss: 0.6033 - val_accuracy: 0.6854 - val_loss: 0.5959\n",
      "Epoch 15/60\n",
      "\u001b[1m60/60\u001b[0m \u001b[32m━━━━━━━━━━━━━━━━━━━━\u001b[0m\u001b[37m\u001b[0m \u001b[1m1s\u001b[0m 22ms/step - accuracy: 0.6901 - loss: 0.5886 - val_accuracy: 0.6958 - val_loss: 0.5938\n",
      "Epoch 16/60\n",
      "\u001b[1m60/60\u001b[0m \u001b[32m━━━━━━━━━━━━━━━━━━━━\u001b[0m\u001b[37m\u001b[0m \u001b[1m1s\u001b[0m 22ms/step - accuracy: 0.7043 - loss: 0.5643 - val_accuracy: 0.6333 - val_loss: 0.6222\n",
      "Epoch 17/60\n",
      "\u001b[1m60/60\u001b[0m \u001b[32m━━━━━━━━━━━━━━━━━━━━\u001b[0m\u001b[37m\u001b[0m \u001b[1m1s\u001b[0m 23ms/step - accuracy: 0.7010 - loss: 0.5739 - val_accuracy: 0.7083 - val_loss: 0.5941\n",
      "Epoch 18/60\n",
      "\u001b[1m60/60\u001b[0m \u001b[32m━━━━━━━━━━━━━━━━━━━━\u001b[0m\u001b[37m\u001b[0m \u001b[1m1s\u001b[0m 23ms/step - accuracy: 0.7301 - loss: 0.5426 - val_accuracy: 0.7208 - val_loss: 0.5561\n",
      "Epoch 19/60\n",
      "\u001b[1m60/60\u001b[0m \u001b[32m━━━━━━━━━━━━━━━━━━━━\u001b[0m\u001b[37m\u001b[0m \u001b[1m1s\u001b[0m 23ms/step - accuracy: 0.7223 - loss: 0.5525 - val_accuracy: 0.7208 - val_loss: 0.5540\n",
      "Epoch 20/60\n",
      "\u001b[1m60/60\u001b[0m \u001b[32m━━━━━━━━━━━━━━━━━━━━\u001b[0m\u001b[37m\u001b[0m \u001b[1m2s\u001b[0m 27ms/step - accuracy: 0.7011 - loss: 0.5615 - val_accuracy: 0.6854 - val_loss: 0.5895\n",
      "Epoch 21/60\n",
      "\u001b[1m60/60\u001b[0m \u001b[32m━━━━━━━━━━━━━━━━━━━━\u001b[0m\u001b[37m\u001b[0m \u001b[1m1s\u001b[0m 23ms/step - accuracy: 0.7435 - loss: 0.5294 - val_accuracy: 0.7292 - val_loss: 0.5457\n",
      "Epoch 22/60\n",
      "\u001b[1m60/60\u001b[0m \u001b[32m━━━━━━━━━━━━━━━━━━━━\u001b[0m\u001b[37m\u001b[0m \u001b[1m1s\u001b[0m 23ms/step - accuracy: 0.7312 - loss: 0.5293 - val_accuracy: 0.7312 - val_loss: 0.5314\n",
      "Epoch 23/60\n",
      "\u001b[1m60/60\u001b[0m \u001b[32m━━━━━━━━━━━━━━━━━━━━\u001b[0m\u001b[37m\u001b[0m \u001b[1m1s\u001b[0m 22ms/step - accuracy: 0.7503 - loss: 0.5235 - val_accuracy: 0.7312 - val_loss: 0.5327\n",
      "Epoch 24/60\n",
      "\u001b[1m60/60\u001b[0m \u001b[32m━━━━━━━━━━━━━━━━━━━━\u001b[0m\u001b[37m\u001b[0m \u001b[1m1s\u001b[0m 23ms/step - accuracy: 0.7554 - loss: 0.5214 - val_accuracy: 0.7104 - val_loss: 0.5588\n",
      "Epoch 25/60\n",
      "\u001b[1m60/60\u001b[0m \u001b[32m━━━━━━━━━━━━━━━━━━━━\u001b[0m\u001b[37m\u001b[0m \u001b[1m1s\u001b[0m 23ms/step - accuracy: 0.7420 - loss: 0.5227 - val_accuracy: 0.7667 - val_loss: 0.5154\n",
      "Epoch 26/60\n",
      "\u001b[1m60/60\u001b[0m \u001b[32m━━━━━━━━━━━━━━━━━━━━\u001b[0m\u001b[37m\u001b[0m \u001b[1m1s\u001b[0m 23ms/step - accuracy: 0.7392 - loss: 0.5300 - val_accuracy: 0.7208 - val_loss: 0.5408\n",
      "Epoch 27/60\n",
      "\u001b[1m60/60\u001b[0m \u001b[32m━━━━━━━━━━━━━━━━━━━━\u001b[0m\u001b[37m\u001b[0m \u001b[1m1s\u001b[0m 22ms/step - accuracy: 0.7527 - loss: 0.5189 - val_accuracy: 0.7188 - val_loss: 0.5345\n",
      "Epoch 28/60\n",
      "\u001b[1m60/60\u001b[0m \u001b[32m━━━━━━━━━━━━━━━━━━━━\u001b[0m\u001b[37m\u001b[0m \u001b[1m1s\u001b[0m 22ms/step - accuracy: 0.7478 - loss: 0.5112 - val_accuracy: 0.7250 - val_loss: 0.5352\n",
      "Epoch 29/60\n",
      "\u001b[1m60/60\u001b[0m \u001b[32m━━━━━━━━━━━━━━━━━━━━\u001b[0m\u001b[37m\u001b[0m \u001b[1m1s\u001b[0m 22ms/step - accuracy: 0.7307 - loss: 0.5323 - val_accuracy: 0.7146 - val_loss: 0.5554\n",
      "Epoch 30/60\n",
      "\u001b[1m60/60\u001b[0m \u001b[32m━━━━━━━━━━━━━━━━━━━━\u001b[0m\u001b[37m\u001b[0m \u001b[1m2s\u001b[0m 25ms/step - accuracy: 0.7505 - loss: 0.5194 - val_accuracy: 0.7458 - val_loss: 0.5186\n",
      "Epoch 31/60\n",
      "\u001b[1m60/60\u001b[0m \u001b[32m━━━━━━━━━━━━━━━━━━━━\u001b[0m\u001b[37m\u001b[0m \u001b[1m1s\u001b[0m 22ms/step - accuracy: 0.7484 - loss: 0.5177 - val_accuracy: 0.7333 - val_loss: 0.5304\n",
      "Epoch 32/60\n",
      "\u001b[1m60/60\u001b[0m \u001b[32m━━━━━━━━━━━━━━━━━━━━\u001b[0m\u001b[37m\u001b[0m \u001b[1m1s\u001b[0m 22ms/step - accuracy: 0.7509 - loss: 0.5177 - val_accuracy: 0.7521 - val_loss: 0.5205\n",
      "Epoch 33/60\n",
      "\u001b[1m60/60\u001b[0m \u001b[32m━━━━━━━━━━━━━━━━━━━━\u001b[0m\u001b[37m\u001b[0m \u001b[1m1s\u001b[0m 22ms/step - accuracy: 0.7677 - loss: 0.4918 - val_accuracy: 0.7521 - val_loss: 0.5112\n",
      "Epoch 34/60\n",
      "\u001b[1m60/60\u001b[0m \u001b[32m━━━━━━━━━━━━━━━━━━━━\u001b[0m\u001b[37m\u001b[0m \u001b[1m1s\u001b[0m 22ms/step - accuracy: 0.7604 - loss: 0.5144 - val_accuracy: 0.7375 - val_loss: 0.5246\n",
      "Epoch 35/60\n",
      "\u001b[1m60/60\u001b[0m \u001b[32m━━━━━━━━━━━━━━━━━━━━\u001b[0m\u001b[37m\u001b[0m \u001b[1m1s\u001b[0m 22ms/step - accuracy: 0.7643 - loss: 0.5113 - val_accuracy: 0.7437 - val_loss: 0.5143\n",
      "Epoch 36/60\n",
      "\u001b[1m60/60\u001b[0m \u001b[32m━━━━━━━━━━━━━━━━━━━━\u001b[0m\u001b[37m\u001b[0m \u001b[1m1s\u001b[0m 22ms/step - accuracy: 0.7408 - loss: 0.5287 - val_accuracy: 0.7312 - val_loss: 0.5122\n",
      "Epoch 37/60\n",
      "\u001b[1m60/60\u001b[0m \u001b[32m━━━━━━━━━━━━━━━━━━━━\u001b[0m\u001b[37m\u001b[0m \u001b[1m1s\u001b[0m 22ms/step - accuracy: 0.7711 - loss: 0.4762 - val_accuracy: 0.7521 - val_loss: 0.5175\n",
      "Epoch 38/60\n",
      "\u001b[1m60/60\u001b[0m \u001b[32m━━━━━━━━━━━━━━━━━━━━\u001b[0m\u001b[37m\u001b[0m \u001b[1m1s\u001b[0m 22ms/step - accuracy: 0.7560 - loss: 0.5025 - val_accuracy: 0.7437 - val_loss: 0.5230\n",
      "Epoch 39/60\n",
      "\u001b[1m60/60\u001b[0m \u001b[32m━━━━━━━━━━━━━━━━━━━━\u001b[0m\u001b[37m\u001b[0m \u001b[1m1s\u001b[0m 22ms/step - accuracy: 0.7480 - loss: 0.5088 - val_accuracy: 0.7375 - val_loss: 0.5314\n",
      "Epoch 40/60\n",
      "\u001b[1m60/60\u001b[0m \u001b[32m━━━━━━━━━━━━━━━━━━━━\u001b[0m\u001b[37m\u001b[0m \u001b[1m1s\u001b[0m 22ms/step - accuracy: 0.7481 - loss: 0.5033 - val_accuracy: 0.7563 - val_loss: 0.5069\n",
      "Epoch 41/60\n",
      "\u001b[1m60/60\u001b[0m \u001b[32m━━━━━━━━━━━━━━━━━━━━\u001b[0m\u001b[37m\u001b[0m \u001b[1m1s\u001b[0m 22ms/step - accuracy: 0.7671 - loss: 0.4932 - val_accuracy: 0.7146 - val_loss: 0.5602\n",
      "Epoch 42/60\n",
      "\u001b[1m60/60\u001b[0m \u001b[32m━━━━━━━━━━━━━━━━━━━━\u001b[0m\u001b[37m\u001b[0m \u001b[1m1s\u001b[0m 23ms/step - accuracy: 0.7771 - loss: 0.4911 - val_accuracy: 0.7688 - val_loss: 0.5125\n",
      "Epoch 43/60\n",
      "\u001b[1m60/60\u001b[0m \u001b[32m━━━━━━━━━━━━━━━━━━━━\u001b[0m\u001b[37m\u001b[0m \u001b[1m1s\u001b[0m 23ms/step - accuracy: 0.7487 - loss: 0.5145 - val_accuracy: 0.7375 - val_loss: 0.5191\n",
      "Epoch 44/60\n",
      "\u001b[1m60/60\u001b[0m \u001b[32m━━━━━━━━━━━━━━━━━━━━\u001b[0m\u001b[37m\u001b[0m \u001b[1m1s\u001b[0m 23ms/step - accuracy: 0.7668 - loss: 0.4758 - val_accuracy: 0.7167 - val_loss: 0.5509\n",
      "Epoch 45/60\n",
      "\u001b[1m60/60\u001b[0m \u001b[32m━━━━━━━━━━━━━━━━━━━━\u001b[0m\u001b[37m\u001b[0m \u001b[1m1s\u001b[0m 23ms/step - accuracy: 0.7700 - loss: 0.4896 - val_accuracy: 0.7312 - val_loss: 0.5273\n",
      "Epoch 46/60\n",
      "\u001b[1m60/60\u001b[0m \u001b[32m━━━━━━━━━━━━━━━━━━━━\u001b[0m\u001b[37m\u001b[0m \u001b[1m1s\u001b[0m 23ms/step - accuracy: 0.7777 - loss: 0.4767 - val_accuracy: 0.7500 - val_loss: 0.5033\n",
      "Epoch 47/60\n",
      "\u001b[1m60/60\u001b[0m \u001b[32m━━━━━━━━━━━━━━━━━━━━\u001b[0m\u001b[37m\u001b[0m \u001b[1m1s\u001b[0m 22ms/step - accuracy: 0.7904 - loss: 0.4564 - val_accuracy: 0.7583 - val_loss: 0.5088\n",
      "Epoch 48/60\n",
      "\u001b[1m60/60\u001b[0m \u001b[32m━━━━━━━━━━━━━━━━━━━━\u001b[0m\u001b[37m\u001b[0m \u001b[1m1s\u001b[0m 22ms/step - accuracy: 0.7777 - loss: 0.4758 - val_accuracy: 0.7417 - val_loss: 0.5149\n",
      "Epoch 49/60\n",
      "\u001b[1m60/60\u001b[0m \u001b[32m━━━━━━━━━━━━━━━━━━━━\u001b[0m\u001b[37m\u001b[0m \u001b[1m1s\u001b[0m 22ms/step - accuracy: 0.7781 - loss: 0.4746 - val_accuracy: 0.7437 - val_loss: 0.5054\n",
      "Epoch 50/60\n",
      "\u001b[1m60/60\u001b[0m \u001b[32m━━━━━━━━━━━━━━━━━━━━\u001b[0m\u001b[37m\u001b[0m \u001b[1m1s\u001b[0m 23ms/step - accuracy: 0.7728 - loss: 0.4770 - val_accuracy: 0.7646 - val_loss: 0.5022\n",
      "Epoch 51/60\n",
      "\u001b[1m60/60\u001b[0m \u001b[32m━━━━━━━━━━━━━━━━━━━━\u001b[0m\u001b[37m\u001b[0m \u001b[1m1s\u001b[0m 22ms/step - accuracy: 0.7900 - loss: 0.4604 - val_accuracy: 0.7396 - val_loss: 0.5077\n",
      "Epoch 52/60\n",
      "\u001b[1m60/60\u001b[0m \u001b[32m━━━━━━━━━━━━━━━━━━━━\u001b[0m\u001b[37m\u001b[0m \u001b[1m1s\u001b[0m 22ms/step - accuracy: 0.7683 - loss: 0.4732 - val_accuracy: 0.7458 - val_loss: 0.4983\n",
      "Epoch 53/60\n",
      "\u001b[1m60/60\u001b[0m \u001b[32m━━━━━━━━━━━━━━━━━━━━\u001b[0m\u001b[37m\u001b[0m \u001b[1m1s\u001b[0m 22ms/step - accuracy: 0.7670 - loss: 0.4867 - val_accuracy: 0.7396 - val_loss: 0.5196\n",
      "Epoch 54/60\n",
      "\u001b[1m60/60\u001b[0m \u001b[32m━━━━━━━━━━━━━━━━━━━━\u001b[0m\u001b[37m\u001b[0m \u001b[1m1s\u001b[0m 22ms/step - accuracy: 0.7706 - loss: 0.4770 - val_accuracy: 0.7417 - val_loss: 0.5175\n",
      "Epoch 55/60\n",
      "\u001b[1m60/60\u001b[0m \u001b[32m━━━━━━━━━━━━━━━━━━━━\u001b[0m\u001b[37m\u001b[0m \u001b[1m1s\u001b[0m 22ms/step - accuracy: 0.7684 - loss: 0.4708 - val_accuracy: 0.7583 - val_loss: 0.4971\n",
      "Epoch 56/60\n",
      "\u001b[1m60/60\u001b[0m \u001b[32m━━━━━━━━━━━━━━━━━━━━\u001b[0m\u001b[37m\u001b[0m \u001b[1m1s\u001b[0m 23ms/step - accuracy: 0.7773 - loss: 0.4724 - val_accuracy: 0.7500 - val_loss: 0.4930\n",
      "Epoch 57/60\n",
      "\u001b[1m60/60\u001b[0m \u001b[32m━━━━━━━━━━━━━━━━━━━━\u001b[0m\u001b[37m\u001b[0m \u001b[1m1s\u001b[0m 22ms/step - accuracy: 0.7640 - loss: 0.4790 - val_accuracy: 0.7417 - val_loss: 0.5210\n",
      "Epoch 58/60\n",
      "\u001b[1m60/60\u001b[0m \u001b[32m━━━━━━━━━━━━━━━━━━━━\u001b[0m\u001b[37m\u001b[0m \u001b[1m1s\u001b[0m 22ms/step - accuracy: 0.7847 - loss: 0.4424 - val_accuracy: 0.7625 - val_loss: 0.5012\n",
      "Epoch 59/60\n",
      "\u001b[1m60/60\u001b[0m \u001b[32m━━━━━━━━━━━━━━━━━━━━\u001b[0m\u001b[37m\u001b[0m \u001b[1m1s\u001b[0m 22ms/step - accuracy: 0.7653 - loss: 0.4710 - val_accuracy: 0.7604 - val_loss: 0.5121\n",
      "Epoch 60/60\n",
      "\u001b[1m60/60\u001b[0m \u001b[32m━━━━━━━━━━━━━━━━━━━━\u001b[0m\u001b[37m\u001b[0m \u001b[1m1s\u001b[0m 22ms/step - accuracy: 0.7705 - loss: 0.4750 - val_accuracy: 0.7625 - val_loss: 0.4914\n"
     ]
    }
   ],
   "source": [
    "history = model.fit(X_train, y_train, batch_size=32, epochs=60, validation_data = (X_val, y_val), callbacks = callback)"
   ]
  },
  {
   "cell_type": "code",
   "execution_count": 332,
   "metadata": {},
   "outputs": [
    {
     "data": {
      "image/png": "[encoded data removed]",
      "text/plain": [
       "<Figure size 1200x600 with 2 Axes>"
      ]
     },
     "metadata": {},
     "output_type": "display_data"
    },
    {
     "name": "stdout",
     "output_type": "stream",
     "text": [
      "\u001b[1m19/19\u001b[0m \u001b[32m━━━━━━━━━━━━━━━━━━━━\u001b[0m\u001b[37m\u001b[0m \u001b[1m1s\u001b[0m 22ms/step - accuracy: 0.7731 - loss: 0.4602\n",
      "Test Loss: 0.45381155610084534\n",
      "Test Accuracy: 0.778333306312561\n"
     ]
    }
   ],
   "source": [
    "\n",
    "# Plot training & validation accuracy values\n",
    "plt.figure(figsize=(12, 6))\n",
    "plt.subplot(1, 2, 1)\n",
    "plt.plot(model.history.history['accuracy'])\n",
    "plt.plot(model.history.history['val_accuracy'])\n",
    "plt.title('Model accuracy')\n",
    "plt.ylabel('Accuracy')\n",
    "plt.xlabel('Epoch')\n",
    "plt.legend(['Train', 'Validation'], loc='upper left')\n",
    "\n",
    "# Plot training & validation loss values\n",
    "plt.subplot(1, 2, 2)\n",
    "plt.plot(model.history.history['loss'])\n",
    "plt.plot(model.history.history['val_loss'])\n",
    "plt.title('Model loss')\n",
    "plt.ylabel('Loss')\n",
    "plt.xlabel('Epoch')\n",
    "plt.legend(['Train', 'Validation'], loc='upper left')\n",
    "\n",
    "plt.show()\n",
    "\n",
    "# 5. Evaluate model\n",
    "loss, accuracy = model.evaluate(X_test, y_test)\n",
    "print(\"Test Loss:\", loss)\n",
    "print(\"Test Accuracy:\", accuracy)"
   ]
  }
 ],
 "metadata": {
  "kernelspec": {
   "display_name": "venv",
   "language": "python",
   "name": "python3"
  },
  "language_info": {
   "codemirror_mode": {
    "name": "ipython",
    "version": 3
   },
   "file_extension": ".py",
   "mimetype": "text/x-python",
   "name": "python",
   "nbconvert_exporter": "python",
   "pygments_lexer": "ipython3",
   "version": "3.10.15"
  }
 },
 "nbformat": 4,
 "nbformat_minor": 2
}
